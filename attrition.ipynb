{
 "cells": [
  {
   "cell_type": "markdown",
   "metadata": {
    "id": "alIIEHibGc3M"
   },
   "source": [
    "## Part 1: Preprocessing"
   ]
  },
  {
   "cell_type": "code",
   "execution_count": 1,
   "metadata": {
    "colab": {
     "base_uri": "https://localhost:8080/",
     "height": 324
    },
    "executionInfo": {
     "elapsed": 17553,
     "status": "ok",
     "timestamp": 1736626879412,
     "user": {
      "displayName": "G R",
      "userId": "01677386158693807048"
     },
     "user_tz": 480
    },
    "id": "6eDUJ4NtGc3P",
    "outputId": "431c5a49-441c-4c97-ad20-4a05add83b29"
   },
   "outputs": [
    {
     "name": "stderr",
     "output_type": "stream",
     "text": [
      "2025-01-11 13:57:22.821838: I tensorflow/core/platform/cpu_feature_guard.cc:210] This TensorFlow binary is optimized to use available CPU instructions in performance-critical operations.\n",
      "To enable the following instructions: AVX2 AVX512F AVX512_VNNI FMA, in other operations, rebuild TensorFlow with the appropriate compiler flags.\n"
     ]
    },
    {
     "data": {
      "text/html": [
       "<div>\n",
       "<style scoped>\n",
       "    .dataframe tbody tr th:only-of-type {\n",
       "        vertical-align: middle;\n",
       "    }\n",
       "\n",
       "    .dataframe tbody tr th {\n",
       "        vertical-align: top;\n",
       "    }\n",
       "\n",
       "    .dataframe thead th {\n",
       "        text-align: right;\n",
       "    }\n",
       "</style>\n",
       "<table border=\"1\" class=\"dataframe\">\n",
       "  <thead>\n",
       "    <tr style=\"text-align: right;\">\n",
       "      <th></th>\n",
       "      <th>Age</th>\n",
       "      <th>Attrition</th>\n",
       "      <th>BusinessTravel</th>\n",
       "      <th>Department</th>\n",
       "      <th>DistanceFromHome</th>\n",
       "      <th>Education</th>\n",
       "      <th>EducationField</th>\n",
       "      <th>EnvironmentSatisfaction</th>\n",
       "      <th>HourlyRate</th>\n",
       "      <th>JobInvolvement</th>\n",
       "      <th>...</th>\n",
       "      <th>PerformanceRating</th>\n",
       "      <th>RelationshipSatisfaction</th>\n",
       "      <th>StockOptionLevel</th>\n",
       "      <th>TotalWorkingYears</th>\n",
       "      <th>TrainingTimesLastYear</th>\n",
       "      <th>WorkLifeBalance</th>\n",
       "      <th>YearsAtCompany</th>\n",
       "      <th>YearsInCurrentRole</th>\n",
       "      <th>YearsSinceLastPromotion</th>\n",
       "      <th>YearsWithCurrManager</th>\n",
       "    </tr>\n",
       "  </thead>\n",
       "  <tbody>\n",
       "    <tr>\n",
       "      <th>0</th>\n",
       "      <td>41</td>\n",
       "      <td>Yes</td>\n",
       "      <td>Travel_Rarely</td>\n",
       "      <td>Sales</td>\n",
       "      <td>1</td>\n",
       "      <td>2</td>\n",
       "      <td>Life Sciences</td>\n",
       "      <td>2</td>\n",
       "      <td>94</td>\n",
       "      <td>3</td>\n",
       "      <td>...</td>\n",
       "      <td>3</td>\n",
       "      <td>1</td>\n",
       "      <td>0</td>\n",
       "      <td>8</td>\n",
       "      <td>0</td>\n",
       "      <td>1</td>\n",
       "      <td>6</td>\n",
       "      <td>4</td>\n",
       "      <td>0</td>\n",
       "      <td>5</td>\n",
       "    </tr>\n",
       "    <tr>\n",
       "      <th>1</th>\n",
       "      <td>49</td>\n",
       "      <td>No</td>\n",
       "      <td>Travel_Frequently</td>\n",
       "      <td>Research &amp; Development</td>\n",
       "      <td>8</td>\n",
       "      <td>1</td>\n",
       "      <td>Life Sciences</td>\n",
       "      <td>3</td>\n",
       "      <td>61</td>\n",
       "      <td>2</td>\n",
       "      <td>...</td>\n",
       "      <td>4</td>\n",
       "      <td>4</td>\n",
       "      <td>1</td>\n",
       "      <td>10</td>\n",
       "      <td>3</td>\n",
       "      <td>3</td>\n",
       "      <td>10</td>\n",
       "      <td>7</td>\n",
       "      <td>1</td>\n",
       "      <td>7</td>\n",
       "    </tr>\n",
       "    <tr>\n",
       "      <th>2</th>\n",
       "      <td>37</td>\n",
       "      <td>Yes</td>\n",
       "      <td>Travel_Rarely</td>\n",
       "      <td>Research &amp; Development</td>\n",
       "      <td>2</td>\n",
       "      <td>2</td>\n",
       "      <td>Other</td>\n",
       "      <td>4</td>\n",
       "      <td>92</td>\n",
       "      <td>2</td>\n",
       "      <td>...</td>\n",
       "      <td>3</td>\n",
       "      <td>2</td>\n",
       "      <td>0</td>\n",
       "      <td>7</td>\n",
       "      <td>3</td>\n",
       "      <td>3</td>\n",
       "      <td>0</td>\n",
       "      <td>0</td>\n",
       "      <td>0</td>\n",
       "      <td>0</td>\n",
       "    </tr>\n",
       "    <tr>\n",
       "      <th>3</th>\n",
       "      <td>33</td>\n",
       "      <td>No</td>\n",
       "      <td>Travel_Frequently</td>\n",
       "      <td>Research &amp; Development</td>\n",
       "      <td>3</td>\n",
       "      <td>4</td>\n",
       "      <td>Life Sciences</td>\n",
       "      <td>4</td>\n",
       "      <td>56</td>\n",
       "      <td>3</td>\n",
       "      <td>...</td>\n",
       "      <td>3</td>\n",
       "      <td>3</td>\n",
       "      <td>0</td>\n",
       "      <td>8</td>\n",
       "      <td>3</td>\n",
       "      <td>3</td>\n",
       "      <td>8</td>\n",
       "      <td>7</td>\n",
       "      <td>3</td>\n",
       "      <td>0</td>\n",
       "    </tr>\n",
       "    <tr>\n",
       "      <th>4</th>\n",
       "      <td>27</td>\n",
       "      <td>No</td>\n",
       "      <td>Travel_Rarely</td>\n",
       "      <td>Research &amp; Development</td>\n",
       "      <td>2</td>\n",
       "      <td>1</td>\n",
       "      <td>Medical</td>\n",
       "      <td>1</td>\n",
       "      <td>40</td>\n",
       "      <td>3</td>\n",
       "      <td>...</td>\n",
       "      <td>3</td>\n",
       "      <td>4</td>\n",
       "      <td>1</td>\n",
       "      <td>6</td>\n",
       "      <td>3</td>\n",
       "      <td>3</td>\n",
       "      <td>2</td>\n",
       "      <td>2</td>\n",
       "      <td>2</td>\n",
       "      <td>2</td>\n",
       "    </tr>\n",
       "  </tbody>\n",
       "</table>\n",
       "<p>5 rows × 27 columns</p>\n",
       "</div>"
      ],
      "text/plain": [
       "   Age Attrition     BusinessTravel              Department  DistanceFromHome  \\\n",
       "0   41       Yes      Travel_Rarely                   Sales                 1   \n",
       "1   49        No  Travel_Frequently  Research & Development                 8   \n",
       "2   37       Yes      Travel_Rarely  Research & Development                 2   \n",
       "3   33        No  Travel_Frequently  Research & Development                 3   \n",
       "4   27        No      Travel_Rarely  Research & Development                 2   \n",
       "\n",
       "   Education EducationField  EnvironmentSatisfaction  HourlyRate  \\\n",
       "0          2  Life Sciences                        2          94   \n",
       "1          1  Life Sciences                        3          61   \n",
       "2          2          Other                        4          92   \n",
       "3          4  Life Sciences                        4          56   \n",
       "4          1        Medical                        1          40   \n",
       "\n",
       "   JobInvolvement  ...  PerformanceRating RelationshipSatisfaction  \\\n",
       "0               3  ...                  3                        1   \n",
       "1               2  ...                  4                        4   \n",
       "2               2  ...                  3                        2   \n",
       "3               3  ...                  3                        3   \n",
       "4               3  ...                  3                        4   \n",
       "\n",
       "   StockOptionLevel TotalWorkingYears  TrainingTimesLastYear WorkLifeBalance  \\\n",
       "0                 0                 8                      0               1   \n",
       "1                 1                10                      3               3   \n",
       "2                 0                 7                      3               3   \n",
       "3                 0                 8                      3               3   \n",
       "4                 1                 6                      3               3   \n",
       "\n",
       "   YearsAtCompany  YearsInCurrentRole  YearsSinceLastPromotion  \\\n",
       "0               6                   4                        0   \n",
       "1              10                   7                        1   \n",
       "2               0                   0                        0   \n",
       "3               8                   7                        3   \n",
       "4               2                   2                        2   \n",
       "\n",
       "   YearsWithCurrManager  \n",
       "0                     5  \n",
       "1                     7  \n",
       "2                     0  \n",
       "3                     0  \n",
       "4                     2  \n",
       "\n",
       "[5 rows x 27 columns]"
      ]
     },
     "execution_count": 1,
     "metadata": {},
     "output_type": "execute_result"
    }
   ],
   "source": [
    "# Import our dependencies\n",
    "from sklearn.model_selection import train_test_split\n",
    "from sklearn.preprocessing import StandardScaler,  OneHotEncoder\n",
    "import pandas as pd\n",
    "import numpy as np\n",
    "from tensorflow.keras.models import Model\n",
    "from tensorflow.keras import layers\n",
    "\n",
    "#  Import and read the attrition data\n",
    "attrition_df = pd.read_csv('https://static.bc-edx.com/ai/ail-v-1-0/m19/lms/datasets/attrition.csv')\n",
    "attrition_df.head()"
   ]
  },
  {
   "cell_type": "code",
   "execution_count": 2,
   "metadata": {
    "colab": {
     "base_uri": "https://localhost:8080/"
    },
    "executionInfo": {
     "elapsed": 137,
     "status": "ok",
     "timestamp": 1736627202188,
     "user": {
      "displayName": "G R",
      "userId": "01677386158693807048"
     },
     "user_tz": 480
    },
    "id": "g22aQSY4Gc3Q",
    "outputId": "bf9bd12b-7656-4e29-94c9-b25776d1e6c2"
   },
   "outputs": [
    {
     "data": {
      "text/plain": [
       "Age                         43\n",
       "Attrition                    2\n",
       "BusinessTravel               3\n",
       "Department                   3\n",
       "DistanceFromHome            29\n",
       "Education                    5\n",
       "EducationField               6\n",
       "EnvironmentSatisfaction      4\n",
       "HourlyRate                  71\n",
       "JobInvolvement               4\n",
       "JobLevel                     5\n",
       "JobRole                      9\n",
       "JobSatisfaction              4\n",
       "MaritalStatus                3\n",
       "NumCompaniesWorked          10\n",
       "OverTime                     2\n",
       "PercentSalaryHike           15\n",
       "PerformanceRating            2\n",
       "RelationshipSatisfaction     4\n",
       "StockOptionLevel             4\n",
       "TotalWorkingYears           40\n",
       "TrainingTimesLastYear        7\n",
       "WorkLifeBalance              4\n",
       "YearsAtCompany              37\n",
       "YearsInCurrentRole          19\n",
       "YearsSinceLastPromotion     16\n",
       "YearsWithCurrManager        18\n",
       "dtype: int64"
      ]
     },
     "execution_count": 2,
     "metadata": {},
     "output_type": "execute_result"
    }
   ],
   "source": [
    "# Determine the number of unique values in each column.\n",
    "attrition_df.nunique()\n",
    "# attrition_df['Attrition'].value_counts()\n",
    "# attrition_df['Department'].value_counts()"
   ]
  },
  {
   "cell_type": "code",
   "execution_count": 3,
   "metadata": {
    "executionInfo": {
     "elapsed": 104,
     "status": "ok",
     "timestamp": 1736627687663,
     "user": {
      "displayName": "G R",
      "userId": "01677386158693807048"
     },
     "user_tz": 480
    },
    "id": "50vMgBEnJbfM"
   },
   "outputs": [],
   "source": [
    "# Create y_df with the Attrition and Department columns\n",
    "y_df = attrition_df[['Attrition', 'Department']]"
   ]
  },
  {
   "cell_type": "code",
   "execution_count": 4,
   "metadata": {
    "colab": {
     "base_uri": "https://localhost:8080/"
    },
    "executionInfo": {
     "elapsed": 112,
     "status": "ok",
     "timestamp": 1736627688543,
     "user": {
      "displayName": "G R",
      "userId": "01677386158693807048"
     },
     "user_tz": 480
    },
    "id": "Virka0zLGc3R",
    "outputId": "e26788b2-2011-4252-b930-78f30d5d1954"
   },
   "outputs": [
    {
     "data": {
      "text/plain": [
       "(1470, 10)"
      ]
     },
     "execution_count": 4,
     "metadata": {},
     "output_type": "execute_result"
    }
   ],
   "source": [
    "# Create a list of at least 10 column names to use as X data\n",
    "X = ['Education','Age', 'DistanceFromHome', 'JobSatisfaction','OverTime', 'StockOptionLevel', 'WorkLifeBalance', 'YearsAtCompany','YearsSinceLastPromotion','NumCompaniesWorked']\n",
    "\n",
    "# Create X_df using your selected columns\n",
    "X_df = attrition_df[X]\n",
    "\n",
    "# Show the data types for X_df\n",
    "X_df.dtypes\n",
    "X_df.shape\n"
   ]
  },
  {
   "cell_type": "code",
   "execution_count": 5,
   "metadata": {
    "executionInfo": {
     "elapsed": 92,
     "status": "ok",
     "timestamp": 1736627738232,
     "user": {
      "displayName": "G R",
      "userId": "01677386158693807048"
     },
     "user_tz": 480
    },
    "id": "KaJfdOGUMHMR"
   },
   "outputs": [],
   "source": [
    "# Split the data into training and testing sets\n",
    "from sklearn.model_selection import train_test_split\n",
    "X_train, X_test, y_train, y_test = train_test_split(X_df, y_df, random_state=40)"
   ]
  },
  {
   "cell_type": "code",
   "execution_count": 6,
   "metadata": {
    "colab": {
     "base_uri": "https://localhost:8080/",
     "height": 423
    },
    "executionInfo": {
     "elapsed": 114,
     "status": "ok",
     "timestamp": 1736627739121,
     "user": {
      "displayName": "G R",
      "userId": "01677386158693807048"
     },
     "user_tz": 480
    },
    "id": "NYubUJqiLCSp",
    "outputId": "5a0c4ccf-ea41-4fbf-ed84-c59bef9fd0d7"
   },
   "outputs": [
    {
     "data": {
      "text/html": [
       "<div>\n",
       "<style scoped>\n",
       "    .dataframe tbody tr th:only-of-type {\n",
       "        vertical-align: middle;\n",
       "    }\n",
       "\n",
       "    .dataframe tbody tr th {\n",
       "        vertical-align: top;\n",
       "    }\n",
       "\n",
       "    .dataframe thead th {\n",
       "        text-align: right;\n",
       "    }\n",
       "</style>\n",
       "<table border=\"1\" class=\"dataframe\">\n",
       "  <thead>\n",
       "    <tr style=\"text-align: right;\">\n",
       "      <th></th>\n",
       "      <th>Education</th>\n",
       "      <th>Age</th>\n",
       "      <th>DistanceFromHome</th>\n",
       "      <th>JobSatisfaction</th>\n",
       "      <th>StockOptionLevel</th>\n",
       "      <th>WorkLifeBalance</th>\n",
       "      <th>YearsAtCompany</th>\n",
       "      <th>YearsSinceLastPromotion</th>\n",
       "      <th>NumCompaniesWorked</th>\n",
       "      <th>OverTime_Yes</th>\n",
       "    </tr>\n",
       "  </thead>\n",
       "  <tbody>\n",
       "    <tr>\n",
       "      <th>1456</th>\n",
       "      <td>4.0</td>\n",
       "      <td>35.0</td>\n",
       "      <td>18.0</td>\n",
       "      <td>3.0</td>\n",
       "      <td>2.0</td>\n",
       "      <td>4.0</td>\n",
       "      <td>10.0</td>\n",
       "      <td>0.0</td>\n",
       "      <td>1.0</td>\n",
       "      <td>1.0</td>\n",
       "    </tr>\n",
       "    <tr>\n",
       "      <th>236</th>\n",
       "      <td>2.0</td>\n",
       "      <td>33.0</td>\n",
       "      <td>2.0</td>\n",
       "      <td>1.0</td>\n",
       "      <td>0.0</td>\n",
       "      <td>4.0</td>\n",
       "      <td>9.0</td>\n",
       "      <td>1.0</td>\n",
       "      <td>7.0</td>\n",
       "      <td>0.0</td>\n",
       "    </tr>\n",
       "    <tr>\n",
       "      <th>70</th>\n",
       "      <td>1.0</td>\n",
       "      <td>59.0</td>\n",
       "      <td>1.0</td>\n",
       "      <td>3.0</td>\n",
       "      <td>0.0</td>\n",
       "      <td>2.0</td>\n",
       "      <td>4.0</td>\n",
       "      <td>1.0</td>\n",
       "      <td>7.0</td>\n",
       "      <td>0.0</td>\n",
       "    </tr>\n",
       "    <tr>\n",
       "      <th>42</th>\n",
       "      <td>3.0</td>\n",
       "      <td>26.0</td>\n",
       "      <td>25.0</td>\n",
       "      <td>3.0</td>\n",
       "      <td>0.0</td>\n",
       "      <td>2.0</td>\n",
       "      <td>1.0</td>\n",
       "      <td>0.0</td>\n",
       "      <td>1.0</td>\n",
       "      <td>0.0</td>\n",
       "    </tr>\n",
       "    <tr>\n",
       "      <th>454</th>\n",
       "      <td>3.0</td>\n",
       "      <td>29.0</td>\n",
       "      <td>19.0</td>\n",
       "      <td>4.0</td>\n",
       "      <td>2.0</td>\n",
       "      <td>4.0</td>\n",
       "      <td>3.0</td>\n",
       "      <td>1.0</td>\n",
       "      <td>4.0</td>\n",
       "      <td>0.0</td>\n",
       "    </tr>\n",
       "    <tr>\n",
       "      <th>...</th>\n",
       "      <td>...</td>\n",
       "      <td>...</td>\n",
       "      <td>...</td>\n",
       "      <td>...</td>\n",
       "      <td>...</td>\n",
       "      <td>...</td>\n",
       "      <td>...</td>\n",
       "      <td>...</td>\n",
       "      <td>...</td>\n",
       "      <td>...</td>\n",
       "    </tr>\n",
       "    <tr>\n",
       "      <th>702</th>\n",
       "      <td>2.0</td>\n",
       "      <td>30.0</td>\n",
       "      <td>8.0</td>\n",
       "      <td>3.0</td>\n",
       "      <td>1.0</td>\n",
       "      <td>4.0</td>\n",
       "      <td>8.0</td>\n",
       "      <td>7.0</td>\n",
       "      <td>5.0</td>\n",
       "      <td>0.0</td>\n",
       "    </tr>\n",
       "    <tr>\n",
       "      <th>436</th>\n",
       "      <td>1.0</td>\n",
       "      <td>33.0</td>\n",
       "      <td>10.0</td>\n",
       "      <td>4.0</td>\n",
       "      <td>3.0</td>\n",
       "      <td>3.0</td>\n",
       "      <td>4.0</td>\n",
       "      <td>1.0</td>\n",
       "      <td>7.0</td>\n",
       "      <td>0.0</td>\n",
       "    </tr>\n",
       "    <tr>\n",
       "      <th>1194</th>\n",
       "      <td>4.0</td>\n",
       "      <td>47.0</td>\n",
       "      <td>2.0</td>\n",
       "      <td>2.0</td>\n",
       "      <td>3.0</td>\n",
       "      <td>3.0</td>\n",
       "      <td>3.0</td>\n",
       "      <td>1.0</td>\n",
       "      <td>6.0</td>\n",
       "      <td>0.0</td>\n",
       "    </tr>\n",
       "    <tr>\n",
       "      <th>1248</th>\n",
       "      <td>3.0</td>\n",
       "      <td>27.0</td>\n",
       "      <td>8.0</td>\n",
       "      <td>4.0</td>\n",
       "      <td>0.0</td>\n",
       "      <td>2.0</td>\n",
       "      <td>6.0</td>\n",
       "      <td>1.0</td>\n",
       "      <td>1.0</td>\n",
       "      <td>0.0</td>\n",
       "    </tr>\n",
       "    <tr>\n",
       "      <th>9</th>\n",
       "      <td>3.0</td>\n",
       "      <td>36.0</td>\n",
       "      <td>27.0</td>\n",
       "      <td>3.0</td>\n",
       "      <td>2.0</td>\n",
       "      <td>2.0</td>\n",
       "      <td>7.0</td>\n",
       "      <td>7.0</td>\n",
       "      <td>6.0</td>\n",
       "      <td>0.0</td>\n",
       "    </tr>\n",
       "  </tbody>\n",
       "</table>\n",
       "<p>368 rows × 10 columns</p>\n",
       "</div>"
      ],
      "text/plain": [
       "      Education   Age  DistanceFromHome  JobSatisfaction  StockOptionLevel  \\\n",
       "1456        4.0  35.0              18.0              3.0               2.0   \n",
       "236         2.0  33.0               2.0              1.0               0.0   \n",
       "70          1.0  59.0               1.0              3.0               0.0   \n",
       "42          3.0  26.0              25.0              3.0               0.0   \n",
       "454         3.0  29.0              19.0              4.0               2.0   \n",
       "...         ...   ...               ...              ...               ...   \n",
       "702         2.0  30.0               8.0              3.0               1.0   \n",
       "436         1.0  33.0              10.0              4.0               3.0   \n",
       "1194        4.0  47.0               2.0              2.0               3.0   \n",
       "1248        3.0  27.0               8.0              4.0               0.0   \n",
       "9           3.0  36.0              27.0              3.0               2.0   \n",
       "\n",
       "      WorkLifeBalance  YearsAtCompany  YearsSinceLastPromotion  \\\n",
       "1456              4.0            10.0                      0.0   \n",
       "236               4.0             9.0                      1.0   \n",
       "70                2.0             4.0                      1.0   \n",
       "42                2.0             1.0                      0.0   \n",
       "454               4.0             3.0                      1.0   \n",
       "...               ...             ...                      ...   \n",
       "702               4.0             8.0                      7.0   \n",
       "436               3.0             4.0                      1.0   \n",
       "1194              3.0             3.0                      1.0   \n",
       "1248              2.0             6.0                      1.0   \n",
       "9                 2.0             7.0                      7.0   \n",
       "\n",
       "      NumCompaniesWorked  OverTime_Yes  \n",
       "1456                 1.0           1.0  \n",
       "236                  7.0           0.0  \n",
       "70                   7.0           0.0  \n",
       "42                   1.0           0.0  \n",
       "454                  4.0           0.0  \n",
       "...                  ...           ...  \n",
       "702                  5.0           0.0  \n",
       "436                  7.0           0.0  \n",
       "1194                 6.0           0.0  \n",
       "1248                 1.0           0.0  \n",
       "9                    6.0           0.0  \n",
       "\n",
       "[368 rows x 10 columns]"
      ]
     },
     "execution_count": 6,
     "metadata": {},
     "output_type": "execute_result"
    }
   ],
   "source": [
    "# Convert your X data to numeric data types however you see fit\n",
    "# Add new code cells as necessary\n",
    "X_train = pd.get_dummies(X_train)\n",
    "X_train = X_train.astype('float32')\n",
    "X_test = pd.get_dummies(X_test)\n",
    "X_test = X_test.astype('float32')\n",
    "X_train.drop(columns=['OverTime_No'], inplace=True)\n",
    "X_train\n",
    "X_test.drop(columns=['OverTime_No'],inplace=True)\n",
    "X_test"
   ]
  },
  {
   "cell_type": "code",
   "execution_count": 7,
   "metadata": {
    "colab": {
     "base_uri": "https://localhost:8080/"
    },
    "executionInfo": {
     "elapsed": 118,
     "status": "ok",
     "timestamp": 1736627741896,
     "user": {
      "displayName": "G R",
      "userId": "01677386158693807048"
     },
     "user_tz": 480
    },
    "id": "EWA-aIA5Gc3T",
    "outputId": "9ca90260-fe5e-4b85-cade-97e757c9cc01"
   },
   "outputs": [
    {
     "data": {
      "text/plain": [
       "array([[ 1.057603  , -0.2079682 ,  1.0654545 , ..., -0.6858722 ,\n",
       "        -0.6774326 ,  1.5948067 ],\n",
       "       [-0.92281926, -0.42812285, -0.8961299 , ..., -0.3669561 ,\n",
       "         1.7294369 , -0.62703526],\n",
       "       [-1.9130304 ,  2.4338872 , -1.018729  , ..., -0.3669561 ,\n",
       "         1.7294369 , -0.62703526],\n",
       "       ...,\n",
       "       [ 1.057603  ,  1.1129596 , -0.8961299 , ..., -0.3669561 ,\n",
       "         1.328292  , -0.62703526],\n",
       "       [ 0.06739186, -1.0885867 , -0.16053575, ..., -0.3669561 ,\n",
       "        -0.6774326 , -0.62703526],\n",
       "       [ 0.06739186, -0.09789089,  2.168846  , ...,  1.5465405 ,\n",
       "         1.328292  , -0.62703526]], dtype=float32)"
      ]
     },
     "execution_count": 7,
     "metadata": {},
     "output_type": "execute_result"
    }
   ],
   "source": [
    "# Create a StandardScaler\n",
    "scaler = StandardScaler()\n",
    "# Fit the StandardScaler to the training data\n",
    "scaler.fit(X_train)\n",
    "# Scale the training and testing data\n",
    "X_train_scaled = scaler.transform(X_train)\n",
    "X_test_scaled = scaler.transform(X_test)\n",
    "X_train_scaled\n",
    "X_test_scaled"
   ]
  },
  {
   "cell_type": "code",
   "execution_count": 8,
   "metadata": {
    "colab": {
     "base_uri": "https://localhost:8080/"
    },
    "executionInfo": {
     "elapsed": 85,
     "status": "ok",
     "timestamp": 1736627744172,
     "user": {
      "displayName": "G R",
      "userId": "01677386158693807048"
     },
     "user_tz": 480
    },
    "id": "-z0Mky8vQSz4",
    "outputId": "9679dd58-2da0-4181-f113-c36ebad842a2"
   },
   "outputs": [
    {
     "data": {
      "text/plain": [
       "array([[0., 1., 0.],\n",
       "       [0., 1., 0.],\n",
       "       [0., 0., 1.],\n",
       "       ...,\n",
       "       [0., 0., 1.],\n",
       "       [0., 1., 0.],\n",
       "       [0., 1., 0.]])"
      ]
     },
     "execution_count": 8,
     "metadata": {},
     "output_type": "execute_result"
    }
   ],
   "source": [
    "# Create a OneHotEncoder for the Department column\n",
    "ohe = OneHotEncoder()\n",
    "\n",
    "# Fit the encoder to the Department column in the training data\n",
    "ohe.fit(y_train[['Department']])\n",
    "\n",
    "# Create two new variables by applying the encoder\n",
    "# to the training and testing data\n",
    "y_train_encoded_department = ohe.transform(y_train[['Department']]).toarray()\n",
    "y_test_encoded_department= ohe.transform(y_test[['Department']]).toarray()\n",
    "y_train_encoded_department\n",
    "y_test_encoded_department"
   ]
  },
  {
   "cell_type": "code",
   "execution_count": 9,
   "metadata": {
    "colab": {
     "base_uri": "https://localhost:8080/"
    },
    "executionInfo": {
     "elapsed": 94,
     "status": "ok",
     "timestamp": 1736627789668,
     "user": {
      "displayName": "G R",
      "userId": "01677386158693807048"
     },
     "user_tz": 480
    },
    "id": "-G4DSpvFRrk4",
    "outputId": "5cb73321-43a1-4d10-ca6e-007f6f163dcc"
   },
   "outputs": [],
   "source": [
    "# Create a OneHotEncoder for the Attrition column\n",
    "ohe = OneHotEncoder()\n",
    "\n",
    "# Fit the encoder to the training data\n",
    "\n",
    "ohe.fit(y_train[['Attrition']])\n",
    "\n",
    "# Create two new variables by applying the encoder\n",
    "# to the training and testing data\n",
    "y_train_encoded_attrition = ohe.transform(y_train[['Attrition']]).toarray()\n",
    "y_test_encoded_attrition = ohe.transform(y_test[['Attrition']]).toarray()\n"
   ]
  },
  {
   "cell_type": "markdown",
   "metadata": {
    "id": "ykNmu_WWGc3T"
   },
   "source": [
    "## Create, Compile, and Train the Model"
   ]
  },
  {
   "cell_type": "code",
   "execution_count": 10,
   "metadata": {
    "executionInfo": {
     "elapsed": 93,
     "status": "ok",
     "timestamp": 1736627797703,
     "user": {
      "displayName": "G R",
      "userId": "01677386158693807048"
     },
     "user_tz": 480
    },
    "id": "WUptZqmSGc3T"
   },
   "outputs": [],
   "source": [
    "# Find the number of columns in the X training data\n",
    "X_train_scaled.shape\n",
    "\n",
    "# Create the input layer\n",
    "input_layer = layers.Input(shape=(X_train_scaled.shape[1],))\n",
    "\n",
    "# # Create at least two shared layers\n",
    "shared_layer1 = layers.Dense(64, activation='relu', name='shared_layer1')(input_layer)\n",
    "shared_layer2 = layers.Dense(128, activation='relu', name = 'shared_layer2')(shared_layer1)"
   ]
  },
  {
   "cell_type": "code",
   "execution_count": 11,
   "metadata": {
    "executionInfo": {
     "elapsed": 87,
     "status": "ok",
     "timestamp": 1736627802421,
     "user": {
      "displayName": "G R",
      "userId": "01677386158693807048"
     },
     "user_tz": 480
    },
    "id": "JukjTm2yTEqd"
   },
   "outputs": [],
   "source": [
    "# Create a branch for Department\n",
    "# with a hidden layer and an output layer\n",
    "# Create the hidden layer\n",
    "department_hidden = layers.Dense(32, activation='relu', name='department_hidden')(shared_layer2)\n",
    "\n",
    "# Create the output layer\n",
    "department_output = layers.Dense(3, activation='softmax', name='department_output')(department_hidden)"
   ]
  },
  {
   "cell_type": "code",
   "execution_count": 12,
   "metadata": {
    "executionInfo": {
     "elapsed": 119,
     "status": "ok",
     "timestamp": 1736627806169,
     "user": {
      "displayName": "G R",
      "userId": "01677386158693807048"
     },
     "user_tz": 480
    },
    "id": "9OqhUiOJUBkR"
   },
   "outputs": [],
   "source": [
    "# Create a branch for Attrition\n",
    "# with a hidden layer and an output layer\n",
    "# Create the hidden layer\n",
    "attrition_hidden = layers.Dense(32, activation='relu',name='attrition_hidden')(shared_layer2)\n",
    "\n",
    "# Create the output layer\n",
    "attrition_output = layers.Dense(2, activation='sigmoid', name='attrition_output')(attrition_hidden)"
   ]
  },
  {
   "cell_type": "code",
   "execution_count": 13,
   "metadata": {
    "colab": {
     "base_uri": "https://localhost:8080/",
     "height": 371
    },
    "executionInfo": {
     "elapsed": 90,
     "status": "ok",
     "timestamp": 1736627811051,
     "user": {
      "displayName": "G R",
      "userId": "01677386158693807048"
     },
     "user_tz": 480
    },
    "id": "pevyFKTcBs-j",
    "outputId": "8774ebd4-05e9-4c5f-ada2-5e0bd52b9f68"
   },
   "outputs": [
    {
     "data": {
      "text/html": [
       "<pre style=\"white-space:pre;overflow-x:auto;line-height:normal;font-family:Menlo,'DejaVu Sans Mono',consolas,'Courier New',monospace\"><span style=\"font-weight: bold\">Model: \"functional\"</span>\n",
       "</pre>\n"
      ],
      "text/plain": [
       "\u001b[1mModel: \"functional\"\u001b[0m\n"
      ]
     },
     "metadata": {},
     "output_type": "display_data"
    },
    {
     "data": {
      "text/html": [
       "<pre style=\"white-space:pre;overflow-x:auto;line-height:normal;font-family:Menlo,'DejaVu Sans Mono',consolas,'Courier New',monospace\">┏━━━━━━━━━━━━━━━━━━━━━┳━━━━━━━━━━━━━━━━━━━┳━━━━━━━━━━━━┳━━━━━━━━━━━━━━━━━━━┓\n",
       "┃<span style=\"font-weight: bold\"> Layer (type)        </span>┃<span style=\"font-weight: bold\"> Output Shape      </span>┃<span style=\"font-weight: bold\">    Param # </span>┃<span style=\"font-weight: bold\"> Connected to      </span>┃\n",
       "┡━━━━━━━━━━━━━━━━━━━━━╇━━━━━━━━━━━━━━━━━━━╇━━━━━━━━━━━━╇━━━━━━━━━━━━━━━━━━━┩\n",
       "│ input_layer         │ (<span style=\"color: #00d7ff; text-decoration-color: #00d7ff\">None</span>, <span style=\"color: #00af00; text-decoration-color: #00af00\">10</span>)        │          <span style=\"color: #00af00; text-decoration-color: #00af00\">0</span> │ -                 │\n",
       "│ (<span style=\"color: #0087ff; text-decoration-color: #0087ff\">InputLayer</span>)        │                   │            │                   │\n",
       "├─────────────────────┼───────────────────┼────────────┼───────────────────┤\n",
       "│ shared_layer1       │ (<span style=\"color: #00d7ff; text-decoration-color: #00d7ff\">None</span>, <span style=\"color: #00af00; text-decoration-color: #00af00\">64</span>)        │        <span style=\"color: #00af00; text-decoration-color: #00af00\">704</span> │ input_layer[<span style=\"color: #00af00; text-decoration-color: #00af00\">0</span>][<span style=\"color: #00af00; text-decoration-color: #00af00\">0</span>] │\n",
       "│ (<span style=\"color: #0087ff; text-decoration-color: #0087ff\">Dense</span>)             │                   │            │                   │\n",
       "├─────────────────────┼───────────────────┼────────────┼───────────────────┤\n",
       "│ shared_layer2       │ (<span style=\"color: #00d7ff; text-decoration-color: #00d7ff\">None</span>, <span style=\"color: #00af00; text-decoration-color: #00af00\">128</span>)       │      <span style=\"color: #00af00; text-decoration-color: #00af00\">8,320</span> │ shared_layer1[<span style=\"color: #00af00; text-decoration-color: #00af00\">0</span>]… │\n",
       "│ (<span style=\"color: #0087ff; text-decoration-color: #0087ff\">Dense</span>)             │                   │            │                   │\n",
       "├─────────────────────┼───────────────────┼────────────┼───────────────────┤\n",
       "│ department_hidden   │ (<span style=\"color: #00d7ff; text-decoration-color: #00d7ff\">None</span>, <span style=\"color: #00af00; text-decoration-color: #00af00\">32</span>)        │      <span style=\"color: #00af00; text-decoration-color: #00af00\">4,128</span> │ shared_layer2[<span style=\"color: #00af00; text-decoration-color: #00af00\">0</span>]… │\n",
       "│ (<span style=\"color: #0087ff; text-decoration-color: #0087ff\">Dense</span>)             │                   │            │                   │\n",
       "├─────────────────────┼───────────────────┼────────────┼───────────────────┤\n",
       "│ attrition_hidden    │ (<span style=\"color: #00d7ff; text-decoration-color: #00d7ff\">None</span>, <span style=\"color: #00af00; text-decoration-color: #00af00\">32</span>)        │      <span style=\"color: #00af00; text-decoration-color: #00af00\">4,128</span> │ shared_layer2[<span style=\"color: #00af00; text-decoration-color: #00af00\">0</span>]… │\n",
       "│ (<span style=\"color: #0087ff; text-decoration-color: #0087ff\">Dense</span>)             │                   │            │                   │\n",
       "├─────────────────────┼───────────────────┼────────────┼───────────────────┤\n",
       "│ department_output   │ (<span style=\"color: #00d7ff; text-decoration-color: #00d7ff\">None</span>, <span style=\"color: #00af00; text-decoration-color: #00af00\">3</span>)         │         <span style=\"color: #00af00; text-decoration-color: #00af00\">99</span> │ department_hidde… │\n",
       "│ (<span style=\"color: #0087ff; text-decoration-color: #0087ff\">Dense</span>)             │                   │            │                   │\n",
       "├─────────────────────┼───────────────────┼────────────┼───────────────────┤\n",
       "│ attrition_output    │ (<span style=\"color: #00d7ff; text-decoration-color: #00d7ff\">None</span>, <span style=\"color: #00af00; text-decoration-color: #00af00\">2</span>)         │         <span style=\"color: #00af00; text-decoration-color: #00af00\">66</span> │ attrition_hidden… │\n",
       "│ (<span style=\"color: #0087ff; text-decoration-color: #0087ff\">Dense</span>)             │                   │            │                   │\n",
       "└─────────────────────┴───────────────────┴────────────┴───────────────────┘\n",
       "</pre>\n"
      ],
      "text/plain": [
       "┏━━━━━━━━━━━━━━━━━━━━━┳━━━━━━━━━━━━━━━━━━━┳━━━━━━━━━━━━┳━━━━━━━━━━━━━━━━━━━┓\n",
       "┃\u001b[1m \u001b[0m\u001b[1mLayer (type)       \u001b[0m\u001b[1m \u001b[0m┃\u001b[1m \u001b[0m\u001b[1mOutput Shape     \u001b[0m\u001b[1m \u001b[0m┃\u001b[1m \u001b[0m\u001b[1m   Param #\u001b[0m\u001b[1m \u001b[0m┃\u001b[1m \u001b[0m\u001b[1mConnected to     \u001b[0m\u001b[1m \u001b[0m┃\n",
       "┡━━━━━━━━━━━━━━━━━━━━━╇━━━━━━━━━━━━━━━━━━━╇━━━━━━━━━━━━╇━━━━━━━━━━━━━━━━━━━┩\n",
       "│ input_layer         │ (\u001b[38;5;45mNone\u001b[0m, \u001b[38;5;34m10\u001b[0m)        │          \u001b[38;5;34m0\u001b[0m │ -                 │\n",
       "│ (\u001b[38;5;33mInputLayer\u001b[0m)        │                   │            │                   │\n",
       "├─────────────────────┼───────────────────┼────────────┼───────────────────┤\n",
       "│ shared_layer1       │ (\u001b[38;5;45mNone\u001b[0m, \u001b[38;5;34m64\u001b[0m)        │        \u001b[38;5;34m704\u001b[0m │ input_layer[\u001b[38;5;34m0\u001b[0m][\u001b[38;5;34m0\u001b[0m] │\n",
       "│ (\u001b[38;5;33mDense\u001b[0m)             │                   │            │                   │\n",
       "├─────────────────────┼───────────────────┼────────────┼───────────────────┤\n",
       "│ shared_layer2       │ (\u001b[38;5;45mNone\u001b[0m, \u001b[38;5;34m128\u001b[0m)       │      \u001b[38;5;34m8,320\u001b[0m │ shared_layer1[\u001b[38;5;34m0\u001b[0m]… │\n",
       "│ (\u001b[38;5;33mDense\u001b[0m)             │                   │            │                   │\n",
       "├─────────────────────┼───────────────────┼────────────┼───────────────────┤\n",
       "│ department_hidden   │ (\u001b[38;5;45mNone\u001b[0m, \u001b[38;5;34m32\u001b[0m)        │      \u001b[38;5;34m4,128\u001b[0m │ shared_layer2[\u001b[38;5;34m0\u001b[0m]… │\n",
       "│ (\u001b[38;5;33mDense\u001b[0m)             │                   │            │                   │\n",
       "├─────────────────────┼───────────────────┼────────────┼───────────────────┤\n",
       "│ attrition_hidden    │ (\u001b[38;5;45mNone\u001b[0m, \u001b[38;5;34m32\u001b[0m)        │      \u001b[38;5;34m4,128\u001b[0m │ shared_layer2[\u001b[38;5;34m0\u001b[0m]… │\n",
       "│ (\u001b[38;5;33mDense\u001b[0m)             │                   │            │                   │\n",
       "├─────────────────────┼───────────────────┼────────────┼───────────────────┤\n",
       "│ department_output   │ (\u001b[38;5;45mNone\u001b[0m, \u001b[38;5;34m3\u001b[0m)         │         \u001b[38;5;34m99\u001b[0m │ department_hidde… │\n",
       "│ (\u001b[38;5;33mDense\u001b[0m)             │                   │            │                   │\n",
       "├─────────────────────┼───────────────────┼────────────┼───────────────────┤\n",
       "│ attrition_output    │ (\u001b[38;5;45mNone\u001b[0m, \u001b[38;5;34m2\u001b[0m)         │         \u001b[38;5;34m66\u001b[0m │ attrition_hidden… │\n",
       "│ (\u001b[38;5;33mDense\u001b[0m)             │                   │            │                   │\n",
       "└─────────────────────┴───────────────────┴────────────┴───────────────────┘\n"
      ]
     },
     "metadata": {},
     "output_type": "display_data"
    },
    {
     "data": {
      "text/html": [
       "<pre style=\"white-space:pre;overflow-x:auto;line-height:normal;font-family:Menlo,'DejaVu Sans Mono',consolas,'Courier New',monospace\"><span style=\"font-weight: bold\"> Total params: </span><span style=\"color: #00af00; text-decoration-color: #00af00\">17,445</span> (68.14 KB)\n",
       "</pre>\n"
      ],
      "text/plain": [
       "\u001b[1m Total params: \u001b[0m\u001b[38;5;34m17,445\u001b[0m (68.14 KB)\n"
      ]
     },
     "metadata": {},
     "output_type": "display_data"
    },
    {
     "data": {
      "text/html": [
       "<pre style=\"white-space:pre;overflow-x:auto;line-height:normal;font-family:Menlo,'DejaVu Sans Mono',consolas,'Courier New',monospace\"><span style=\"font-weight: bold\"> Trainable params: </span><span style=\"color: #00af00; text-decoration-color: #00af00\">17,445</span> (68.14 KB)\n",
       "</pre>\n"
      ],
      "text/plain": [
       "\u001b[1m Trainable params: \u001b[0m\u001b[38;5;34m17,445\u001b[0m (68.14 KB)\n"
      ]
     },
     "metadata": {},
     "output_type": "display_data"
    },
    {
     "data": {
      "text/html": [
       "<pre style=\"white-space:pre;overflow-x:auto;line-height:normal;font-family:Menlo,'DejaVu Sans Mono',consolas,'Courier New',monospace\"><span style=\"font-weight: bold\"> Non-trainable params: </span><span style=\"color: #00af00; text-decoration-color: #00af00\">0</span> (0.00 B)\n",
       "</pre>\n"
      ],
      "text/plain": [
       "\u001b[1m Non-trainable params: \u001b[0m\u001b[38;5;34m0\u001b[0m (0.00 B)\n"
      ]
     },
     "metadata": {},
     "output_type": "display_data"
    }
   ],
   "source": [
    "# Create the model\n",
    "model = Model(inputs=input_layer, outputs=[department_output, attrition_output])\n",
    "\n",
    "# Compile the model\n",
    "model.compile(optimizer='adam',\n",
    "              loss={'department_output': 'categorical_crossentropy',\n",
    "                    'attrition_output': 'categorical_crossentropy'},\n",
    "              metrics={'department_output': 'accuracy',\n",
    "                       'attrition_output': 'accuracy'})\n",
    "\n",
    "# Summarize the model\n",
    "model.summary()"
   ]
  },
  {
   "cell_type": "code",
   "execution_count": 14,
   "metadata": {
    "colab": {
     "base_uri": "https://localhost:8080/",
     "height": 373
    },
    "executionInfo": {
     "elapsed": 186,
     "status": "error",
     "timestamp": 1736627928875,
     "user": {
      "displayName": "G R",
      "userId": "01677386158693807048"
     },
     "user_tz": 480
    },
    "id": "c8oGy0dpGc3U",
    "outputId": "3b967e46-35bd-4ff6-d7ec-2dca443645ef"
   },
   "outputs": [
    {
     "name": "stdout",
     "output_type": "stream",
     "text": [
      "Epoch 1/100\n",
      "\u001b[1m35/35\u001b[0m \u001b[32m━━━━━━━━━━━━━━━━━━━━\u001b[0m\u001b[37m\u001b[0m \u001b[1m4s\u001b[0m 27ms/step - attrition_output_accuracy: 0.6814 - attrition_output_loss: 0.6026 - department_output_accuracy: 0.4694 - department_output_loss: 0.9802 - loss: 1.5826 - val_attrition_output_accuracy: 0.8451 - val_attrition_output_loss: 0.4453 - val_department_output_accuracy: 0.6576 - val_department_output_loss: 0.7647 - val_loss: 1.2206\n",
      "Epoch 2/100\n",
      "\u001b[1m35/35\u001b[0m \u001b[32m━━━━━━━━━━━━━━━━━━━━\u001b[0m\u001b[37m\u001b[0m \u001b[1m0s\u001b[0m 12ms/step - attrition_output_accuracy: 0.8417 - attrition_output_loss: 0.4200 - department_output_accuracy: 0.6478 - department_output_loss: 0.7690 - loss: 1.1891 - val_attrition_output_accuracy: 0.8451 - val_attrition_output_loss: 0.4001 - val_department_output_accuracy: 0.6576 - val_department_output_loss: 0.7626 - val_loss: 1.1707\n",
      "Epoch 3/100\n",
      "\u001b[1m35/35\u001b[0m \u001b[32m━━━━━━━━━━━━━━━━━━━━\u001b[0m\u001b[37m\u001b[0m \u001b[1m0s\u001b[0m 6ms/step - attrition_output_accuracy: 0.8274 - attrition_output_loss: 0.3994 - department_output_accuracy: 0.6407 - department_output_loss: 0.7806 - loss: 1.1800 - val_attrition_output_accuracy: 0.8505 - val_attrition_output_loss: 0.3830 - val_department_output_accuracy: 0.6576 - val_department_output_loss: 0.7608 - val_loss: 1.1510\n",
      "Epoch 4/100\n",
      "\u001b[1m35/35\u001b[0m \u001b[32m━━━━━━━━━━━━━━━━━━━━\u001b[0m\u001b[37m\u001b[0m \u001b[1m0s\u001b[0m 9ms/step - attrition_output_accuracy: 0.8185 - attrition_output_loss: 0.4099 - department_output_accuracy: 0.6760 - department_output_loss: 0.7504 - loss: 1.1604 - val_attrition_output_accuracy: 0.8560 - val_attrition_output_loss: 0.3760 - val_department_output_accuracy: 0.6576 - val_department_output_loss: 0.7626 - val_loss: 1.1466\n",
      "Epoch 5/100\n",
      "\u001b[1m35/35\u001b[0m \u001b[32m━━━━━━━━━━━━━━━━━━━━\u001b[0m\u001b[37m\u001b[0m \u001b[1m0s\u001b[0m 8ms/step - attrition_output_accuracy: 0.8408 - attrition_output_loss: 0.3780 - department_output_accuracy: 0.6486 - department_output_loss: 0.7609 - loss: 1.1383 - val_attrition_output_accuracy: 0.8750 - val_attrition_output_loss: 0.3653 - val_department_output_accuracy: 0.6576 - val_department_output_loss: 0.7615 - val_loss: 1.1359\n",
      "Epoch 6/100\n",
      "\u001b[1m35/35\u001b[0m \u001b[32m━━━━━━━━━━━━━━━━━━━━\u001b[0m\u001b[37m\u001b[0m \u001b[1m0s\u001b[0m 6ms/step - attrition_output_accuracy: 0.8709 - attrition_output_loss: 0.3334 - department_output_accuracy: 0.6667 - department_output_loss: 0.7334 - loss: 1.0668 - val_attrition_output_accuracy: 0.8668 - val_attrition_output_loss: 0.3589 - val_department_output_accuracy: 0.6576 - val_department_output_loss: 0.7593 - val_loss: 1.1278\n",
      "Epoch 7/100\n",
      "\u001b[1m35/35\u001b[0m \u001b[32m━━━━━━━━━━━━━━━━━━━━\u001b[0m\u001b[37m\u001b[0m \u001b[1m0s\u001b[0m 7ms/step - attrition_output_accuracy: 0.8566 - attrition_output_loss: 0.3465 - department_output_accuracy: 0.6546 - department_output_loss: 0.7323 - loss: 1.0789 - val_attrition_output_accuracy: 0.8723 - val_attrition_output_loss: 0.3534 - val_department_output_accuracy: 0.6603 - val_department_output_loss: 0.7664 - val_loss: 1.1298\n",
      "Epoch 8/100\n",
      "\u001b[1m35/35\u001b[0m \u001b[32m━━━━━━━━━━━━━━━━━━━━\u001b[0m\u001b[37m\u001b[0m \u001b[1m0s\u001b[0m 9ms/step - attrition_output_accuracy: 0.8571 - attrition_output_loss: 0.3353 - department_output_accuracy: 0.6512 - department_output_loss: 0.7349 - loss: 1.0703 - val_attrition_output_accuracy: 0.8696 - val_attrition_output_loss: 0.3549 - val_department_output_accuracy: 0.6603 - val_department_output_loss: 0.7716 - val_loss: 1.1375\n",
      "Epoch 9/100\n",
      "\u001b[1m35/35\u001b[0m \u001b[32m━━━━━━━━━━━━━━━━━━━━\u001b[0m\u001b[37m\u001b[0m \u001b[1m0s\u001b[0m 8ms/step - attrition_output_accuracy: 0.8653 - attrition_output_loss: 0.3317 - department_output_accuracy: 0.6567 - department_output_loss: 0.7290 - loss: 1.0605 - val_attrition_output_accuracy: 0.8777 - val_attrition_output_loss: 0.3499 - val_department_output_accuracy: 0.6576 - val_department_output_loss: 0.7743 - val_loss: 1.1345\n",
      "Epoch 10/100\n",
      "\u001b[1m35/35\u001b[0m \u001b[32m━━━━━━━━━━━━━━━━━━━━\u001b[0m\u001b[37m\u001b[0m \u001b[1m0s\u001b[0m 7ms/step - attrition_output_accuracy: 0.8814 - attrition_output_loss: 0.2990 - department_output_accuracy: 0.6664 - department_output_loss: 0.7133 - loss: 1.0121 - val_attrition_output_accuracy: 0.8804 - val_attrition_output_loss: 0.3479 - val_department_output_accuracy: 0.6168 - val_department_output_loss: 0.7749 - val_loss: 1.1336\n",
      "Epoch 11/100\n",
      "\u001b[1m35/35\u001b[0m \u001b[32m━━━━━━━━━━━━━━━━━━━━\u001b[0m\u001b[37m\u001b[0m \u001b[1m0s\u001b[0m 7ms/step - attrition_output_accuracy: 0.8897 - attrition_output_loss: 0.2930 - department_output_accuracy: 0.6626 - department_output_loss: 0.7069 - loss: 0.9995 - val_attrition_output_accuracy: 0.8886 - val_attrition_output_loss: 0.3590 - val_department_output_accuracy: 0.6549 - val_department_output_loss: 0.7818 - val_loss: 1.1525\n",
      "Epoch 12/100\n",
      "\u001b[1m35/35\u001b[0m \u001b[32m━━━━━━━━━━━━━━━━━━━━\u001b[0m\u001b[37m\u001b[0m \u001b[1m0s\u001b[0m 10ms/step - attrition_output_accuracy: 0.8758 - attrition_output_loss: 0.3199 - department_output_accuracy: 0.6690 - department_output_loss: 0.6952 - loss: 1.0154 - val_attrition_output_accuracy: 0.8886 - val_attrition_output_loss: 0.3489 - val_department_output_accuracy: 0.6359 - val_department_output_loss: 0.7783 - val_loss: 1.1393\n",
      "Epoch 13/100\n",
      "\u001b[1m35/35\u001b[0m \u001b[32m━━━━━━━━━━━━━━━━━━━━\u001b[0m\u001b[37m\u001b[0m \u001b[1m0s\u001b[0m 12ms/step - attrition_output_accuracy: 0.8881 - attrition_output_loss: 0.2874 - department_output_accuracy: 0.6816 - department_output_loss: 0.6889 - loss: 0.9761 - val_attrition_output_accuracy: 0.8750 - val_attrition_output_loss: 0.3436 - val_department_output_accuracy: 0.6223 - val_department_output_loss: 0.7806 - val_loss: 1.1374\n",
      "Epoch 14/100\n",
      "\u001b[1m35/35\u001b[0m \u001b[32m━━━━━━━━━━━━━━━━━━━━\u001b[0m\u001b[37m\u001b[0m \u001b[1m0s\u001b[0m 10ms/step - attrition_output_accuracy: 0.8891 - attrition_output_loss: 0.2931 - department_output_accuracy: 0.7010 - department_output_loss: 0.6794 - loss: 0.9729 - val_attrition_output_accuracy: 0.8696 - val_attrition_output_loss: 0.3412 - val_department_output_accuracy: 0.6440 - val_department_output_loss: 0.7919 - val_loss: 1.1466\n",
      "Epoch 15/100\n",
      "\u001b[1m35/35\u001b[0m \u001b[32m━━━━━━━━━━━━━━━━━━━━\u001b[0m\u001b[37m\u001b[0m \u001b[1m0s\u001b[0m 9ms/step - attrition_output_accuracy: 0.8925 - attrition_output_loss: 0.2786 - department_output_accuracy: 0.6990 - department_output_loss: 0.6664 - loss: 0.9447 - val_attrition_output_accuracy: 0.8723 - val_attrition_output_loss: 0.3458 - val_department_output_accuracy: 0.5897 - val_department_output_loss: 0.7948 - val_loss: 1.1546\n",
      "Epoch 16/100\n",
      "\u001b[1m35/35\u001b[0m \u001b[32m━━━━━━━━━━━━━━━━━━━━\u001b[0m\u001b[37m\u001b[0m \u001b[1m0s\u001b[0m 7ms/step - attrition_output_accuracy: 0.8953 - attrition_output_loss: 0.2591 - department_output_accuracy: 0.6911 - department_output_loss: 0.6810 - loss: 0.9403 - val_attrition_output_accuracy: 0.8832 - val_attrition_output_loss: 0.3491 - val_department_output_accuracy: 0.5870 - val_department_output_loss: 0.8086 - val_loss: 1.1715\n",
      "Epoch 17/100\n",
      "\u001b[1m35/35\u001b[0m \u001b[32m━━━━━━━━━━━━━━━━━━━━\u001b[0m\u001b[37m\u001b[0m \u001b[1m0s\u001b[0m 6ms/step - attrition_output_accuracy: 0.8906 - attrition_output_loss: 0.2847 - department_output_accuracy: 0.7392 - department_output_loss: 0.6321 - loss: 0.9171 - val_attrition_output_accuracy: 0.8723 - val_attrition_output_loss: 0.3437 - val_department_output_accuracy: 0.6114 - val_department_output_loss: 0.8058 - val_loss: 1.1645\n",
      "Epoch 18/100\n",
      "\u001b[1m35/35\u001b[0m \u001b[32m━━━━━━━━━━━━━━━━━━━━\u001b[0m\u001b[37m\u001b[0m \u001b[1m0s\u001b[0m 6ms/step - attrition_output_accuracy: 0.9060 - attrition_output_loss: 0.2407 - department_output_accuracy: 0.7232 - department_output_loss: 0.6450 - loss: 0.8857 - val_attrition_output_accuracy: 0.8832 - val_attrition_output_loss: 0.3504 - val_department_output_accuracy: 0.6114 - val_department_output_loss: 0.8144 - val_loss: 1.1813\n",
      "Epoch 19/100\n",
      "\u001b[1m35/35\u001b[0m \u001b[32m━━━━━━━━━━━━━━━━━━━━\u001b[0m\u001b[37m\u001b[0m \u001b[1m0s\u001b[0m 6ms/step - attrition_output_accuracy: 0.9026 - attrition_output_loss: 0.2775 - department_output_accuracy: 0.7529 - department_output_loss: 0.6233 - loss: 0.9007 - val_attrition_output_accuracy: 0.8750 - val_attrition_output_loss: 0.3379 - val_department_output_accuracy: 0.5598 - val_department_output_loss: 0.8454 - val_loss: 1.1989\n",
      "Epoch 20/100\n",
      "\u001b[1m35/35\u001b[0m \u001b[32m━━━━━━━━━━━━━━━━━━━━\u001b[0m\u001b[37m\u001b[0m \u001b[1m0s\u001b[0m 6ms/step - attrition_output_accuracy: 0.9060 - attrition_output_loss: 0.2442 - department_output_accuracy: 0.7153 - department_output_loss: 0.6342 - loss: 0.8782 - val_attrition_output_accuracy: 0.8804 - val_attrition_output_loss: 0.3428 - val_department_output_accuracy: 0.6386 - val_department_output_loss: 0.8320 - val_loss: 1.1921\n",
      "Epoch 21/100\n",
      "\u001b[1m35/35\u001b[0m \u001b[32m━━━━━━━━━━━━━━━━━━━━\u001b[0m\u001b[37m\u001b[0m \u001b[1m0s\u001b[0m 8ms/step - attrition_output_accuracy: 0.8970 - attrition_output_loss: 0.2390 - department_output_accuracy: 0.7360 - department_output_loss: 0.5934 - loss: 0.8324 - val_attrition_output_accuracy: 0.8832 - val_attrition_output_loss: 0.3498 - val_department_output_accuracy: 0.5924 - val_department_output_loss: 0.8256 - val_loss: 1.1916\n",
      "Epoch 22/100\n",
      "\u001b[1m35/35\u001b[0m \u001b[32m━━━━━━━━━━━━━━━━━━━━\u001b[0m\u001b[37m\u001b[0m \u001b[1m0s\u001b[0m 5ms/step - attrition_output_accuracy: 0.8885 - attrition_output_loss: 0.2658 - department_output_accuracy: 0.7470 - department_output_loss: 0.6013 - loss: 0.8672 - val_attrition_output_accuracy: 0.8804 - val_attrition_output_loss: 0.3479 - val_department_output_accuracy: 0.5842 - val_department_output_loss: 0.8594 - val_loss: 1.2265\n",
      "Epoch 23/100\n",
      "\u001b[1m35/35\u001b[0m \u001b[32m━━━━━━━━━━━━━━━━━━━━\u001b[0m\u001b[37m\u001b[0m \u001b[1m0s\u001b[0m 6ms/step - attrition_output_accuracy: 0.9099 - attrition_output_loss: 0.2590 - department_output_accuracy: 0.7765 - department_output_loss: 0.5483 - loss: 0.8073 - val_attrition_output_accuracy: 0.8696 - val_attrition_output_loss: 0.3545 - val_department_output_accuracy: 0.5543 - val_department_output_loss: 0.8717 - val_loss: 1.2413\n",
      "Epoch 24/100\n",
      "\u001b[1m35/35\u001b[0m \u001b[32m━━━━━━━━━━━━━━━━━━━━\u001b[0m\u001b[37m\u001b[0m \u001b[1m0s\u001b[0m 6ms/step - attrition_output_accuracy: 0.9147 - attrition_output_loss: 0.2210 - department_output_accuracy: 0.7705 - department_output_loss: 0.5429 - loss: 0.7638 - val_attrition_output_accuracy: 0.8777 - val_attrition_output_loss: 0.3570 - val_department_output_accuracy: 0.5870 - val_department_output_loss: 0.8816 - val_loss: 1.2556\n",
      "Epoch 25/100\n",
      "\u001b[1m35/35\u001b[0m \u001b[32m━━━━━━━━━━━━━━━━━━━━\u001b[0m\u001b[37m\u001b[0m \u001b[1m0s\u001b[0m 6ms/step - attrition_output_accuracy: 0.9374 - attrition_output_loss: 0.1962 - department_output_accuracy: 0.7913 - department_output_loss: 0.5207 - loss: 0.7171 - val_attrition_output_accuracy: 0.8614 - val_attrition_output_loss: 0.3653 - val_department_output_accuracy: 0.6141 - val_department_output_loss: 0.9088 - val_loss: 1.2933\n",
      "Epoch 26/100\n",
      "\u001b[1m35/35\u001b[0m \u001b[32m━━━━━━━━━━━━━━━━━━━━\u001b[0m\u001b[37m\u001b[0m \u001b[1m0s\u001b[0m 6ms/step - attrition_output_accuracy: 0.9215 - attrition_output_loss: 0.2335 - department_output_accuracy: 0.7884 - department_output_loss: 0.5304 - loss: 0.7637 - val_attrition_output_accuracy: 0.8641 - val_attrition_output_loss: 0.3627 - val_department_output_accuracy: 0.5625 - val_department_output_loss: 0.9078 - val_loss: 1.2873\n",
      "Epoch 27/100\n",
      "\u001b[1m35/35\u001b[0m \u001b[32m━━━━━━━━━━━━━━━━━━━━\u001b[0m\u001b[37m\u001b[0m \u001b[1m0s\u001b[0m 5ms/step - attrition_output_accuracy: 0.9224 - attrition_output_loss: 0.2087 - department_output_accuracy: 0.7858 - department_output_loss: 0.5122 - loss: 0.7208 - val_attrition_output_accuracy: 0.8777 - val_attrition_output_loss: 0.3671 - val_department_output_accuracy: 0.5571 - val_department_output_loss: 0.9267 - val_loss: 1.3112\n",
      "Epoch 28/100\n",
      "\u001b[1m35/35\u001b[0m \u001b[32m━━━━━━━━━━━━━━━━━━━━\u001b[0m\u001b[37m\u001b[0m \u001b[1m0s\u001b[0m 5ms/step - attrition_output_accuracy: 0.9332 - attrition_output_loss: 0.1912 - department_output_accuracy: 0.8000 - department_output_loss: 0.5015 - loss: 0.6926 - val_attrition_output_accuracy: 0.8750 - val_attrition_output_loss: 0.3685 - val_department_output_accuracy: 0.5679 - val_department_output_loss: 0.9569 - val_loss: 1.3458\n",
      "Epoch 29/100\n",
      "\u001b[1m35/35\u001b[0m \u001b[32m━━━━━━━━━━━━━━━━━━━━\u001b[0m\u001b[37m\u001b[0m \u001b[1m0s\u001b[0m 5ms/step - attrition_output_accuracy: 0.9201 - attrition_output_loss: 0.2023 - department_output_accuracy: 0.7963 - department_output_loss: 0.4904 - loss: 0.6927 - val_attrition_output_accuracy: 0.8696 - val_attrition_output_loss: 0.3735 - val_department_output_accuracy: 0.5788 - val_department_output_loss: 0.9675 - val_loss: 1.3616\n",
      "Epoch 30/100\n",
      "\u001b[1m35/35\u001b[0m \u001b[32m━━━━━━━━━━━━━━━━━━━━\u001b[0m\u001b[37m\u001b[0m \u001b[1m0s\u001b[0m 5ms/step - attrition_output_accuracy: 0.9254 - attrition_output_loss: 0.1937 - department_output_accuracy: 0.8097 - department_output_loss: 0.4653 - loss: 0.6589 - val_attrition_output_accuracy: 0.8587 - val_attrition_output_loss: 0.3928 - val_department_output_accuracy: 0.5897 - val_department_output_loss: 0.9745 - val_loss: 1.3876\n",
      "Epoch 31/100\n",
      "\u001b[1m35/35\u001b[0m \u001b[32m━━━━━━━━━━━━━━━━━━━━\u001b[0m\u001b[37m\u001b[0m \u001b[1m0s\u001b[0m 5ms/step - attrition_output_accuracy: 0.9435 - attrition_output_loss: 0.1718 - department_output_accuracy: 0.7901 - department_output_loss: 0.4757 - loss: 0.6474 - val_attrition_output_accuracy: 0.8777 - val_attrition_output_loss: 0.3721 - val_department_output_accuracy: 0.5625 - val_department_output_loss: 0.9784 - val_loss: 1.3702\n",
      "Epoch 32/100\n",
      "\u001b[1m35/35\u001b[0m \u001b[32m━━━━━━━━━━━━━━━━━━━━\u001b[0m\u001b[37m\u001b[0m \u001b[1m0s\u001b[0m 6ms/step - attrition_output_accuracy: 0.9345 - attrition_output_loss: 0.1717 - department_output_accuracy: 0.8457 - department_output_loss: 0.4313 - loss: 0.6032 - val_attrition_output_accuracy: 0.8614 - val_attrition_output_loss: 0.3936 - val_department_output_accuracy: 0.5571 - val_department_output_loss: 0.9988 - val_loss: 1.4073\n",
      "Epoch 33/100\n",
      "\u001b[1m35/35\u001b[0m \u001b[32m━━━━━━━━━━━━━━━━━━━━\u001b[0m\u001b[37m\u001b[0m \u001b[1m0s\u001b[0m 6ms/step - attrition_output_accuracy: 0.9421 - attrition_output_loss: 0.1710 - department_output_accuracy: 0.8271 - department_output_loss: 0.4369 - loss: 0.6081 - val_attrition_output_accuracy: 0.8533 - val_attrition_output_loss: 0.4058 - val_department_output_accuracy: 0.5870 - val_department_output_loss: 0.9982 - val_loss: 1.4213\n",
      "Epoch 34/100\n",
      "\u001b[1m35/35\u001b[0m \u001b[32m━━━━━━━━━━━━━━━━━━━━\u001b[0m\u001b[37m\u001b[0m \u001b[1m0s\u001b[0m 8ms/step - attrition_output_accuracy: 0.9466 - attrition_output_loss: 0.1654 - department_output_accuracy: 0.8240 - department_output_loss: 0.4085 - loss: 0.5738 - val_attrition_output_accuracy: 0.8804 - val_attrition_output_loss: 0.4048 - val_department_output_accuracy: 0.5679 - val_department_output_loss: 1.0946 - val_loss: 1.5153\n",
      "Epoch 35/100\n",
      "\u001b[1m35/35\u001b[0m \u001b[32m━━━━━━━━━━━━━━━━━━━━\u001b[0m\u001b[37m\u001b[0m \u001b[1m0s\u001b[0m 6ms/step - attrition_output_accuracy: 0.9550 - attrition_output_loss: 0.1319 - department_output_accuracy: 0.8323 - department_output_loss: 0.3990 - loss: 0.5305 - val_attrition_output_accuracy: 0.8614 - val_attrition_output_loss: 0.4151 - val_department_output_accuracy: 0.5625 - val_department_output_loss: 1.0523 - val_loss: 1.4897\n",
      "Epoch 36/100\n",
      "\u001b[1m35/35\u001b[0m \u001b[32m━━━━━━━━━━━━━━━━━━━━\u001b[0m\u001b[37m\u001b[0m \u001b[1m0s\u001b[0m 6ms/step - attrition_output_accuracy: 0.9589 - attrition_output_loss: 0.1249 - department_output_accuracy: 0.8457 - department_output_loss: 0.3880 - loss: 0.5126 - val_attrition_output_accuracy: 0.8478 - val_attrition_output_loss: 0.4019 - val_department_output_accuracy: 0.5380 - val_department_output_loss: 1.0987 - val_loss: 1.5218\n",
      "Epoch 37/100\n",
      "\u001b[1m35/35\u001b[0m \u001b[32m━━━━━━━━━━━━━━━━━━━━\u001b[0m\u001b[37m\u001b[0m \u001b[1m0s\u001b[0m 6ms/step - attrition_output_accuracy: 0.9581 - attrition_output_loss: 0.1257 - department_output_accuracy: 0.8633 - department_output_loss: 0.3708 - loss: 0.4966 - val_attrition_output_accuracy: 0.8587 - val_attrition_output_loss: 0.4146 - val_department_output_accuracy: 0.5679 - val_department_output_loss: 1.0686 - val_loss: 1.5067\n",
      "Epoch 38/100\n",
      "\u001b[1m35/35\u001b[0m \u001b[32m━━━━━━━━━━━━━━━━━━━━\u001b[0m\u001b[37m\u001b[0m \u001b[1m0s\u001b[0m 6ms/step - attrition_output_accuracy: 0.9619 - attrition_output_loss: 0.1174 - department_output_accuracy: 0.8770 - department_output_loss: 0.3313 - loss: 0.4486 - val_attrition_output_accuracy: 0.8777 - val_attrition_output_loss: 0.4297 - val_department_output_accuracy: 0.5842 - val_department_output_loss: 1.1236 - val_loss: 1.5714\n",
      "Epoch 39/100\n",
      "\u001b[1m35/35\u001b[0m \u001b[32m━━━━━━━━━━━━━━━━━━━━\u001b[0m\u001b[37m\u001b[0m \u001b[1m0s\u001b[0m 6ms/step - attrition_output_accuracy: 0.9592 - attrition_output_loss: 0.1184 - department_output_accuracy: 0.8812 - department_output_loss: 0.3515 - loss: 0.4699 - val_attrition_output_accuracy: 0.8533 - val_attrition_output_loss: 0.4407 - val_department_output_accuracy: 0.5707 - val_department_output_loss: 1.1388 - val_loss: 1.6015\n",
      "Epoch 40/100\n",
      "\u001b[1m35/35\u001b[0m \u001b[32m━━━━━━━━━━━━━━━━━━━━\u001b[0m\u001b[37m\u001b[0m \u001b[1m0s\u001b[0m 6ms/step - attrition_output_accuracy: 0.9693 - attrition_output_loss: 0.1085 - department_output_accuracy: 0.8782 - department_output_loss: 0.3264 - loss: 0.4346 - val_attrition_output_accuracy: 0.8587 - val_attrition_output_loss: 0.4424 - val_department_output_accuracy: 0.6141 - val_department_output_loss: 1.1711 - val_loss: 1.6398\n",
      "Epoch 41/100\n",
      "\u001b[1m35/35\u001b[0m \u001b[32m━━━━━━━━━━━━━━━━━━━━\u001b[0m\u001b[37m\u001b[0m \u001b[1m0s\u001b[0m 6ms/step - attrition_output_accuracy: 0.9514 - attrition_output_loss: 0.1193 - department_output_accuracy: 0.8768 - department_output_loss: 0.3334 - loss: 0.4525 - val_attrition_output_accuracy: 0.8614 - val_attrition_output_loss: 0.4415 - val_department_output_accuracy: 0.5707 - val_department_output_loss: 1.1731 - val_loss: 1.6368\n",
      "Epoch 42/100\n",
      "\u001b[1m35/35\u001b[0m \u001b[32m━━━━━━━━━━━━━━━━━━━━\u001b[0m\u001b[37m\u001b[0m \u001b[1m0s\u001b[0m 7ms/step - attrition_output_accuracy: 0.9504 - attrition_output_loss: 0.1091 - department_output_accuracy: 0.8901 - department_output_loss: 0.3119 - loss: 0.4211 - val_attrition_output_accuracy: 0.8533 - val_attrition_output_loss: 0.4564 - val_department_output_accuracy: 0.5652 - val_department_output_loss: 1.1770 - val_loss: 1.6583\n",
      "Epoch 43/100\n",
      "\u001b[1m35/35\u001b[0m \u001b[32m━━━━━━━━━━━━━━━━━━━━\u001b[0m\u001b[37m\u001b[0m \u001b[1m0s\u001b[0m 6ms/step - attrition_output_accuracy: 0.9654 - attrition_output_loss: 0.0919 - department_output_accuracy: 0.9080 - department_output_loss: 0.2848 - loss: 0.3769 - val_attrition_output_accuracy: 0.8288 - val_attrition_output_loss: 0.5017 - val_department_output_accuracy: 0.6033 - val_department_output_loss: 1.2689 - val_loss: 1.7964\n",
      "Epoch 44/100\n",
      "\u001b[1m35/35\u001b[0m \u001b[32m━━━━━━━━━━━━━━━━━━━━\u001b[0m\u001b[37m\u001b[0m \u001b[1m0s\u001b[0m 6ms/step - attrition_output_accuracy: 0.9719 - attrition_output_loss: 0.0973 - department_output_accuracy: 0.8869 - department_output_loss: 0.2898 - loss: 0.3871 - val_attrition_output_accuracy: 0.8560 - val_attrition_output_loss: 0.4819 - val_department_output_accuracy: 0.5978 - val_department_output_loss: 1.3105 - val_loss: 1.8196\n",
      "Epoch 45/100\n",
      "\u001b[1m35/35\u001b[0m \u001b[32m━━━━━━━━━━━━━━━━━━━━\u001b[0m\u001b[37m\u001b[0m \u001b[1m0s\u001b[0m 6ms/step - attrition_output_accuracy: 0.9807 - attrition_output_loss: 0.0806 - department_output_accuracy: 0.8844 - department_output_loss: 0.2848 - loss: 0.3654 - val_attrition_output_accuracy: 0.8614 - val_attrition_output_loss: 0.4808 - val_department_output_accuracy: 0.5788 - val_department_output_loss: 1.3033 - val_loss: 1.8094\n",
      "Epoch 46/100\n",
      "\u001b[1m35/35\u001b[0m \u001b[32m━━━━━━━━━━━━━━━━━━━━\u001b[0m\u001b[37m\u001b[0m \u001b[1m0s\u001b[0m 6ms/step - attrition_output_accuracy: 0.9774 - attrition_output_loss: 0.0887 - department_output_accuracy: 0.9109 - department_output_loss: 0.2583 - loss: 0.3468 - val_attrition_output_accuracy: 0.8587 - val_attrition_output_loss: 0.4908 - val_department_output_accuracy: 0.5734 - val_department_output_loss: 1.2703 - val_loss: 1.7897\n",
      "Epoch 47/100\n",
      "\u001b[1m35/35\u001b[0m \u001b[32m━━━━━━━━━━━━━━━━━━━━\u001b[0m\u001b[37m\u001b[0m \u001b[1m0s\u001b[0m 8ms/step - attrition_output_accuracy: 0.9760 - attrition_output_loss: 0.0763 - department_output_accuracy: 0.9193 - department_output_loss: 0.2411 - loss: 0.3173 - val_attrition_output_accuracy: 0.8533 - val_attrition_output_loss: 0.4994 - val_department_output_accuracy: 0.5462 - val_department_output_loss: 1.3258 - val_loss: 1.8512\n",
      "Epoch 48/100\n",
      "\u001b[1m35/35\u001b[0m \u001b[32m━━━━━━━━━━━━━━━━━━━━\u001b[0m\u001b[37m\u001b[0m \u001b[1m0s\u001b[0m 6ms/step - attrition_output_accuracy: 0.9789 - attrition_output_loss: 0.0713 - department_output_accuracy: 0.9268 - department_output_loss: 0.2353 - loss: 0.3066 - val_attrition_output_accuracy: 0.8505 - val_attrition_output_loss: 0.5117 - val_department_output_accuracy: 0.5598 - val_department_output_loss: 1.3948 - val_loss: 1.9359\n",
      "Epoch 49/100\n",
      "\u001b[1m35/35\u001b[0m \u001b[32m━━━━━━━━━━━━━━━━━━━━\u001b[0m\u001b[37m\u001b[0m \u001b[1m0s\u001b[0m 6ms/step - attrition_output_accuracy: 0.9793 - attrition_output_loss: 0.0681 - department_output_accuracy: 0.9213 - department_output_loss: 0.2290 - loss: 0.2972 - val_attrition_output_accuracy: 0.8723 - val_attrition_output_loss: 0.5241 - val_department_output_accuracy: 0.5734 - val_department_output_loss: 1.4199 - val_loss: 1.9687\n",
      "Epoch 50/100\n",
      "\u001b[1m35/35\u001b[0m \u001b[32m━━━━━━━━━━━━━━━━━━━━\u001b[0m\u001b[37m\u001b[0m \u001b[1m0s\u001b[0m 6ms/step - attrition_output_accuracy: 0.9839 - attrition_output_loss: 0.0626 - department_output_accuracy: 0.9080 - department_output_loss: 0.2567 - loss: 0.3194 - val_attrition_output_accuracy: 0.8533 - val_attrition_output_loss: 0.5380 - val_department_output_accuracy: 0.5380 - val_department_output_loss: 1.3952 - val_loss: 1.9658\n",
      "Epoch 51/100\n",
      "\u001b[1m35/35\u001b[0m \u001b[32m━━━━━━━━━━━━━━━━━━━━\u001b[0m\u001b[37m\u001b[0m \u001b[1m0s\u001b[0m 6ms/step - attrition_output_accuracy: 0.9912 - attrition_output_loss: 0.0597 - department_output_accuracy: 0.9321 - department_output_loss: 0.2035 - loss: 0.2633 - val_attrition_output_accuracy: 0.8668 - val_attrition_output_loss: 0.5450 - val_department_output_accuracy: 0.5815 - val_department_output_loss: 1.4526 - val_loss: 2.0244\n",
      "Epoch 52/100\n",
      "\u001b[1m35/35\u001b[0m \u001b[32m━━━━━━━━━━━━━━━━━━━━\u001b[0m\u001b[37m\u001b[0m \u001b[1m0s\u001b[0m 6ms/step - attrition_output_accuracy: 0.9916 - attrition_output_loss: 0.0550 - department_output_accuracy: 0.9448 - department_output_loss: 0.1884 - loss: 0.2434 - val_attrition_output_accuracy: 0.8696 - val_attrition_output_loss: 0.5727 - val_department_output_accuracy: 0.5761 - val_department_output_loss: 1.4787 - val_loss: 2.0808\n",
      "Epoch 53/100\n",
      "\u001b[1m35/35\u001b[0m \u001b[32m━━━━━━━━━━━━━━━━━━━━\u001b[0m\u001b[37m\u001b[0m \u001b[1m0s\u001b[0m 6ms/step - attrition_output_accuracy: 0.9961 - attrition_output_loss: 0.0420 - department_output_accuracy: 0.9401 - department_output_loss: 0.1927 - loss: 0.2349 - val_attrition_output_accuracy: 0.8505 - val_attrition_output_loss: 0.5705 - val_department_output_accuracy: 0.5489 - val_department_output_loss: 1.5167 - val_loss: 2.1151\n",
      "Epoch 54/100\n",
      "\u001b[1m35/35\u001b[0m \u001b[32m━━━━━━━━━━━━━━━━━━━━\u001b[0m\u001b[37m\u001b[0m \u001b[1m0s\u001b[0m 6ms/step - attrition_output_accuracy: 0.9903 - attrition_output_loss: 0.0447 - department_output_accuracy: 0.9573 - department_output_loss: 0.1653 - loss: 0.2100 - val_attrition_output_accuracy: 0.8614 - val_attrition_output_loss: 0.5727 - val_department_output_accuracy: 0.5462 - val_department_output_loss: 1.5027 - val_loss: 2.1060\n",
      "Epoch 55/100\n",
      "\u001b[1m35/35\u001b[0m \u001b[32m━━━━━━━━━━━━━━━━━━━━\u001b[0m\u001b[37m\u001b[0m \u001b[1m0s\u001b[0m 6ms/step - attrition_output_accuracy: 0.9821 - attrition_output_loss: 0.0541 - department_output_accuracy: 0.9593 - department_output_loss: 0.1770 - loss: 0.2311 - val_attrition_output_accuracy: 0.8179 - val_attrition_output_loss: 0.5893 - val_department_output_accuracy: 0.5870 - val_department_output_loss: 1.5888 - val_loss: 2.2197\n",
      "Epoch 56/100\n",
      "\u001b[1m35/35\u001b[0m \u001b[32m━━━━━━━━━━━━━━━━━━━━\u001b[0m\u001b[37m\u001b[0m \u001b[1m0s\u001b[0m 6ms/step - attrition_output_accuracy: 0.9796 - attrition_output_loss: 0.0627 - department_output_accuracy: 0.9503 - department_output_loss: 0.1784 - loss: 0.2411 - val_attrition_output_accuracy: 0.8207 - val_attrition_output_loss: 0.6009 - val_department_output_accuracy: 0.5543 - val_department_output_loss: 1.5780 - val_loss: 2.2150\n",
      "Epoch 57/100\n",
      "\u001b[1m35/35\u001b[0m \u001b[32m━━━━━━━━━━━━━━━━━━━━\u001b[0m\u001b[37m\u001b[0m \u001b[1m0s\u001b[0m 6ms/step - attrition_output_accuracy: 0.9903 - attrition_output_loss: 0.0458 - department_output_accuracy: 0.9642 - department_output_loss: 0.1677 - loss: 0.2136 - val_attrition_output_accuracy: 0.8478 - val_attrition_output_loss: 0.5960 - val_department_output_accuracy: 0.5707 - val_department_output_loss: 1.6222 - val_loss: 2.2505\n",
      "Epoch 58/100\n",
      "\u001b[1m35/35\u001b[0m \u001b[32m━━━━━━━━━━━━━━━━━━━━\u001b[0m\u001b[37m\u001b[0m \u001b[1m0s\u001b[0m 6ms/step - attrition_output_accuracy: 0.9901 - attrition_output_loss: 0.0428 - department_output_accuracy: 0.9639 - department_output_loss: 0.1651 - loss: 0.2079 - val_attrition_output_accuracy: 0.8397 - val_attrition_output_loss: 0.5987 - val_department_output_accuracy: 0.5652 - val_department_output_loss: 1.6295 - val_loss: 2.2677\n",
      "Epoch 59/100\n",
      "\u001b[1m35/35\u001b[0m \u001b[32m━━━━━━━━━━━━━━━━━━━━\u001b[0m\u001b[37m\u001b[0m \u001b[1m0s\u001b[0m 6ms/step - attrition_output_accuracy: 0.9858 - attrition_output_loss: 0.0480 - department_output_accuracy: 0.9546 - department_output_loss: 0.1485 - loss: 0.1964 - val_attrition_output_accuracy: 0.8370 - val_attrition_output_loss: 0.6436 - val_department_output_accuracy: 0.6005 - val_department_output_loss: 1.7481 - val_loss: 2.4223\n",
      "Epoch 60/100\n",
      "\u001b[1m35/35\u001b[0m \u001b[32m━━━━━━━━━━━━━━━━━━━━\u001b[0m\u001b[37m\u001b[0m \u001b[1m0s\u001b[0m 6ms/step - attrition_output_accuracy: 0.9832 - attrition_output_loss: 0.0487 - department_output_accuracy: 0.9408 - department_output_loss: 0.1728 - loss: 0.2214 - val_attrition_output_accuracy: 0.8696 - val_attrition_output_loss: 0.6502 - val_department_output_accuracy: 0.5543 - val_department_output_loss: 1.6826 - val_loss: 2.3627\n",
      "Epoch 61/100\n",
      "\u001b[1m35/35\u001b[0m \u001b[32m━━━━━━━━━━━━━━━━━━━━\u001b[0m\u001b[37m\u001b[0m \u001b[1m0s\u001b[0m 6ms/step - attrition_output_accuracy: 0.9940 - attrition_output_loss: 0.0346 - department_output_accuracy: 0.9655 - department_output_loss: 0.1628 - loss: 0.1974 - val_attrition_output_accuracy: 0.8152 - val_attrition_output_loss: 0.6635 - val_department_output_accuracy: 0.5788 - val_department_output_loss: 1.7469 - val_loss: 2.4572\n",
      "Epoch 62/100\n",
      "\u001b[1m35/35\u001b[0m \u001b[32m━━━━━━━━━━━━━━━━━━━━\u001b[0m\u001b[37m\u001b[0m \u001b[1m0s\u001b[0m 6ms/step - attrition_output_accuracy: 0.9860 - attrition_output_loss: 0.0481 - department_output_accuracy: 0.9680 - department_output_loss: 0.1316 - loss: 0.1797 - val_attrition_output_accuracy: 0.8315 - val_attrition_output_loss: 0.6593 - val_department_output_accuracy: 0.5571 - val_department_output_loss: 1.7548 - val_loss: 2.4534\n",
      "Epoch 63/100\n",
      "\u001b[1m35/35\u001b[0m \u001b[32m━━━━━━━━━━━━━━━━━━━━\u001b[0m\u001b[37m\u001b[0m \u001b[1m0s\u001b[0m 6ms/step - attrition_output_accuracy: 0.9930 - attrition_output_loss: 0.0377 - department_output_accuracy: 0.9800 - department_output_loss: 0.1180 - loss: 0.1557 - val_attrition_output_accuracy: 0.8478 - val_attrition_output_loss: 0.6511 - val_department_output_accuracy: 0.5543 - val_department_output_loss: 1.7733 - val_loss: 2.4628\n",
      "Epoch 64/100\n",
      "\u001b[1m35/35\u001b[0m \u001b[32m━━━━━━━━━━━━━━━━━━━━\u001b[0m\u001b[37m\u001b[0m \u001b[1m0s\u001b[0m 6ms/step - attrition_output_accuracy: 0.9953 - attrition_output_loss: 0.0266 - department_output_accuracy: 0.9653 - department_output_loss: 0.1320 - loss: 0.1586 - val_attrition_output_accuracy: 0.8696 - val_attrition_output_loss: 0.6852 - val_department_output_accuracy: 0.5489 - val_department_output_loss: 1.8182 - val_loss: 2.5333\n",
      "Epoch 65/100\n",
      "\u001b[1m35/35\u001b[0m \u001b[32m━━━━━━━━━━━━━━━━━━━━\u001b[0m\u001b[37m\u001b[0m \u001b[1m0s\u001b[0m 6ms/step - attrition_output_accuracy: 0.9934 - attrition_output_loss: 0.0280 - department_output_accuracy: 0.9717 - department_output_loss: 0.1240 - loss: 0.1520 - val_attrition_output_accuracy: 0.8478 - val_attrition_output_loss: 0.6604 - val_department_output_accuracy: 0.5408 - val_department_output_loss: 1.8812 - val_loss: 2.5785\n",
      "Epoch 66/100\n",
      "\u001b[1m35/35\u001b[0m \u001b[32m━━━━━━━━━━━━━━━━━━━━\u001b[0m\u001b[37m\u001b[0m \u001b[1m0s\u001b[0m 6ms/step - attrition_output_accuracy: 0.9966 - attrition_output_loss: 0.0294 - department_output_accuracy: 0.9881 - department_output_loss: 0.1007 - loss: 0.1302 - val_attrition_output_accuracy: 0.8723 - val_attrition_output_loss: 0.6918 - val_department_output_accuracy: 0.5870 - val_department_output_loss: 1.9203 - val_loss: 2.6525\n",
      "Epoch 67/100\n",
      "\u001b[1m35/35\u001b[0m \u001b[32m━━━━━━━━━━━━━━━━━━━━\u001b[0m\u001b[37m\u001b[0m \u001b[1m0s\u001b[0m 6ms/step - attrition_output_accuracy: 0.9931 - attrition_output_loss: 0.0297 - department_output_accuracy: 0.9852 - department_output_loss: 0.1017 - loss: 0.1314 - val_attrition_output_accuracy: 0.8560 - val_attrition_output_loss: 0.6845 - val_department_output_accuracy: 0.5408 - val_department_output_loss: 1.9603 - val_loss: 2.6814\n",
      "Epoch 68/100\n",
      "\u001b[1m35/35\u001b[0m \u001b[32m━━━━━━━━━━━━━━━━━━━━\u001b[0m\u001b[37m\u001b[0m \u001b[1m0s\u001b[0m 6ms/step - attrition_output_accuracy: 0.9957 - attrition_output_loss: 0.0188 - department_output_accuracy: 0.9814 - department_output_loss: 0.1002 - loss: 0.1191 - val_attrition_output_accuracy: 0.8668 - val_attrition_output_loss: 0.6946 - val_department_output_accuracy: 0.5842 - val_department_output_loss: 1.9719 - val_loss: 2.7056\n",
      "Epoch 69/100\n",
      "\u001b[1m35/35\u001b[0m \u001b[32m━━━━━━━━━━━━━━━━━━━━\u001b[0m\u001b[37m\u001b[0m \u001b[1m0s\u001b[0m 8ms/step - attrition_output_accuracy: 0.9974 - attrition_output_loss: 0.0164 - department_output_accuracy: 0.9863 - department_output_loss: 0.0868 - loss: 0.1032 - val_attrition_output_accuracy: 0.8315 - val_attrition_output_loss: 0.7188 - val_department_output_accuracy: 0.5815 - val_department_output_loss: 2.0214 - val_loss: 2.7747\n",
      "Epoch 70/100\n",
      "\u001b[1m35/35\u001b[0m \u001b[32m━━━━━━━━━━━━━━━━━━━━\u001b[0m\u001b[37m\u001b[0m \u001b[1m0s\u001b[0m 6ms/step - attrition_output_accuracy: 0.9966 - attrition_output_loss: 0.0225 - department_output_accuracy: 0.9841 - department_output_loss: 0.0860 - loss: 0.1085 - val_attrition_output_accuracy: 0.8261 - val_attrition_output_loss: 0.7080 - val_department_output_accuracy: 0.5571 - val_department_output_loss: 2.0561 - val_loss: 2.8064\n",
      "Epoch 71/100\n",
      "\u001b[1m35/35\u001b[0m \u001b[32m━━━━━━━━━━━━━━━━━━━━\u001b[0m\u001b[37m\u001b[0m \u001b[1m0s\u001b[0m 6ms/step - attrition_output_accuracy: 0.9983 - attrition_output_loss: 0.0208 - department_output_accuracy: 0.9854 - department_output_loss: 0.0865 - loss: 0.1073 - val_attrition_output_accuracy: 0.8614 - val_attrition_output_loss: 0.7273 - val_department_output_accuracy: 0.5734 - val_department_output_loss: 2.0734 - val_loss: 2.8410\n",
      "Epoch 72/100\n",
      "\u001b[1m35/35\u001b[0m \u001b[32m━━━━━━━━━━━━━━━━━━━━\u001b[0m\u001b[37m\u001b[0m \u001b[1m0s\u001b[0m 6ms/step - attrition_output_accuracy: 0.9971 - attrition_output_loss: 0.0164 - department_output_accuracy: 0.9844 - department_output_loss: 0.0832 - loss: 0.0996 - val_attrition_output_accuracy: 0.8370 - val_attrition_output_loss: 0.7231 - val_department_output_accuracy: 0.6141 - val_department_output_loss: 2.1279 - val_loss: 2.8961\n",
      "Epoch 73/100\n",
      "\u001b[1m35/35\u001b[0m \u001b[32m━━━━━━━━━━━━━━━━━━━━\u001b[0m\u001b[37m\u001b[0m \u001b[1m0s\u001b[0m 6ms/step - attrition_output_accuracy: 0.9998 - attrition_output_loss: 0.0217 - department_output_accuracy: 0.9787 - department_output_loss: 0.0960 - loss: 0.1176 - val_attrition_output_accuracy: 0.8641 - val_attrition_output_loss: 0.7570 - val_department_output_accuracy: 0.5870 - val_department_output_loss: 2.1345 - val_loss: 2.9212\n",
      "Epoch 74/100\n",
      "\u001b[1m35/35\u001b[0m \u001b[32m━━━━━━━━━━━━━━━━━━━━\u001b[0m\u001b[37m\u001b[0m \u001b[1m0s\u001b[0m 5ms/step - attrition_output_accuracy: 0.9942 - attrition_output_loss: 0.0210 - department_output_accuracy: 0.9870 - department_output_loss: 0.0767 - loss: 0.0976 - val_attrition_output_accuracy: 0.8614 - val_attrition_output_loss: 0.7482 - val_department_output_accuracy: 0.5598 - val_department_output_loss: 2.1246 - val_loss: 2.9117\n",
      "Epoch 75/100\n",
      "\u001b[1m35/35\u001b[0m \u001b[32m━━━━━━━━━━━━━━━━━━━━\u001b[0m\u001b[37m\u001b[0m \u001b[1m0s\u001b[0m 8ms/step - attrition_output_accuracy: 0.9935 - attrition_output_loss: 0.0224 - department_output_accuracy: 0.9882 - department_output_loss: 0.0754 - loss: 0.0978 - val_attrition_output_accuracy: 0.8560 - val_attrition_output_loss: 0.7515 - val_department_output_accuracy: 0.5299 - val_department_output_loss: 2.1782 - val_loss: 2.9795\n",
      "Epoch 76/100\n",
      "\u001b[1m35/35\u001b[0m \u001b[32m━━━━━━━━━━━━━━━━━━━━\u001b[0m\u001b[37m\u001b[0m \u001b[1m0s\u001b[0m 7ms/step - attrition_output_accuracy: 0.9976 - attrition_output_loss: 0.0179 - department_output_accuracy: 0.9870 - department_output_loss: 0.0796 - loss: 0.0974 - val_attrition_output_accuracy: 0.8505 - val_attrition_output_loss: 0.7353 - val_department_output_accuracy: 0.5408 - val_department_output_loss: 2.1879 - val_loss: 2.9636\n",
      "Epoch 77/100\n",
      "\u001b[1m35/35\u001b[0m \u001b[32m━━━━━━━━━━━━━━━━━━━━\u001b[0m\u001b[37m\u001b[0m \u001b[1m0s\u001b[0m 6ms/step - attrition_output_accuracy: 0.9981 - attrition_output_loss: 0.0119 - department_output_accuracy: 0.9925 - department_output_loss: 0.0712 - loss: 0.0831 - val_attrition_output_accuracy: 0.8533 - val_attrition_output_loss: 0.8111 - val_department_output_accuracy: 0.5652 - val_department_output_loss: 2.2465 - val_loss: 3.1008\n",
      "Epoch 78/100\n",
      "\u001b[1m35/35\u001b[0m \u001b[32m━━━━━━━━━━━━━━━━━━━━\u001b[0m\u001b[37m\u001b[0m \u001b[1m0s\u001b[0m 8ms/step - attrition_output_accuracy: 0.9988 - attrition_output_loss: 0.0146 - department_output_accuracy: 0.9940 - department_output_loss: 0.0633 - loss: 0.0779 - val_attrition_output_accuracy: 0.8370 - val_attrition_output_loss: 0.7788 - val_department_output_accuracy: 0.5707 - val_department_output_loss: 2.2588 - val_loss: 3.0651\n",
      "Epoch 79/100\n",
      "\u001b[1m35/35\u001b[0m \u001b[32m━━━━━━━━━━━━━━━━━━━━\u001b[0m\u001b[37m\u001b[0m \u001b[1m0s\u001b[0m 6ms/step - attrition_output_accuracy: 0.9961 - attrition_output_loss: 0.0230 - department_output_accuracy: 0.9943 - department_output_loss: 0.0644 - loss: 0.0874 - val_attrition_output_accuracy: 0.8315 - val_attrition_output_loss: 0.7809 - val_department_output_accuracy: 0.5598 - val_department_output_loss: 2.3013 - val_loss: 3.1314\n",
      "Epoch 80/100\n",
      "\u001b[1m35/35\u001b[0m \u001b[32m━━━━━━━━━━━━━━━━━━━━\u001b[0m\u001b[37m\u001b[0m \u001b[1m0s\u001b[0m 6ms/step - attrition_output_accuracy: 0.9997 - attrition_output_loss: 0.0104 - department_output_accuracy: 0.9972 - department_output_loss: 0.0560 - loss: 0.0665 - val_attrition_output_accuracy: 0.8614 - val_attrition_output_loss: 0.7918 - val_department_output_accuracy: 0.5707 - val_department_output_loss: 2.2903 - val_loss: 3.1228\n",
      "Epoch 81/100\n",
      "\u001b[1m35/35\u001b[0m \u001b[32m━━━━━━━━━━━━━━━━━━━━\u001b[0m\u001b[37m\u001b[0m \u001b[1m0s\u001b[0m 6ms/step - attrition_output_accuracy: 0.9983 - attrition_output_loss: 0.0099 - department_output_accuracy: 0.9935 - department_output_loss: 0.0568 - loss: 0.0667 - val_attrition_output_accuracy: 0.8234 - val_attrition_output_loss: 0.8120 - val_department_output_accuracy: 0.5788 - val_department_output_loss: 2.3230 - val_loss: 3.1790\n",
      "Epoch 82/100\n",
      "\u001b[1m35/35\u001b[0m \u001b[32m━━━━━━━━━━━━━━━━━━━━\u001b[0m\u001b[37m\u001b[0m \u001b[1m0s\u001b[0m 6ms/step - attrition_output_accuracy: 1.0000 - attrition_output_loss: 0.0120 - department_output_accuracy: 0.9964 - department_output_loss: 0.0530 - loss: 0.0649 - val_attrition_output_accuracy: 0.8315 - val_attrition_output_loss: 0.8004 - val_department_output_accuracy: 0.5679 - val_department_output_loss: 2.3491 - val_loss: 3.2001\n",
      "Epoch 83/100\n",
      "\u001b[1m35/35\u001b[0m \u001b[32m━━━━━━━━━━━━━━━━━━━━\u001b[0m\u001b[37m\u001b[0m \u001b[1m0s\u001b[0m 6ms/step - attrition_output_accuracy: 1.0000 - attrition_output_loss: 0.0086 - department_output_accuracy: 0.9949 - department_output_loss: 0.0492 - loss: 0.0578 - val_attrition_output_accuracy: 0.8587 - val_attrition_output_loss: 0.8252 - val_department_output_accuracy: 0.5815 - val_department_output_loss: 2.3721 - val_loss: 3.2529\n",
      "Epoch 84/100\n",
      "\u001b[1m35/35\u001b[0m \u001b[32m━━━━━━━━━━━━━━━━━━━━\u001b[0m\u001b[37m\u001b[0m \u001b[1m0s\u001b[0m 6ms/step - attrition_output_accuracy: 0.9995 - attrition_output_loss: 0.0078 - department_output_accuracy: 0.9957 - department_output_loss: 0.0459 - loss: 0.0538 - val_attrition_output_accuracy: 0.8505 - val_attrition_output_loss: 0.8140 - val_department_output_accuracy: 0.5707 - val_department_output_loss: 2.3646 - val_loss: 3.2272\n",
      "Epoch 85/100\n",
      "\u001b[1m35/35\u001b[0m \u001b[32m━━━━━━━━━━━━━━━━━━━━\u001b[0m\u001b[37m\u001b[0m \u001b[1m0s\u001b[0m 6ms/step - attrition_output_accuracy: 1.0000 - attrition_output_loss: 0.0086 - department_output_accuracy: 0.9961 - department_output_loss: 0.0419 - loss: 0.0504 - val_attrition_output_accuracy: 0.8614 - val_attrition_output_loss: 0.8663 - val_department_output_accuracy: 0.5543 - val_department_output_loss: 2.4154 - val_loss: 3.3257\n",
      "Epoch 86/100\n",
      "\u001b[1m35/35\u001b[0m \u001b[32m━━━━━━━━━━━━━━━━━━━━\u001b[0m\u001b[37m\u001b[0m \u001b[1m0s\u001b[0m 6ms/step - attrition_output_accuracy: 1.0000 - attrition_output_loss: 0.0075 - department_output_accuracy: 0.9940 - department_output_loss: 0.0427 - loss: 0.0502 - val_attrition_output_accuracy: 0.8424 - val_attrition_output_loss: 0.8376 - val_department_output_accuracy: 0.5516 - val_department_output_loss: 2.4438 - val_loss: 3.3366\n",
      "Epoch 87/100\n",
      "\u001b[1m35/35\u001b[0m \u001b[32m━━━━━━━━━━━━━━━━━━━━\u001b[0m\u001b[37m\u001b[0m \u001b[1m0s\u001b[0m 6ms/step - attrition_output_accuracy: 0.9979 - attrition_output_loss: 0.0102 - department_output_accuracy: 0.9980 - department_output_loss: 0.0399 - loss: 0.0500 - val_attrition_output_accuracy: 0.8424 - val_attrition_output_loss: 0.8486 - val_department_output_accuracy: 0.5489 - val_department_output_loss: 2.4818 - val_loss: 3.3855\n",
      "Epoch 88/100\n",
      "\u001b[1m35/35\u001b[0m \u001b[32m━━━━━━━━━━━━━━━━━━━━\u001b[0m\u001b[37m\u001b[0m \u001b[1m0s\u001b[0m 6ms/step - attrition_output_accuracy: 0.9994 - attrition_output_loss: 0.0088 - department_output_accuracy: 0.9961 - department_output_loss: 0.0355 - loss: 0.0442 - val_attrition_output_accuracy: 0.8560 - val_attrition_output_loss: 0.8961 - val_department_output_accuracy: 0.5761 - val_department_output_loss: 2.5544 - val_loss: 3.4996\n",
      "Epoch 89/100\n",
      "\u001b[1m35/35\u001b[0m \u001b[32m━━━━━━━━━━━━━━━━━━━━\u001b[0m\u001b[37m\u001b[0m \u001b[1m0s\u001b[0m 6ms/step - attrition_output_accuracy: 0.9986 - attrition_output_loss: 0.0069 - department_output_accuracy: 0.9948 - department_output_loss: 0.0408 - loss: 0.0476 - val_attrition_output_accuracy: 0.8342 - val_attrition_output_loss: 0.8755 - val_department_output_accuracy: 0.5435 - val_department_output_loss: 2.5554 - val_loss: 3.4766\n",
      "Epoch 90/100\n",
      "\u001b[1m35/35\u001b[0m \u001b[32m━━━━━━━━━━━━━━━━━━━━\u001b[0m\u001b[37m\u001b[0m \u001b[1m0s\u001b[0m 6ms/step - attrition_output_accuracy: 1.0000 - attrition_output_loss: 0.0062 - department_output_accuracy: 0.9956 - department_output_loss: 0.0468 - loss: 0.0530 - val_attrition_output_accuracy: 0.8641 - val_attrition_output_loss: 0.8834 - val_department_output_accuracy: 0.5598 - val_department_output_loss: 2.6775 - val_loss: 3.6071\n",
      "Epoch 91/100\n",
      "\u001b[1m35/35\u001b[0m \u001b[32m━━━━━━━━━━━━━━━━━━━━\u001b[0m\u001b[37m\u001b[0m \u001b[1m0s\u001b[0m 6ms/step - attrition_output_accuracy: 0.9997 - attrition_output_loss: 0.0088 - department_output_accuracy: 0.9981 - department_output_loss: 0.0330 - loss: 0.0419 - val_attrition_output_accuracy: 0.8641 - val_attrition_output_loss: 0.8979 - val_department_output_accuracy: 0.5516 - val_department_output_loss: 2.5800 - val_loss: 3.5310\n",
      "Epoch 92/100\n",
      "\u001b[1m35/35\u001b[0m \u001b[32m━━━━━━━━━━━━━━━━━━━━\u001b[0m\u001b[37m\u001b[0m \u001b[1m0s\u001b[0m 6ms/step - attrition_output_accuracy: 1.0000 - attrition_output_loss: 0.0088 - department_output_accuracy: 0.9934 - department_output_loss: 0.0416 - loss: 0.0503 - val_attrition_output_accuracy: 0.8668 - val_attrition_output_loss: 0.9077 - val_department_output_accuracy: 0.5326 - val_department_output_loss: 2.6194 - val_loss: 3.5673\n",
      "Epoch 93/100\n",
      "\u001b[1m35/35\u001b[0m \u001b[32m━━━━━━━━━━━━━━━━━━━━\u001b[0m\u001b[37m\u001b[0m \u001b[1m0s\u001b[0m 6ms/step - attrition_output_accuracy: 1.0000 - attrition_output_loss: 0.0071 - department_output_accuracy: 0.9897 - department_output_loss: 0.0501 - loss: 0.0572 - val_attrition_output_accuracy: 0.8533 - val_attrition_output_loss: 0.8761 - val_department_output_accuracy: 0.5462 - val_department_output_loss: 2.6819 - val_loss: 3.6150\n",
      "Epoch 94/100\n",
      "\u001b[1m35/35\u001b[0m \u001b[32m━━━━━━━━━━━━━━━━━━━━\u001b[0m\u001b[37m\u001b[0m \u001b[1m0s\u001b[0m 6ms/step - attrition_output_accuracy: 1.0000 - attrition_output_loss: 0.0073 - department_output_accuracy: 0.9961 - department_output_loss: 0.0356 - loss: 0.0429 - val_attrition_output_accuracy: 0.8560 - val_attrition_output_loss: 0.9196 - val_department_output_accuracy: 0.5842 - val_department_output_loss: 2.7282 - val_loss: 3.6905\n",
      "Epoch 95/100\n",
      "\u001b[1m35/35\u001b[0m \u001b[32m━━━━━━━━━━━━━━━━━━━━\u001b[0m\u001b[37m\u001b[0m \u001b[1m0s\u001b[0m 6ms/step - attrition_output_accuracy: 1.0000 - attrition_output_loss: 0.0061 - department_output_accuracy: 0.9973 - department_output_loss: 0.0334 - loss: 0.0396 - val_attrition_output_accuracy: 0.8505 - val_attrition_output_loss: 0.9159 - val_department_output_accuracy: 0.5761 - val_department_output_loss: 2.6195 - val_loss: 3.5999\n",
      "Epoch 96/100\n",
      "\u001b[1m35/35\u001b[0m \u001b[32m━━━━━━━━━━━━━━━━━━━━\u001b[0m\u001b[37m\u001b[0m \u001b[1m0s\u001b[0m 6ms/step - attrition_output_accuracy: 1.0000 - attrition_output_loss: 0.0060 - department_output_accuracy: 0.9938 - department_output_loss: 0.0426 - loss: 0.0486 - val_attrition_output_accuracy: 0.8533 - val_attrition_output_loss: 0.9361 - val_department_output_accuracy: 0.6005 - val_department_output_loss: 2.8775 - val_loss: 3.8596\n",
      "Epoch 97/100\n",
      "\u001b[1m35/35\u001b[0m \u001b[32m━━━━━━━━━━━━━━━━━━━━\u001b[0m\u001b[37m\u001b[0m \u001b[1m0s\u001b[0m 6ms/step - attrition_output_accuracy: 1.0000 - attrition_output_loss: 0.0084 - department_output_accuracy: 0.9914 - department_output_loss: 0.0461 - loss: 0.0545 - val_attrition_output_accuracy: 0.8424 - val_attrition_output_loss: 0.9321 - val_department_output_accuracy: 0.5571 - val_department_output_loss: 2.7700 - val_loss: 3.7512\n",
      "Epoch 98/100\n",
      "\u001b[1m35/35\u001b[0m \u001b[32m━━━━━━━━━━━━━━━━━━━━\u001b[0m\u001b[37m\u001b[0m \u001b[1m0s\u001b[0m 6ms/step - attrition_output_accuracy: 0.9995 - attrition_output_loss: 0.0071 - department_output_accuracy: 0.9984 - department_output_loss: 0.0305 - loss: 0.0376 - val_attrition_output_accuracy: 0.8533 - val_attrition_output_loss: 0.9347 - val_department_output_accuracy: 0.5761 - val_department_output_loss: 2.7974 - val_loss: 3.7960\n",
      "Epoch 99/100\n",
      "\u001b[1m35/35\u001b[0m \u001b[32m━━━━━━━━━━━━━━━━━━━━\u001b[0m\u001b[37m\u001b[0m \u001b[1m0s\u001b[0m 8ms/step - attrition_output_accuracy: 0.9964 - attrition_output_loss: 0.0165 - department_output_accuracy: 0.9983 - department_output_loss: 0.0268 - loss: 0.0433 - val_attrition_output_accuracy: 0.8750 - val_attrition_output_loss: 0.9832 - val_department_output_accuracy: 0.5516 - val_department_output_loss: 2.8054 - val_loss: 3.8313\n",
      "Epoch 100/100\n",
      "\u001b[1m35/35\u001b[0m \u001b[32m━━━━━━━━━━━━━━━━━━━━\u001b[0m\u001b[37m\u001b[0m \u001b[1m0s\u001b[0m 6ms/step - attrition_output_accuracy: 0.9984 - attrition_output_loss: 0.0073 - department_output_accuracy: 0.9987 - department_output_loss: 0.0219 - loss: 0.0292 - val_attrition_output_accuracy: 0.8696 - val_attrition_output_loss: 0.9453 - val_department_output_accuracy: 0.5625 - val_department_output_loss: 2.8271 - val_loss: 3.8309\n"
     ]
    },
    {
     "data": {
      "text/plain": [
       "<keras.src.callbacks.history.History at 0x154973a70>"
      ]
     },
     "execution_count": 14,
     "metadata": {},
     "output_type": "execute_result"
    }
   ],
   "source": [
    "# Train the model\n",
    "model.fit(X_train_scaled,\n",
    "          {'department_output': y_train_encoded_department,\n",
    "           'attrition_output': y_train_encoded_attrition},\n",
    "          epochs=100,\n",
    "          batch_size=32,\n",
    "          validation_data=(X_test_scaled,\n",
    "                           {'department_output': y_test_encoded_department,\n",
    "                            'attrition_output': y_test_encoded_attrition}))\n"
   ]
  },
  {
   "cell_type": "code",
   "execution_count": 15,
   "metadata": {
    "id": "VsMoaQlgGc3U"
   },
   "outputs": [
    {
     "name": "stdout",
     "output_type": "stream",
     "text": [
      "\u001b[1m12/12\u001b[0m \u001b[32m━━━━━━━━━━━━━━━━━━━━\u001b[0m\u001b[37m\u001b[0m \u001b[1m0s\u001b[0m 5ms/step - attrition_output_accuracy: 0.8682 - attrition_output_loss: 0.8721 - department_output_accuracy: 0.5774 - department_output_loss: 2.7592 - loss: 3.6403 \n"
     ]
    },
    {
     "data": {
      "text/plain": [
       "[3.8309333324432373,\n",
       " 2.827061414718628,\n",
       " 0.9452832341194153,\n",
       " 0.8695651888847351,\n",
       " 0.5625]"
      ]
     },
     "execution_count": 15,
     "metadata": {},
     "output_type": "execute_result"
    }
   ],
   "source": [
    "# Evaluate the model with the testing data\n",
    "results = model.evaluate(X_test_scaled, {\n",
    "        'department_output': y_test_encoded_department,\n",
    "        'attrition_output': y_test_encoded_attrition,\n",
    "    })\n",
    "results"
   ]
  },
  {
   "cell_type": "code",
   "execution_count": 16,
   "metadata": {
    "id": "ZlCtlHi0Vt54"
   },
   "outputs": [
    {
     "name": "stdout",
     "output_type": "stream",
     "text": [
      "Department Accuracy: 0.8695651888847351\n",
      "Attrition Accuracy: 0.5625\n"
     ]
    },
    {
     "data": {
      "text/plain": [
       "[3.8309333324432373,\n",
       " 2.827061414718628,\n",
       " 0.9452832341194153,\n",
       " 0.8695651888847351,\n",
       " 0.5625]"
      ]
     },
     "execution_count": 16,
     "metadata": {},
     "output_type": "execute_result"
    }
   ],
   "source": [
    "# Print the accuracy for both department and attrition\n",
    "print(f\"Department Accuracy: {results[3]}\")\n",
    "print(f\"Attrition Accuracy: {results[4]}\")\n",
    "results"
   ]
  },
  {
   "cell_type": "markdown",
   "metadata": {
    "id": "eGSyfsZfWOQM"
   },
   "source": [
    "# Summary\n",
    "\n",
    "In the provided space below, briefly answer the following questions.\n",
    "\n",
    "1. Is accuracy the best metric to use on this data? Why or why not?\n",
    "\n",
    "2. What activation functions did you choose for your output layers, and why?\n",
    "\n",
    "3. Can you name a few ways that this model might be improved?"
   ]
  },
  {
   "cell_type": "markdown",
   "metadata": {
    "id": "pi9SLpFnWvbF"
   },
   "source": [
    "YOUR ANSWERS HERE\n",
    "\n",
    "1.  - Accuracy might not be the best metric here, because attrition class is highly imbalanced. Because no of Attrition = Yes is much smaller than  No's.  Therefore acciracy may be high but not useful in this case. In such cases, metrics like precision, recall, F1-score, or AUC-ROC might provide a better understanding of the model's performance.\n",
    "2.  - Department output -  Activation function used 'softmax' because department is a multiclass column and softmax is used for multiclass classification.\n",
    "    - Attrition output -  Activation function used 'sigmoid' because attrition is a binary column and sigmoid is best fit on binary classifications. \n",
    "3.  - Hyperparameter Tuning: Experiment with different hyperparameters such as the number of layers, number of neurons in each layer, learning rate, batch size, and number of epochs to find the optimal configuration.\n",
    "    \n",
    "    - Regularization**: Add dropout layers or L2 regularization to prevent overfitting.\n",
    "    - Feature Engineering**: Create new features or use feature selection techniques to improve the quality of the input data.\n",
    "    - Class Imbalance Handling**: Use techniques like oversampling, undersampling, or class weighting to address any class imbalance in the dataset.\n",
    "    - Ensemble Methods**: Combine the predictions of multiple models to improve overall performance."
   ]
  },
  {
   "cell_type": "markdown",
   "metadata": {
    "id": "g9MIqhG6Bs-k"
   },
   "source": []
  }
 ],
 "metadata": {
  "colab": {
   "provenance": [
    {
     "file_id": "1TqDiwGIgImG0Q7YOK9NSoMx3UDTpoyw2",
     "timestamp": 1736627967696
    }
   ]
  },
  "kernelspec": {
   "display_name": "base",
   "language": "python",
   "name": "python3"
  },
  "language_info": {
   "codemirror_mode": {
    "name": "ipython",
    "version": 3
   },
   "file_extension": ".py",
   "mimetype": "text/x-python",
   "name": "python",
   "nbconvert_exporter": "python",
   "pygments_lexer": "ipython3",
   "version": "3.12.2"
  }
 },
 "nbformat": 4,
 "nbformat_minor": 0
}
