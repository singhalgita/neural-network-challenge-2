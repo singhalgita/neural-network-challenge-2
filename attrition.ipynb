{
 "cells": [
  {
   "cell_type": "markdown",
   "metadata": {
    "id": "alIIEHibGc3M"
   },
   "source": [
    "## Part 1: Preprocessing"
   ]
  },
  {
   "cell_type": "code",
   "execution_count": 1,
   "metadata": {
    "colab": {
     "base_uri": "https://localhost:8080/",
     "height": 324
    },
    "executionInfo": {
     "elapsed": 17553,
     "status": "ok",
     "timestamp": 1736626879412,
     "user": {
      "displayName": "G R",
      "userId": "01677386158693807048"
     },
     "user_tz": 480
    },
    "id": "6eDUJ4NtGc3P",
    "outputId": "431c5a49-441c-4c97-ad20-4a05add83b29"
   },
   "outputs": [
    {
     "name": "stderr",
     "output_type": "stream",
     "text": [
      "2025-01-11 14:21:12.258969: I tensorflow/core/platform/cpu_feature_guard.cc:210] This TensorFlow binary is optimized to use available CPU instructions in performance-critical operations.\n",
      "To enable the following instructions: AVX2 AVX512F AVX512_VNNI FMA, in other operations, rebuild TensorFlow with the appropriate compiler flags.\n"
     ]
    },
    {
     "data": {
      "text/html": [
       "<div>\n",
       "<style scoped>\n",
       "    .dataframe tbody tr th:only-of-type {\n",
       "        vertical-align: middle;\n",
       "    }\n",
       "\n",
       "    .dataframe tbody tr th {\n",
       "        vertical-align: top;\n",
       "    }\n",
       "\n",
       "    .dataframe thead th {\n",
       "        text-align: right;\n",
       "    }\n",
       "</style>\n",
       "<table border=\"1\" class=\"dataframe\">\n",
       "  <thead>\n",
       "    <tr style=\"text-align: right;\">\n",
       "      <th></th>\n",
       "      <th>Age</th>\n",
       "      <th>Attrition</th>\n",
       "      <th>BusinessTravel</th>\n",
       "      <th>Department</th>\n",
       "      <th>DistanceFromHome</th>\n",
       "      <th>Education</th>\n",
       "      <th>EducationField</th>\n",
       "      <th>EnvironmentSatisfaction</th>\n",
       "      <th>HourlyRate</th>\n",
       "      <th>JobInvolvement</th>\n",
       "      <th>...</th>\n",
       "      <th>PerformanceRating</th>\n",
       "      <th>RelationshipSatisfaction</th>\n",
       "      <th>StockOptionLevel</th>\n",
       "      <th>TotalWorkingYears</th>\n",
       "      <th>TrainingTimesLastYear</th>\n",
       "      <th>WorkLifeBalance</th>\n",
       "      <th>YearsAtCompany</th>\n",
       "      <th>YearsInCurrentRole</th>\n",
       "      <th>YearsSinceLastPromotion</th>\n",
       "      <th>YearsWithCurrManager</th>\n",
       "    </tr>\n",
       "  </thead>\n",
       "  <tbody>\n",
       "    <tr>\n",
       "      <th>0</th>\n",
       "      <td>41</td>\n",
       "      <td>Yes</td>\n",
       "      <td>Travel_Rarely</td>\n",
       "      <td>Sales</td>\n",
       "      <td>1</td>\n",
       "      <td>2</td>\n",
       "      <td>Life Sciences</td>\n",
       "      <td>2</td>\n",
       "      <td>94</td>\n",
       "      <td>3</td>\n",
       "      <td>...</td>\n",
       "      <td>3</td>\n",
       "      <td>1</td>\n",
       "      <td>0</td>\n",
       "      <td>8</td>\n",
       "      <td>0</td>\n",
       "      <td>1</td>\n",
       "      <td>6</td>\n",
       "      <td>4</td>\n",
       "      <td>0</td>\n",
       "      <td>5</td>\n",
       "    </tr>\n",
       "    <tr>\n",
       "      <th>1</th>\n",
       "      <td>49</td>\n",
       "      <td>No</td>\n",
       "      <td>Travel_Frequently</td>\n",
       "      <td>Research &amp; Development</td>\n",
       "      <td>8</td>\n",
       "      <td>1</td>\n",
       "      <td>Life Sciences</td>\n",
       "      <td>3</td>\n",
       "      <td>61</td>\n",
       "      <td>2</td>\n",
       "      <td>...</td>\n",
       "      <td>4</td>\n",
       "      <td>4</td>\n",
       "      <td>1</td>\n",
       "      <td>10</td>\n",
       "      <td>3</td>\n",
       "      <td>3</td>\n",
       "      <td>10</td>\n",
       "      <td>7</td>\n",
       "      <td>1</td>\n",
       "      <td>7</td>\n",
       "    </tr>\n",
       "    <tr>\n",
       "      <th>2</th>\n",
       "      <td>37</td>\n",
       "      <td>Yes</td>\n",
       "      <td>Travel_Rarely</td>\n",
       "      <td>Research &amp; Development</td>\n",
       "      <td>2</td>\n",
       "      <td>2</td>\n",
       "      <td>Other</td>\n",
       "      <td>4</td>\n",
       "      <td>92</td>\n",
       "      <td>2</td>\n",
       "      <td>...</td>\n",
       "      <td>3</td>\n",
       "      <td>2</td>\n",
       "      <td>0</td>\n",
       "      <td>7</td>\n",
       "      <td>3</td>\n",
       "      <td>3</td>\n",
       "      <td>0</td>\n",
       "      <td>0</td>\n",
       "      <td>0</td>\n",
       "      <td>0</td>\n",
       "    </tr>\n",
       "    <tr>\n",
       "      <th>3</th>\n",
       "      <td>33</td>\n",
       "      <td>No</td>\n",
       "      <td>Travel_Frequently</td>\n",
       "      <td>Research &amp; Development</td>\n",
       "      <td>3</td>\n",
       "      <td>4</td>\n",
       "      <td>Life Sciences</td>\n",
       "      <td>4</td>\n",
       "      <td>56</td>\n",
       "      <td>3</td>\n",
       "      <td>...</td>\n",
       "      <td>3</td>\n",
       "      <td>3</td>\n",
       "      <td>0</td>\n",
       "      <td>8</td>\n",
       "      <td>3</td>\n",
       "      <td>3</td>\n",
       "      <td>8</td>\n",
       "      <td>7</td>\n",
       "      <td>3</td>\n",
       "      <td>0</td>\n",
       "    </tr>\n",
       "    <tr>\n",
       "      <th>4</th>\n",
       "      <td>27</td>\n",
       "      <td>No</td>\n",
       "      <td>Travel_Rarely</td>\n",
       "      <td>Research &amp; Development</td>\n",
       "      <td>2</td>\n",
       "      <td>1</td>\n",
       "      <td>Medical</td>\n",
       "      <td>1</td>\n",
       "      <td>40</td>\n",
       "      <td>3</td>\n",
       "      <td>...</td>\n",
       "      <td>3</td>\n",
       "      <td>4</td>\n",
       "      <td>1</td>\n",
       "      <td>6</td>\n",
       "      <td>3</td>\n",
       "      <td>3</td>\n",
       "      <td>2</td>\n",
       "      <td>2</td>\n",
       "      <td>2</td>\n",
       "      <td>2</td>\n",
       "    </tr>\n",
       "  </tbody>\n",
       "</table>\n",
       "<p>5 rows × 27 columns</p>\n",
       "</div>"
      ],
      "text/plain": [
       "   Age Attrition     BusinessTravel              Department  DistanceFromHome  \\\n",
       "0   41       Yes      Travel_Rarely                   Sales                 1   \n",
       "1   49        No  Travel_Frequently  Research & Development                 8   \n",
       "2   37       Yes      Travel_Rarely  Research & Development                 2   \n",
       "3   33        No  Travel_Frequently  Research & Development                 3   \n",
       "4   27        No      Travel_Rarely  Research & Development                 2   \n",
       "\n",
       "   Education EducationField  EnvironmentSatisfaction  HourlyRate  \\\n",
       "0          2  Life Sciences                        2          94   \n",
       "1          1  Life Sciences                        3          61   \n",
       "2          2          Other                        4          92   \n",
       "3          4  Life Sciences                        4          56   \n",
       "4          1        Medical                        1          40   \n",
       "\n",
       "   JobInvolvement  ...  PerformanceRating RelationshipSatisfaction  \\\n",
       "0               3  ...                  3                        1   \n",
       "1               2  ...                  4                        4   \n",
       "2               2  ...                  3                        2   \n",
       "3               3  ...                  3                        3   \n",
       "4               3  ...                  3                        4   \n",
       "\n",
       "   StockOptionLevel TotalWorkingYears  TrainingTimesLastYear WorkLifeBalance  \\\n",
       "0                 0                 8                      0               1   \n",
       "1                 1                10                      3               3   \n",
       "2                 0                 7                      3               3   \n",
       "3                 0                 8                      3               3   \n",
       "4                 1                 6                      3               3   \n",
       "\n",
       "   YearsAtCompany  YearsInCurrentRole  YearsSinceLastPromotion  \\\n",
       "0               6                   4                        0   \n",
       "1              10                   7                        1   \n",
       "2               0                   0                        0   \n",
       "3               8                   7                        3   \n",
       "4               2                   2                        2   \n",
       "\n",
       "   YearsWithCurrManager  \n",
       "0                     5  \n",
       "1                     7  \n",
       "2                     0  \n",
       "3                     0  \n",
       "4                     2  \n",
       "\n",
       "[5 rows x 27 columns]"
      ]
     },
     "execution_count": 1,
     "metadata": {},
     "output_type": "execute_result"
    }
   ],
   "source": [
    "# Import our dependencies\n",
    "from sklearn.model_selection import train_test_split\n",
    "from sklearn.preprocessing import StandardScaler,  OneHotEncoder\n",
    "import pandas as pd\n",
    "import numpy as np\n",
    "from tensorflow.keras.models import Model\n",
    "from tensorflow.keras import layers\n",
    "\n",
    "#  Import and read the attrition data\n",
    "attrition_df = pd.read_csv('https://static.bc-edx.com/ai/ail-v-1-0/m19/lms/datasets/attrition.csv')\n",
    "attrition_df.head()"
   ]
  },
  {
   "cell_type": "code",
   "execution_count": 2,
   "metadata": {
    "colab": {
     "base_uri": "https://localhost:8080/"
    },
    "executionInfo": {
     "elapsed": 137,
     "status": "ok",
     "timestamp": 1736627202188,
     "user": {
      "displayName": "G R",
      "userId": "01677386158693807048"
     },
     "user_tz": 480
    },
    "id": "g22aQSY4Gc3Q",
    "outputId": "bf9bd12b-7656-4e29-94c9-b25776d1e6c2"
   },
   "outputs": [
    {
     "data": {
      "text/plain": [
       "Age                         43\n",
       "Attrition                    2\n",
       "BusinessTravel               3\n",
       "Department                   3\n",
       "DistanceFromHome            29\n",
       "Education                    5\n",
       "EducationField               6\n",
       "EnvironmentSatisfaction      4\n",
       "HourlyRate                  71\n",
       "JobInvolvement               4\n",
       "JobLevel                     5\n",
       "JobRole                      9\n",
       "JobSatisfaction              4\n",
       "MaritalStatus                3\n",
       "NumCompaniesWorked          10\n",
       "OverTime                     2\n",
       "PercentSalaryHike           15\n",
       "PerformanceRating            2\n",
       "RelationshipSatisfaction     4\n",
       "StockOptionLevel             4\n",
       "TotalWorkingYears           40\n",
       "TrainingTimesLastYear        7\n",
       "WorkLifeBalance              4\n",
       "YearsAtCompany              37\n",
       "YearsInCurrentRole          19\n",
       "YearsSinceLastPromotion     16\n",
       "YearsWithCurrManager        18\n",
       "dtype: int64"
      ]
     },
     "execution_count": 2,
     "metadata": {},
     "output_type": "execute_result"
    }
   ],
   "source": [
    "# Determine the number of unique values in each column.\n",
    "attrition_df.nunique()\n",
    "# attrition_df['Attrition'].value_counts()\n",
    "# attrition_df['Department'].value_counts()"
   ]
  },
  {
   "cell_type": "code",
   "execution_count": 3,
   "metadata": {
    "executionInfo": {
     "elapsed": 104,
     "status": "ok",
     "timestamp": 1736627687663,
     "user": {
      "displayName": "G R",
      "userId": "01677386158693807048"
     },
     "user_tz": 480
    },
    "id": "50vMgBEnJbfM"
   },
   "outputs": [],
   "source": [
    "# Create y_df with the Attrition and Department columns\n",
    "y_df = attrition_df[['Attrition', 'Department']]\n"
   ]
  },
  {
   "cell_type": "code",
   "execution_count": 4,
   "metadata": {
    "colab": {
     "base_uri": "https://localhost:8080/"
    },
    "executionInfo": {
     "elapsed": 112,
     "status": "ok",
     "timestamp": 1736627688543,
     "user": {
      "displayName": "G R",
      "userId": "01677386158693807048"
     },
     "user_tz": 480
    },
    "id": "Virka0zLGc3R",
    "outputId": "e26788b2-2011-4252-b930-78f30d5d1954"
   },
   "outputs": [
    {
     "data": {
      "text/plain": [
       "Education                   int64\n",
       "Age                         int64\n",
       "DistanceFromHome            int64\n",
       "JobSatisfaction             int64\n",
       "OverTime                   object\n",
       "StockOptionLevel            int64\n",
       "WorkLifeBalance             int64\n",
       "YearsAtCompany              int64\n",
       "YearsSinceLastPromotion     int64\n",
       "NumCompaniesWorked          int64\n",
       "dtype: object"
      ]
     },
     "execution_count": 4,
     "metadata": {},
     "output_type": "execute_result"
    }
   ],
   "source": [
    "# Create a list of at least 10 column names to use as X data\n",
    "X = ['Education','Age', 'DistanceFromHome', 'JobSatisfaction','OverTime', 'StockOptionLevel', 'WorkLifeBalance', 'YearsAtCompany','YearsSinceLastPromotion','NumCompaniesWorked']\n",
    "\n",
    "# Create X_df using your selected columns\n",
    "X_df = attrition_df[X]\n",
    "\n",
    "# Show the data types for X_df\n",
    "X_df.shape\n",
    "X_df.dtypes\n"
   ]
  },
  {
   "cell_type": "code",
   "execution_count": 5,
   "metadata": {
    "executionInfo": {
     "elapsed": 92,
     "status": "ok",
     "timestamp": 1736627738232,
     "user": {
      "displayName": "G R",
      "userId": "01677386158693807048"
     },
     "user_tz": 480
    },
    "id": "KaJfdOGUMHMR"
   },
   "outputs": [],
   "source": [
    "# Split the data into training and testing sets\n",
    "from sklearn.model_selection import train_test_split\n",
    "X_train, X_test, y_train, y_test = train_test_split(X_df, y_df, random_state=40)"
   ]
  },
  {
   "cell_type": "code",
   "execution_count": 6,
   "metadata": {
    "colab": {
     "base_uri": "https://localhost:8080/",
     "height": 423
    },
    "executionInfo": {
     "elapsed": 114,
     "status": "ok",
     "timestamp": 1736627739121,
     "user": {
      "displayName": "G R",
      "userId": "01677386158693807048"
     },
     "user_tz": 480
    },
    "id": "NYubUJqiLCSp",
    "outputId": "5a0c4ccf-ea41-4fbf-ed84-c59bef9fd0d7"
   },
   "outputs": [
    {
     "data": {
      "text/html": [
       "<div>\n",
       "<style scoped>\n",
       "    .dataframe tbody tr th:only-of-type {\n",
       "        vertical-align: middle;\n",
       "    }\n",
       "\n",
       "    .dataframe tbody tr th {\n",
       "        vertical-align: top;\n",
       "    }\n",
       "\n",
       "    .dataframe thead th {\n",
       "        text-align: right;\n",
       "    }\n",
       "</style>\n",
       "<table border=\"1\" class=\"dataframe\">\n",
       "  <thead>\n",
       "    <tr style=\"text-align: right;\">\n",
       "      <th></th>\n",
       "      <th>Education</th>\n",
       "      <th>Age</th>\n",
       "      <th>DistanceFromHome</th>\n",
       "      <th>JobSatisfaction</th>\n",
       "      <th>StockOptionLevel</th>\n",
       "      <th>WorkLifeBalance</th>\n",
       "      <th>YearsAtCompany</th>\n",
       "      <th>YearsSinceLastPromotion</th>\n",
       "      <th>NumCompaniesWorked</th>\n",
       "      <th>OverTime_Yes</th>\n",
       "    </tr>\n",
       "  </thead>\n",
       "  <tbody>\n",
       "    <tr>\n",
       "      <th>1456</th>\n",
       "      <td>4.0</td>\n",
       "      <td>35.0</td>\n",
       "      <td>18.0</td>\n",
       "      <td>3.0</td>\n",
       "      <td>2.0</td>\n",
       "      <td>4.0</td>\n",
       "      <td>10.0</td>\n",
       "      <td>0.0</td>\n",
       "      <td>1.0</td>\n",
       "      <td>1.0</td>\n",
       "    </tr>\n",
       "    <tr>\n",
       "      <th>236</th>\n",
       "      <td>2.0</td>\n",
       "      <td>33.0</td>\n",
       "      <td>2.0</td>\n",
       "      <td>1.0</td>\n",
       "      <td>0.0</td>\n",
       "      <td>4.0</td>\n",
       "      <td>9.0</td>\n",
       "      <td>1.0</td>\n",
       "      <td>7.0</td>\n",
       "      <td>0.0</td>\n",
       "    </tr>\n",
       "    <tr>\n",
       "      <th>70</th>\n",
       "      <td>1.0</td>\n",
       "      <td>59.0</td>\n",
       "      <td>1.0</td>\n",
       "      <td>3.0</td>\n",
       "      <td>0.0</td>\n",
       "      <td>2.0</td>\n",
       "      <td>4.0</td>\n",
       "      <td>1.0</td>\n",
       "      <td>7.0</td>\n",
       "      <td>0.0</td>\n",
       "    </tr>\n",
       "    <tr>\n",
       "      <th>42</th>\n",
       "      <td>3.0</td>\n",
       "      <td>26.0</td>\n",
       "      <td>25.0</td>\n",
       "      <td>3.0</td>\n",
       "      <td>0.0</td>\n",
       "      <td>2.0</td>\n",
       "      <td>1.0</td>\n",
       "      <td>0.0</td>\n",
       "      <td>1.0</td>\n",
       "      <td>0.0</td>\n",
       "    </tr>\n",
       "    <tr>\n",
       "      <th>454</th>\n",
       "      <td>3.0</td>\n",
       "      <td>29.0</td>\n",
       "      <td>19.0</td>\n",
       "      <td>4.0</td>\n",
       "      <td>2.0</td>\n",
       "      <td>4.0</td>\n",
       "      <td>3.0</td>\n",
       "      <td>1.0</td>\n",
       "      <td>4.0</td>\n",
       "      <td>0.0</td>\n",
       "    </tr>\n",
       "    <tr>\n",
       "      <th>...</th>\n",
       "      <td>...</td>\n",
       "      <td>...</td>\n",
       "      <td>...</td>\n",
       "      <td>...</td>\n",
       "      <td>...</td>\n",
       "      <td>...</td>\n",
       "      <td>...</td>\n",
       "      <td>...</td>\n",
       "      <td>...</td>\n",
       "      <td>...</td>\n",
       "    </tr>\n",
       "    <tr>\n",
       "      <th>702</th>\n",
       "      <td>2.0</td>\n",
       "      <td>30.0</td>\n",
       "      <td>8.0</td>\n",
       "      <td>3.0</td>\n",
       "      <td>1.0</td>\n",
       "      <td>4.0</td>\n",
       "      <td>8.0</td>\n",
       "      <td>7.0</td>\n",
       "      <td>5.0</td>\n",
       "      <td>0.0</td>\n",
       "    </tr>\n",
       "    <tr>\n",
       "      <th>436</th>\n",
       "      <td>1.0</td>\n",
       "      <td>33.0</td>\n",
       "      <td>10.0</td>\n",
       "      <td>4.0</td>\n",
       "      <td>3.0</td>\n",
       "      <td>3.0</td>\n",
       "      <td>4.0</td>\n",
       "      <td>1.0</td>\n",
       "      <td>7.0</td>\n",
       "      <td>0.0</td>\n",
       "    </tr>\n",
       "    <tr>\n",
       "      <th>1194</th>\n",
       "      <td>4.0</td>\n",
       "      <td>47.0</td>\n",
       "      <td>2.0</td>\n",
       "      <td>2.0</td>\n",
       "      <td>3.0</td>\n",
       "      <td>3.0</td>\n",
       "      <td>3.0</td>\n",
       "      <td>1.0</td>\n",
       "      <td>6.0</td>\n",
       "      <td>0.0</td>\n",
       "    </tr>\n",
       "    <tr>\n",
       "      <th>1248</th>\n",
       "      <td>3.0</td>\n",
       "      <td>27.0</td>\n",
       "      <td>8.0</td>\n",
       "      <td>4.0</td>\n",
       "      <td>0.0</td>\n",
       "      <td>2.0</td>\n",
       "      <td>6.0</td>\n",
       "      <td>1.0</td>\n",
       "      <td>1.0</td>\n",
       "      <td>0.0</td>\n",
       "    </tr>\n",
       "    <tr>\n",
       "      <th>9</th>\n",
       "      <td>3.0</td>\n",
       "      <td>36.0</td>\n",
       "      <td>27.0</td>\n",
       "      <td>3.0</td>\n",
       "      <td>2.0</td>\n",
       "      <td>2.0</td>\n",
       "      <td>7.0</td>\n",
       "      <td>7.0</td>\n",
       "      <td>6.0</td>\n",
       "      <td>0.0</td>\n",
       "    </tr>\n",
       "  </tbody>\n",
       "</table>\n",
       "<p>368 rows × 10 columns</p>\n",
       "</div>"
      ],
      "text/plain": [
       "      Education   Age  DistanceFromHome  JobSatisfaction  StockOptionLevel  \\\n",
       "1456        4.0  35.0              18.0              3.0               2.0   \n",
       "236         2.0  33.0               2.0              1.0               0.0   \n",
       "70          1.0  59.0               1.0              3.0               0.0   \n",
       "42          3.0  26.0              25.0              3.0               0.0   \n",
       "454         3.0  29.0              19.0              4.0               2.0   \n",
       "...         ...   ...               ...              ...               ...   \n",
       "702         2.0  30.0               8.0              3.0               1.0   \n",
       "436         1.0  33.0              10.0              4.0               3.0   \n",
       "1194        4.0  47.0               2.0              2.0               3.0   \n",
       "1248        3.0  27.0               8.0              4.0               0.0   \n",
       "9           3.0  36.0              27.0              3.0               2.0   \n",
       "\n",
       "      WorkLifeBalance  YearsAtCompany  YearsSinceLastPromotion  \\\n",
       "1456              4.0            10.0                      0.0   \n",
       "236               4.0             9.0                      1.0   \n",
       "70                2.0             4.0                      1.0   \n",
       "42                2.0             1.0                      0.0   \n",
       "454               4.0             3.0                      1.0   \n",
       "...               ...             ...                      ...   \n",
       "702               4.0             8.0                      7.0   \n",
       "436               3.0             4.0                      1.0   \n",
       "1194              3.0             3.0                      1.0   \n",
       "1248              2.0             6.0                      1.0   \n",
       "9                 2.0             7.0                      7.0   \n",
       "\n",
       "      NumCompaniesWorked  OverTime_Yes  \n",
       "1456                 1.0           1.0  \n",
       "236                  7.0           0.0  \n",
       "70                   7.0           0.0  \n",
       "42                   1.0           0.0  \n",
       "454                  4.0           0.0  \n",
       "...                  ...           ...  \n",
       "702                  5.0           0.0  \n",
       "436                  7.0           0.0  \n",
       "1194                 6.0           0.0  \n",
       "1248                 1.0           0.0  \n",
       "9                    6.0           0.0  \n",
       "\n",
       "[368 rows x 10 columns]"
      ]
     },
     "execution_count": 6,
     "metadata": {},
     "output_type": "execute_result"
    }
   ],
   "source": [
    "# Convert your X data to numeric data types however you see fit\n",
    "# Add new code cells as necessary\n",
    "X_train = pd.get_dummies(X_train)\n",
    "X_train = X_train.astype('float32')\n",
    "X_test = pd.get_dummies(X_test)\n",
    "X_test = X_test.astype('float32')\n",
    "X_train.drop(columns=['OverTime_No'], inplace=True)\n",
    "X_train\n",
    "X_test.drop(columns=['OverTime_No'],inplace=True)\n",
    "X_test\n"
   ]
  },
  {
   "cell_type": "code",
   "execution_count": 7,
   "metadata": {
    "colab": {
     "base_uri": "https://localhost:8080/"
    },
    "executionInfo": {
     "elapsed": 118,
     "status": "ok",
     "timestamp": 1736627741896,
     "user": {
      "displayName": "G R",
      "userId": "01677386158693807048"
     },
     "user_tz": 480
    },
    "id": "EWA-aIA5Gc3T",
    "outputId": "9ca90260-fe5e-4b85-cade-97e757c9cc01"
   },
   "outputs": [
    {
     "data": {
      "text/plain": [
       "array([[ 1.057603  , -0.2079682 ,  1.0654545 , ..., -0.6858722 ,\n",
       "        -0.6774326 ,  1.5948067 ],\n",
       "       [-0.92281926, -0.42812285, -0.8961299 , ..., -0.3669561 ,\n",
       "         1.7294369 , -0.62703526],\n",
       "       [-1.9130304 ,  2.4338872 , -1.018729  , ..., -0.3669561 ,\n",
       "         1.7294369 , -0.62703526],\n",
       "       ...,\n",
       "       [ 1.057603  ,  1.1129596 , -0.8961299 , ..., -0.3669561 ,\n",
       "         1.328292  , -0.62703526],\n",
       "       [ 0.06739186, -1.0885867 , -0.16053575, ..., -0.3669561 ,\n",
       "        -0.6774326 , -0.62703526],\n",
       "       [ 0.06739186, -0.09789089,  2.168846  , ...,  1.5465405 ,\n",
       "         1.328292  , -0.62703526]], dtype=float32)"
      ]
     },
     "execution_count": 7,
     "metadata": {},
     "output_type": "execute_result"
    }
   ],
   "source": [
    "# Create a StandardScaler\n",
    "scaler = StandardScaler()\n",
    "# Fit the StandardScaler to the training data\n",
    "scaler.fit(X_train)\n",
    "# Scale the training and testing data\n",
    "X_train_scaled = scaler.transform(X_train)\n",
    "X_test_scaled = scaler.transform(X_test)\n",
    "X_train_scaled\n",
    "X_test_scaled"
   ]
  },
  {
   "cell_type": "code",
   "execution_count": 8,
   "metadata": {
    "colab": {
     "base_uri": "https://localhost:8080/"
    },
    "executionInfo": {
     "elapsed": 85,
     "status": "ok",
     "timestamp": 1736627744172,
     "user": {
      "displayName": "G R",
      "userId": "01677386158693807048"
     },
     "user_tz": 480
    },
    "id": "-z0Mky8vQSz4",
    "outputId": "9679dd58-2da0-4181-f113-c36ebad842a2"
   },
   "outputs": [
    {
     "data": {
      "text/plain": [
       "array([[0., 1., 0.],\n",
       "       [0., 1., 0.],\n",
       "       [0., 0., 1.],\n",
       "       ...,\n",
       "       [0., 0., 1.],\n",
       "       [0., 1., 0.],\n",
       "       [0., 1., 0.]])"
      ]
     },
     "execution_count": 8,
     "metadata": {},
     "output_type": "execute_result"
    }
   ],
   "source": [
    "# Create a OneHotEncoder for the Department column\n",
    "ohe = OneHotEncoder()\n",
    "\n",
    "# Fit the encoder to the Department column in the training data\n",
    "ohe.fit(y_train[['Department']])\n",
    "\n",
    "# Create two new variables by applying the encoder\n",
    "# to the training and testing data\n",
    "y_train_encoded_department = ohe.transform(y_train[['Department']]).toarray()\n",
    "y_test_encoded_department= ohe.transform(y_test[['Department']]).toarray()\n",
    "y_train_encoded_department\n",
    "y_test_encoded_department"
   ]
  },
  {
   "cell_type": "code",
   "execution_count": 9,
   "metadata": {
    "colab": {
     "base_uri": "https://localhost:8080/"
    },
    "executionInfo": {
     "elapsed": 94,
     "status": "ok",
     "timestamp": 1736627789668,
     "user": {
      "displayName": "G R",
      "userId": "01677386158693807048"
     },
     "user_tz": 480
    },
    "id": "-G4DSpvFRrk4",
    "outputId": "5cb73321-43a1-4d10-ca6e-007f6f163dcc"
   },
   "outputs": [],
   "source": [
    "# Create a OneHotEncoder for the Attrition column\n",
    "ohe = OneHotEncoder()\n",
    "\n",
    "# Fit the encoder to the training data\n",
    "\n",
    "ohe.fit(y_train[['Attrition']])\n",
    "\n",
    "# Create two new variables by applying the encoder\n",
    "# to the training and testing data\n",
    "y_train_encoded_attrition = ohe.transform(y_train[['Attrition']]).toarray()\n",
    "y_test_encoded_attrition = ohe.transform(y_test[['Attrition']]).toarray()\n"
   ]
  },
  {
   "cell_type": "markdown",
   "metadata": {
    "id": "ykNmu_WWGc3T"
   },
   "source": [
    "## Create, Compile, and Train the Model"
   ]
  },
  {
   "cell_type": "code",
   "execution_count": 11,
   "metadata": {
    "executionInfo": {
     "elapsed": 93,
     "status": "ok",
     "timestamp": 1736627797703,
     "user": {
      "displayName": "G R",
      "userId": "01677386158693807048"
     },
     "user_tz": 480
    },
    "id": "WUptZqmSGc3T"
   },
   "outputs": [],
   "source": [
    "# Find the number of columns in the X training data\n",
    "X_train_scaled.shape\n",
    "\n",
    "# Create the input layer\n",
    "input_layer = layers.Input(shape=(X_train_scaled.shape[1],))\n",
    "\n",
    "# # Create at least two shared layers\n",
    "shared_hidden_layer1 = layers.Dense(64, activation='relu', name='shared_layer1')(input_layer)\n",
    "shared_hidden_layer2 = layers.Dense(128, activation='relu', name = 'shared_layer2')(shared_hidden_layer1)"
   ]
  },
  {
   "cell_type": "code",
   "execution_count": 12,
   "metadata": {
    "executionInfo": {
     "elapsed": 87,
     "status": "ok",
     "timestamp": 1736627802421,
     "user": {
      "displayName": "G R",
      "userId": "01677386158693807048"
     },
     "user_tz": 480
    },
    "id": "JukjTm2yTEqd"
   },
   "outputs": [],
   "source": [
    "# Create a branch for Department\n",
    "# with a hidden layer and an output layer\n",
    "# Create the hidden layer\n",
    "department_branch = layers.Dense(32, activation='relu', name='department_hidden')(shared_hidden_layer2)\n",
    "\n",
    "# Create the output layer\n",
    "department_output = layers.Dense(3, activation='softmax', name='department_output')(department_branch)"
   ]
  },
  {
   "cell_type": "code",
   "execution_count": 13,
   "metadata": {
    "executionInfo": {
     "elapsed": 119,
     "status": "ok",
     "timestamp": 1736627806169,
     "user": {
      "displayName": "G R",
      "userId": "01677386158693807048"
     },
     "user_tz": 480
    },
    "id": "9OqhUiOJUBkR"
   },
   "outputs": [],
   "source": [
    "# Create a branch for Attrition\n",
    "# with a hidden layer and an output layer\n",
    "# Create the hidden layer\n",
    "attrition_branch = layers.Dense(32, activation='relu',name='attrition_hidden')(shared_hidden_layer2)\n",
    "\n",
    "# Create the output layer\n",
    "attrition_output = layers.Dense(2, activation='sigmoid', name='attrition_output')(attrition_branch)"
   ]
  },
  {
   "cell_type": "code",
   "execution_count": 14,
   "metadata": {
    "colab": {
     "base_uri": "https://localhost:8080/",
     "height": 371
    },
    "executionInfo": {
     "elapsed": 90,
     "status": "ok",
     "timestamp": 1736627811051,
     "user": {
      "displayName": "G R",
      "userId": "01677386158693807048"
     },
     "user_tz": 480
    },
    "id": "pevyFKTcBs-j",
    "outputId": "8774ebd4-05e9-4c5f-ada2-5e0bd52b9f68"
   },
   "outputs": [
    {
     "data": {
      "text/html": [
       "<pre style=\"white-space:pre;overflow-x:auto;line-height:normal;font-family:Menlo,'DejaVu Sans Mono',consolas,'Courier New',monospace\"><span style=\"font-weight: bold\">Model: \"functional\"</span>\n",
       "</pre>\n"
      ],
      "text/plain": [
       "\u001b[1mModel: \"functional\"\u001b[0m\n"
      ]
     },
     "metadata": {},
     "output_type": "display_data"
    },
    {
     "data": {
      "text/html": [
       "<pre style=\"white-space:pre;overflow-x:auto;line-height:normal;font-family:Menlo,'DejaVu Sans Mono',consolas,'Courier New',monospace\">┏━━━━━━━━━━━━━━━━━━━━━┳━━━━━━━━━━━━━━━━━━━┳━━━━━━━━━━━━┳━━━━━━━━━━━━━━━━━━━┓\n",
       "┃<span style=\"font-weight: bold\"> Layer (type)        </span>┃<span style=\"font-weight: bold\"> Output Shape      </span>┃<span style=\"font-weight: bold\">    Param # </span>┃<span style=\"font-weight: bold\"> Connected to      </span>┃\n",
       "┡━━━━━━━━━━━━━━━━━━━━━╇━━━━━━━━━━━━━━━━━━━╇━━━━━━━━━━━━╇━━━━━━━━━━━━━━━━━━━┩\n",
       "│ input_layer_1       │ (<span style=\"color: #00d7ff; text-decoration-color: #00d7ff\">None</span>, <span style=\"color: #00af00; text-decoration-color: #00af00\">10</span>)        │          <span style=\"color: #00af00; text-decoration-color: #00af00\">0</span> │ -                 │\n",
       "│ (<span style=\"color: #0087ff; text-decoration-color: #0087ff\">InputLayer</span>)        │                   │            │                   │\n",
       "├─────────────────────┼───────────────────┼────────────┼───────────────────┤\n",
       "│ shared_layer1       │ (<span style=\"color: #00d7ff; text-decoration-color: #00d7ff\">None</span>, <span style=\"color: #00af00; text-decoration-color: #00af00\">64</span>)        │        <span style=\"color: #00af00; text-decoration-color: #00af00\">704</span> │ input_layer_1[<span style=\"color: #00af00; text-decoration-color: #00af00\">0</span>]… │\n",
       "│ (<span style=\"color: #0087ff; text-decoration-color: #0087ff\">Dense</span>)             │                   │            │                   │\n",
       "├─────────────────────┼───────────────────┼────────────┼───────────────────┤\n",
       "│ shared_layer2       │ (<span style=\"color: #00d7ff; text-decoration-color: #00d7ff\">None</span>, <span style=\"color: #00af00; text-decoration-color: #00af00\">128</span>)       │      <span style=\"color: #00af00; text-decoration-color: #00af00\">8,320</span> │ shared_layer1[<span style=\"color: #00af00; text-decoration-color: #00af00\">0</span>]… │\n",
       "│ (<span style=\"color: #0087ff; text-decoration-color: #0087ff\">Dense</span>)             │                   │            │                   │\n",
       "├─────────────────────┼───────────────────┼────────────┼───────────────────┤\n",
       "│ department_hidden   │ (<span style=\"color: #00d7ff; text-decoration-color: #00d7ff\">None</span>, <span style=\"color: #00af00; text-decoration-color: #00af00\">32</span>)        │      <span style=\"color: #00af00; text-decoration-color: #00af00\">4,128</span> │ shared_layer2[<span style=\"color: #00af00; text-decoration-color: #00af00\">0</span>]… │\n",
       "│ (<span style=\"color: #0087ff; text-decoration-color: #0087ff\">Dense</span>)             │                   │            │                   │\n",
       "├─────────────────────┼───────────────────┼────────────┼───────────────────┤\n",
       "│ attrition_hidden    │ (<span style=\"color: #00d7ff; text-decoration-color: #00d7ff\">None</span>, <span style=\"color: #00af00; text-decoration-color: #00af00\">32</span>)        │      <span style=\"color: #00af00; text-decoration-color: #00af00\">4,128</span> │ shared_layer2[<span style=\"color: #00af00; text-decoration-color: #00af00\">0</span>]… │\n",
       "│ (<span style=\"color: #0087ff; text-decoration-color: #0087ff\">Dense</span>)             │                   │            │                   │\n",
       "├─────────────────────┼───────────────────┼────────────┼───────────────────┤\n",
       "│ department_output   │ (<span style=\"color: #00d7ff; text-decoration-color: #00d7ff\">None</span>, <span style=\"color: #00af00; text-decoration-color: #00af00\">3</span>)         │         <span style=\"color: #00af00; text-decoration-color: #00af00\">99</span> │ department_hidde… │\n",
       "│ (<span style=\"color: #0087ff; text-decoration-color: #0087ff\">Dense</span>)             │                   │            │                   │\n",
       "├─────────────────────┼───────────────────┼────────────┼───────────────────┤\n",
       "│ attrition_output    │ (<span style=\"color: #00d7ff; text-decoration-color: #00d7ff\">None</span>, <span style=\"color: #00af00; text-decoration-color: #00af00\">2</span>)         │         <span style=\"color: #00af00; text-decoration-color: #00af00\">66</span> │ attrition_hidden… │\n",
       "│ (<span style=\"color: #0087ff; text-decoration-color: #0087ff\">Dense</span>)             │                   │            │                   │\n",
       "└─────────────────────┴───────────────────┴────────────┴───────────────────┘\n",
       "</pre>\n"
      ],
      "text/plain": [
       "┏━━━━━━━━━━━━━━━━━━━━━┳━━━━━━━━━━━━━━━━━━━┳━━━━━━━━━━━━┳━━━━━━━━━━━━━━━━━━━┓\n",
       "┃\u001b[1m \u001b[0m\u001b[1mLayer (type)       \u001b[0m\u001b[1m \u001b[0m┃\u001b[1m \u001b[0m\u001b[1mOutput Shape     \u001b[0m\u001b[1m \u001b[0m┃\u001b[1m \u001b[0m\u001b[1m   Param #\u001b[0m\u001b[1m \u001b[0m┃\u001b[1m \u001b[0m\u001b[1mConnected to     \u001b[0m\u001b[1m \u001b[0m┃\n",
       "┡━━━━━━━━━━━━━━━━━━━━━╇━━━━━━━━━━━━━━━━━━━╇━━━━━━━━━━━━╇━━━━━━━━━━━━━━━━━━━┩\n",
       "│ input_layer_1       │ (\u001b[38;5;45mNone\u001b[0m, \u001b[38;5;34m10\u001b[0m)        │          \u001b[38;5;34m0\u001b[0m │ -                 │\n",
       "│ (\u001b[38;5;33mInputLayer\u001b[0m)        │                   │            │                   │\n",
       "├─────────────────────┼───────────────────┼────────────┼───────────────────┤\n",
       "│ shared_layer1       │ (\u001b[38;5;45mNone\u001b[0m, \u001b[38;5;34m64\u001b[0m)        │        \u001b[38;5;34m704\u001b[0m │ input_layer_1[\u001b[38;5;34m0\u001b[0m]… │\n",
       "│ (\u001b[38;5;33mDense\u001b[0m)             │                   │            │                   │\n",
       "├─────────────────────┼───────────────────┼────────────┼───────────────────┤\n",
       "│ shared_layer2       │ (\u001b[38;5;45mNone\u001b[0m, \u001b[38;5;34m128\u001b[0m)       │      \u001b[38;5;34m8,320\u001b[0m │ shared_layer1[\u001b[38;5;34m0\u001b[0m]… │\n",
       "│ (\u001b[38;5;33mDense\u001b[0m)             │                   │            │                   │\n",
       "├─────────────────────┼───────────────────┼────────────┼───────────────────┤\n",
       "│ department_hidden   │ (\u001b[38;5;45mNone\u001b[0m, \u001b[38;5;34m32\u001b[0m)        │      \u001b[38;5;34m4,128\u001b[0m │ shared_layer2[\u001b[38;5;34m0\u001b[0m]… │\n",
       "│ (\u001b[38;5;33mDense\u001b[0m)             │                   │            │                   │\n",
       "├─────────────────────┼───────────────────┼────────────┼───────────────────┤\n",
       "│ attrition_hidden    │ (\u001b[38;5;45mNone\u001b[0m, \u001b[38;5;34m32\u001b[0m)        │      \u001b[38;5;34m4,128\u001b[0m │ shared_layer2[\u001b[38;5;34m0\u001b[0m]… │\n",
       "│ (\u001b[38;5;33mDense\u001b[0m)             │                   │            │                   │\n",
       "├─────────────────────┼───────────────────┼────────────┼───────────────────┤\n",
       "│ department_output   │ (\u001b[38;5;45mNone\u001b[0m, \u001b[38;5;34m3\u001b[0m)         │         \u001b[38;5;34m99\u001b[0m │ department_hidde… │\n",
       "│ (\u001b[38;5;33mDense\u001b[0m)             │                   │            │                   │\n",
       "├─────────────────────┼───────────────────┼────────────┼───────────────────┤\n",
       "│ attrition_output    │ (\u001b[38;5;45mNone\u001b[0m, \u001b[38;5;34m2\u001b[0m)         │         \u001b[38;5;34m66\u001b[0m │ attrition_hidden… │\n",
       "│ (\u001b[38;5;33mDense\u001b[0m)             │                   │            │                   │\n",
       "└─────────────────────┴───────────────────┴────────────┴───────────────────┘\n"
      ]
     },
     "metadata": {},
     "output_type": "display_data"
    },
    {
     "data": {
      "text/html": [
       "<pre style=\"white-space:pre;overflow-x:auto;line-height:normal;font-family:Menlo,'DejaVu Sans Mono',consolas,'Courier New',monospace\"><span style=\"font-weight: bold\"> Total params: </span><span style=\"color: #00af00; text-decoration-color: #00af00\">17,445</span> (68.14 KB)\n",
       "</pre>\n"
      ],
      "text/plain": [
       "\u001b[1m Total params: \u001b[0m\u001b[38;5;34m17,445\u001b[0m (68.14 KB)\n"
      ]
     },
     "metadata": {},
     "output_type": "display_data"
    },
    {
     "data": {
      "text/html": [
       "<pre style=\"white-space:pre;overflow-x:auto;line-height:normal;font-family:Menlo,'DejaVu Sans Mono',consolas,'Courier New',monospace\"><span style=\"font-weight: bold\"> Trainable params: </span><span style=\"color: #00af00; text-decoration-color: #00af00\">17,445</span> (68.14 KB)\n",
       "</pre>\n"
      ],
      "text/plain": [
       "\u001b[1m Trainable params: \u001b[0m\u001b[38;5;34m17,445\u001b[0m (68.14 KB)\n"
      ]
     },
     "metadata": {},
     "output_type": "display_data"
    },
    {
     "data": {
      "text/html": [
       "<pre style=\"white-space:pre;overflow-x:auto;line-height:normal;font-family:Menlo,'DejaVu Sans Mono',consolas,'Courier New',monospace\"><span style=\"font-weight: bold\"> Non-trainable params: </span><span style=\"color: #00af00; text-decoration-color: #00af00\">0</span> (0.00 B)\n",
       "</pre>\n"
      ],
      "text/plain": [
       "\u001b[1m Non-trainable params: \u001b[0m\u001b[38;5;34m0\u001b[0m (0.00 B)\n"
      ]
     },
     "metadata": {},
     "output_type": "display_data"
    }
   ],
   "source": [
    "# Create the model\n",
    "model = Model(inputs=input_layer, outputs=[department_output, attrition_output])\n",
    "\n",
    "# Compile the model\n",
    "model.compile(optimizer='adam',\n",
    "              loss={'department_output': 'categorical_crossentropy',\n",
    "                    'attrition_output': 'categorical_crossentropy'},\n",
    "              metrics={'department_output': 'accuracy',\n",
    "                       'attrition_output': 'accuracy'})\n",
    "\n",
    "# Summarize the model\n",
    "model.summary()"
   ]
  },
  {
   "cell_type": "code",
   "execution_count": 15,
   "metadata": {
    "colab": {
     "base_uri": "https://localhost:8080/",
     "height": 373
    },
    "executionInfo": {
     "elapsed": 186,
     "status": "error",
     "timestamp": 1736627928875,
     "user": {
      "displayName": "G R",
      "userId": "01677386158693807048"
     },
     "user_tz": 480
    },
    "id": "c8oGy0dpGc3U",
    "outputId": "3b967e46-35bd-4ff6-d7ec-2dca443645ef"
   },
   "outputs": [
    {
     "name": "stdout",
     "output_type": "stream",
     "text": [
      "Epoch 1/100\n",
      "\u001b[1m35/35\u001b[0m \u001b[32m━━━━━━━━━━━━━━━━━━━━\u001b[0m\u001b[37m\u001b[0m \u001b[1m4s\u001b[0m 20ms/step - attrition_output_accuracy: 0.7834 - attrition_output_loss: 0.5459 - department_output_accuracy: 0.4769 - department_output_loss: 0.9543 - loss: 1.5002 - val_attrition_output_accuracy: 0.8451 - val_attrition_output_loss: 0.4105 - val_department_output_accuracy: 0.6576 - val_department_output_loss: 0.7577 - val_loss: 1.1784\n",
      "Epoch 2/100\n",
      "\u001b[1m35/35\u001b[0m \u001b[32m━━━━━━━━━━━━━━━━━━━━\u001b[0m\u001b[37m\u001b[0m \u001b[1m0s\u001b[0m 6ms/step - attrition_output_accuracy: 0.8511 - attrition_output_loss: 0.3988 - department_output_accuracy: 0.6698 - department_output_loss: 0.7539 - loss: 1.1526 - val_attrition_output_accuracy: 0.8560 - val_attrition_output_loss: 0.3736 - val_department_output_accuracy: 0.6576 - val_department_output_loss: 0.7525 - val_loss: 1.1328\n",
      "Epoch 3/100\n",
      "\u001b[1m35/35\u001b[0m \u001b[32m━━━━━━━━━━━━━━━━━━━━\u001b[0m\u001b[37m\u001b[0m \u001b[1m0s\u001b[0m 6ms/step - attrition_output_accuracy: 0.8541 - attrition_output_loss: 0.3689 - department_output_accuracy: 0.6453 - department_output_loss: 0.7870 - loss: 1.1559 - val_attrition_output_accuracy: 0.8614 - val_attrition_output_loss: 0.3568 - val_department_output_accuracy: 0.6576 - val_department_output_loss: 0.7563 - val_loss: 1.1192\n",
      "Epoch 4/100\n",
      "\u001b[1m35/35\u001b[0m \u001b[32m━━━━━━━━━━━━━━━━━━━━\u001b[0m\u001b[37m\u001b[0m \u001b[1m0s\u001b[0m 6ms/step - attrition_output_accuracy: 0.8727 - attrition_output_loss: 0.3532 - department_output_accuracy: 0.6420 - department_output_loss: 0.7821 - loss: 1.1353 - val_attrition_output_accuracy: 0.8533 - val_attrition_output_loss: 0.3552 - val_department_output_accuracy: 0.6576 - val_department_output_loss: 0.7554 - val_loss: 1.1165\n",
      "Epoch 5/100\n",
      "\u001b[1m35/35\u001b[0m \u001b[32m━━━━━━━━━━━━━━━━━━━━\u001b[0m\u001b[37m\u001b[0m \u001b[1m0s\u001b[0m 6ms/step - attrition_output_accuracy: 0.8633 - attrition_output_loss: 0.3378 - department_output_accuracy: 0.6631 - department_output_loss: 0.7491 - loss: 1.0867 - val_attrition_output_accuracy: 0.8587 - val_attrition_output_loss: 0.3507 - val_department_output_accuracy: 0.6603 - val_department_output_loss: 0.7554 - val_loss: 1.1137\n",
      "Epoch 6/100\n",
      "\u001b[1m35/35\u001b[0m \u001b[32m━━━━━━━━━━━━━━━━━━━━\u001b[0m\u001b[37m\u001b[0m \u001b[1m0s\u001b[0m 6ms/step - attrition_output_accuracy: 0.8639 - attrition_output_loss: 0.3262 - department_output_accuracy: 0.6517 - department_output_loss: 0.7583 - loss: 1.0842 - val_attrition_output_accuracy: 0.8777 - val_attrition_output_loss: 0.3431 - val_department_output_accuracy: 0.6576 - val_department_output_loss: 0.7590 - val_loss: 1.1100\n",
      "Epoch 7/100\n",
      "\u001b[1m35/35\u001b[0m \u001b[32m━━━━━━━━━━━━━━━━━━━━\u001b[0m\u001b[37m\u001b[0m \u001b[1m0s\u001b[0m 7ms/step - attrition_output_accuracy: 0.8678 - attrition_output_loss: 0.3212 - department_output_accuracy: 0.6512 - department_output_loss: 0.7687 - loss: 1.0897 - val_attrition_output_accuracy: 0.8750 - val_attrition_output_loss: 0.3441 - val_department_output_accuracy: 0.6549 - val_department_output_loss: 0.7610 - val_loss: 1.1130\n",
      "Epoch 8/100\n",
      "\u001b[1m35/35\u001b[0m \u001b[32m━━━━━━━━━━━━━━━━━━━━\u001b[0m\u001b[37m\u001b[0m \u001b[1m0s\u001b[0m 7ms/step - attrition_output_accuracy: 0.8579 - attrition_output_loss: 0.3395 - department_output_accuracy: 0.6687 - department_output_loss: 0.7460 - loss: 1.0856 - val_attrition_output_accuracy: 0.8723 - val_attrition_output_loss: 0.3352 - val_department_output_accuracy: 0.6549 - val_department_output_loss: 0.7592 - val_loss: 1.1037\n",
      "Epoch 9/100\n",
      "\u001b[1m35/35\u001b[0m \u001b[32m━━━━━━━━━━━━━━━━━━━━\u001b[0m\u001b[37m\u001b[0m \u001b[1m0s\u001b[0m 6ms/step - attrition_output_accuracy: 0.8678 - attrition_output_loss: 0.3032 - department_output_accuracy: 0.6304 - department_output_loss: 0.7802 - loss: 1.0831 - val_attrition_output_accuracy: 0.8804 - val_attrition_output_loss: 0.3340 - val_department_output_accuracy: 0.6549 - val_department_output_loss: 0.7617 - val_loss: 1.1062\n",
      "Epoch 10/100\n",
      "\u001b[1m35/35\u001b[0m \u001b[32m━━━━━━━━━━━━━━━━━━━━\u001b[0m\u001b[37m\u001b[0m \u001b[1m0s\u001b[0m 6ms/step - attrition_output_accuracy: 0.8588 - attrition_output_loss: 0.3306 - department_output_accuracy: 0.6636 - department_output_loss: 0.7172 - loss: 1.0479 - val_attrition_output_accuracy: 0.8859 - val_attrition_output_loss: 0.3318 - val_department_output_accuracy: 0.6549 - val_department_output_loss: 0.7715 - val_loss: 1.1139\n",
      "Epoch 11/100\n",
      "\u001b[1m35/35\u001b[0m \u001b[32m━━━━━━━━━━━━━━━━━━━━\u001b[0m\u001b[37m\u001b[0m \u001b[1m0s\u001b[0m 6ms/step - attrition_output_accuracy: 0.8759 - attrition_output_loss: 0.3049 - department_output_accuracy: 0.6684 - department_output_loss: 0.7230 - loss: 1.0280 - val_attrition_output_accuracy: 0.8533 - val_attrition_output_loss: 0.3515 - val_department_output_accuracy: 0.6440 - val_department_output_loss: 0.7699 - val_loss: 1.1352\n",
      "Epoch 12/100\n",
      "\u001b[1m35/35\u001b[0m \u001b[32m━━━━━━━━━━━━━━━━━━━━\u001b[0m\u001b[37m\u001b[0m \u001b[1m0s\u001b[0m 6ms/step - attrition_output_accuracy: 0.8608 - attrition_output_loss: 0.3162 - department_output_accuracy: 0.6677 - department_output_loss: 0.7097 - loss: 1.0261 - val_attrition_output_accuracy: 0.8750 - val_attrition_output_loss: 0.3289 - val_department_output_accuracy: 0.6440 - val_department_output_loss: 0.7671 - val_loss: 1.1080\n",
      "Epoch 13/100\n",
      "\u001b[1m35/35\u001b[0m \u001b[32m━━━━━━━━━━━━━━━━━━━━\u001b[0m\u001b[37m\u001b[0m \u001b[1m0s\u001b[0m 8ms/step - attrition_output_accuracy: 0.8725 - attrition_output_loss: 0.2820 - department_output_accuracy: 0.6344 - department_output_loss: 0.7478 - loss: 1.0300 - val_attrition_output_accuracy: 0.8804 - val_attrition_output_loss: 0.3273 - val_department_output_accuracy: 0.6413 - val_department_output_loss: 0.7753 - val_loss: 1.1152\n",
      "Epoch 14/100\n",
      "\u001b[1m35/35\u001b[0m \u001b[32m━━━━━━━━━━━━━━━━━━━━\u001b[0m\u001b[37m\u001b[0m \u001b[1m0s\u001b[0m 6ms/step - attrition_output_accuracy: 0.8873 - attrition_output_loss: 0.2963 - department_output_accuracy: 0.6989 - department_output_loss: 0.6801 - loss: 0.9764 - val_attrition_output_accuracy: 0.8886 - val_attrition_output_loss: 0.3348 - val_department_output_accuracy: 0.6467 - val_department_output_loss: 0.7787 - val_loss: 1.1265\n",
      "Epoch 15/100\n",
      "\u001b[1m35/35\u001b[0m \u001b[32m━━━━━━━━━━━━━━━━━━━━\u001b[0m\u001b[37m\u001b[0m \u001b[1m0s\u001b[0m 6ms/step - attrition_output_accuracy: 0.9045 - attrition_output_loss: 0.2647 - department_output_accuracy: 0.6940 - department_output_loss: 0.7071 - loss: 0.9719 - val_attrition_output_accuracy: 0.8750 - val_attrition_output_loss: 0.3339 - val_department_output_accuracy: 0.6277 - val_department_output_loss: 0.7745 - val_loss: 1.1233\n",
      "Epoch 16/100\n",
      "\u001b[1m35/35\u001b[0m \u001b[32m━━━━━━━━━━━━━━━━━━━━\u001b[0m\u001b[37m\u001b[0m \u001b[1m0s\u001b[0m 7ms/step - attrition_output_accuracy: 0.8702 - attrition_output_loss: 0.2870 - department_output_accuracy: 0.6931 - department_output_loss: 0.6887 - loss: 0.9759 - val_attrition_output_accuracy: 0.8777 - val_attrition_output_loss: 0.3310 - val_department_output_accuracy: 0.6467 - val_department_output_loss: 0.7833 - val_loss: 1.1301\n",
      "Epoch 17/100\n",
      "\u001b[1m35/35\u001b[0m \u001b[32m━━━━━━━━━━━━━━━━━━━━\u001b[0m\u001b[37m\u001b[0m \u001b[1m0s\u001b[0m 6ms/step - attrition_output_accuracy: 0.9052 - attrition_output_loss: 0.2428 - department_output_accuracy: 0.7034 - department_output_loss: 0.6727 - loss: 0.9156 - val_attrition_output_accuracy: 0.8886 - val_attrition_output_loss: 0.3381 - val_department_output_accuracy: 0.6168 - val_department_output_loss: 0.7895 - val_loss: 1.1433\n",
      "Epoch 18/100\n",
      "\u001b[1m35/35\u001b[0m \u001b[32m━━━━━━━━━━━━━━━━━━━━\u001b[0m\u001b[37m\u001b[0m \u001b[1m0s\u001b[0m 6ms/step - attrition_output_accuracy: 0.8965 - attrition_output_loss: 0.2494 - department_output_accuracy: 0.7232 - department_output_loss: 0.6441 - loss: 0.8937 - val_attrition_output_accuracy: 0.8777 - val_attrition_output_loss: 0.3446 - val_department_output_accuracy: 0.6250 - val_department_output_loss: 0.7891 - val_loss: 1.1494\n",
      "Epoch 19/100\n",
      "\u001b[1m35/35\u001b[0m \u001b[32m━━━━━━━━━━━━━━━━━━━━\u001b[0m\u001b[37m\u001b[0m \u001b[1m0s\u001b[0m 8ms/step - attrition_output_accuracy: 0.8968 - attrition_output_loss: 0.2792 - department_output_accuracy: 0.7070 - department_output_loss: 0.6618 - loss: 0.9410 - val_attrition_output_accuracy: 0.8777 - val_attrition_output_loss: 0.3405 - val_department_output_accuracy: 0.6467 - val_department_output_loss: 0.7953 - val_loss: 1.1518\n",
      "Epoch 20/100\n",
      "\u001b[1m35/35\u001b[0m \u001b[32m━━━━━━━━━━━━━━━━━━━━\u001b[0m\u001b[37m\u001b[0m \u001b[1m0s\u001b[0m 7ms/step - attrition_output_accuracy: 0.9025 - attrition_output_loss: 0.2333 - department_output_accuracy: 0.7015 - department_output_loss: 0.6463 - loss: 0.8797 - val_attrition_output_accuracy: 0.8478 - val_attrition_output_loss: 0.3845 - val_department_output_accuracy: 0.6033 - val_department_output_loss: 0.7978 - val_loss: 1.1966\n",
      "Epoch 21/100\n",
      "\u001b[1m35/35\u001b[0m \u001b[32m━━━━━━━━━━━━━━━━━━━━\u001b[0m\u001b[37m\u001b[0m \u001b[1m0s\u001b[0m 6ms/step - attrition_output_accuracy: 0.9018 - attrition_output_loss: 0.2387 - department_output_accuracy: 0.7206 - department_output_loss: 0.6353 - loss: 0.8737 - val_attrition_output_accuracy: 0.8668 - val_attrition_output_loss: 0.3533 - val_department_output_accuracy: 0.6332 - val_department_output_loss: 0.8257 - val_loss: 1.1991\n",
      "Epoch 22/100\n",
      "\u001b[1m35/35\u001b[0m \u001b[32m━━━━━━━━━━━━━━━━━━━━\u001b[0m\u001b[37m\u001b[0m \u001b[1m0s\u001b[0m 6ms/step - attrition_output_accuracy: 0.9121 - attrition_output_loss: 0.2320 - department_output_accuracy: 0.7349 - department_output_loss: 0.6023 - loss: 0.8345 - val_attrition_output_accuracy: 0.8668 - val_attrition_output_loss: 0.3699 - val_department_output_accuracy: 0.5897 - val_department_output_loss: 0.8245 - val_loss: 1.2130\n",
      "Epoch 23/100\n",
      "\u001b[1m35/35\u001b[0m \u001b[32m━━━━━━━━━━━━━━━━━━━━\u001b[0m\u001b[37m\u001b[0m \u001b[1m0s\u001b[0m 6ms/step - attrition_output_accuracy: 0.9034 - attrition_output_loss: 0.2187 - department_output_accuracy: 0.7596 - department_output_loss: 0.5956 - loss: 0.8144 - val_attrition_output_accuracy: 0.8804 - val_attrition_output_loss: 0.3474 - val_department_output_accuracy: 0.6168 - val_department_output_loss: 0.8394 - val_loss: 1.2060\n",
      "Epoch 24/100\n",
      "\u001b[1m35/35\u001b[0m \u001b[32m━━━━━━━━━━━━━━━━━━━━\u001b[0m\u001b[37m\u001b[0m \u001b[1m0s\u001b[0m 6ms/step - attrition_output_accuracy: 0.9165 - attrition_output_loss: 0.1921 - department_output_accuracy: 0.7401 - department_output_loss: 0.6019 - loss: 0.7940 - val_attrition_output_accuracy: 0.8723 - val_attrition_output_loss: 0.3656 - val_department_output_accuracy: 0.6033 - val_department_output_loss: 0.8414 - val_loss: 1.2269\n",
      "Epoch 25/100\n",
      "\u001b[1m35/35\u001b[0m \u001b[32m━━━━━━━━━━━━━━━━━━━━\u001b[0m\u001b[37m\u001b[0m \u001b[1m0s\u001b[0m 6ms/step - attrition_output_accuracy: 0.9213 - attrition_output_loss: 0.1912 - department_output_accuracy: 0.7568 - department_output_loss: 0.5871 - loss: 0.7785 - val_attrition_output_accuracy: 0.8750 - val_attrition_output_loss: 0.3634 - val_department_output_accuracy: 0.5897 - val_department_output_loss: 0.8464 - val_loss: 1.2287\n",
      "Epoch 26/100\n",
      "\u001b[1m35/35\u001b[0m \u001b[32m━━━━━━━━━━━━━━━━━━━━\u001b[0m\u001b[37m\u001b[0m \u001b[1m0s\u001b[0m 6ms/step - attrition_output_accuracy: 0.9174 - attrition_output_loss: 0.2073 - department_output_accuracy: 0.7599 - department_output_loss: 0.5967 - loss: 0.8040 - val_attrition_output_accuracy: 0.8750 - val_attrition_output_loss: 0.3748 - val_department_output_accuracy: 0.6087 - val_department_output_loss: 0.8740 - val_loss: 1.2720\n",
      "Epoch 27/100\n",
      "\u001b[1m35/35\u001b[0m \u001b[32m━━━━━━━━━━━━━━━━━━━━\u001b[0m\u001b[37m\u001b[0m \u001b[1m0s\u001b[0m 6ms/step - attrition_output_accuracy: 0.9312 - attrition_output_loss: 0.1842 - department_output_accuracy: 0.7909 - department_output_loss: 0.5155 - loss: 0.6995 - val_attrition_output_accuracy: 0.8560 - val_attrition_output_loss: 0.3760 - val_department_output_accuracy: 0.5652 - val_department_output_loss: 0.9082 - val_loss: 1.3060\n",
      "Epoch 28/100\n",
      "\u001b[1m35/35\u001b[0m \u001b[32m━━━━━━━━━━━━━━━━━━━━\u001b[0m\u001b[37m\u001b[0m \u001b[1m0s\u001b[0m 7ms/step - attrition_output_accuracy: 0.9372 - attrition_output_loss: 0.1756 - department_output_accuracy: 0.7958 - department_output_loss: 0.5340 - loss: 0.7097 - val_attrition_output_accuracy: 0.8668 - val_attrition_output_loss: 0.3851 - val_department_output_accuracy: 0.5951 - val_department_output_loss: 0.8805 - val_loss: 1.2860\n",
      "Epoch 29/100\n",
      "\u001b[1m35/35\u001b[0m \u001b[32m━━━━━━━━━━━━━━━━━━━━\u001b[0m\u001b[37m\u001b[0m \u001b[1m0s\u001b[0m 12ms/step - attrition_output_accuracy: 0.9408 - attrition_output_loss: 0.1583 - department_output_accuracy: 0.7991 - department_output_loss: 0.5128 - loss: 0.6711 - val_attrition_output_accuracy: 0.8587 - val_attrition_output_loss: 0.3873 - val_department_output_accuracy: 0.5978 - val_department_output_loss: 0.8824 - val_loss: 1.2932\n",
      "Epoch 30/100\n",
      "\u001b[1m35/35\u001b[0m \u001b[32m━━━━━━━━━━━━━━━━━━━━\u001b[0m\u001b[37m\u001b[0m \u001b[1m0s\u001b[0m 11ms/step - attrition_output_accuracy: 0.9332 - attrition_output_loss: 0.1673 - department_output_accuracy: 0.8053 - department_output_loss: 0.4917 - loss: 0.6588 - val_attrition_output_accuracy: 0.8614 - val_attrition_output_loss: 0.3974 - val_department_output_accuracy: 0.6168 - val_department_output_loss: 0.9200 - val_loss: 1.3407\n",
      "Epoch 31/100\n",
      "\u001b[1m35/35\u001b[0m \u001b[32m━━━━━━━━━━━━━━━━━━━━\u001b[0m\u001b[37m\u001b[0m \u001b[1m0s\u001b[0m 10ms/step - attrition_output_accuracy: 0.9468 - attrition_output_loss: 0.1612 - department_output_accuracy: 0.8011 - department_output_loss: 0.5056 - loss: 0.6668 - val_attrition_output_accuracy: 0.8750 - val_attrition_output_loss: 0.4084 - val_department_output_accuracy: 0.5924 - val_department_output_loss: 0.9303 - val_loss: 1.3610\n",
      "Epoch 32/100\n",
      "\u001b[1m35/35\u001b[0m \u001b[32m━━━━━━━━━━━━━━━━━━━━\u001b[0m\u001b[37m\u001b[0m \u001b[1m0s\u001b[0m 11ms/step - attrition_output_accuracy: 0.9298 - attrition_output_loss: 0.1730 - department_output_accuracy: 0.8026 - department_output_loss: 0.4774 - loss: 0.6505 - val_attrition_output_accuracy: 0.8723 - val_attrition_output_loss: 0.4122 - val_department_output_accuracy: 0.6196 - val_department_output_loss: 0.9687 - val_loss: 1.4092\n",
      "Epoch 33/100\n",
      "\u001b[1m35/35\u001b[0m \u001b[32m━━━━━━━━━━━━━━━━━━━━\u001b[0m\u001b[37m\u001b[0m \u001b[1m0s\u001b[0m 8ms/step - attrition_output_accuracy: 0.9480 - attrition_output_loss: 0.1316 - department_output_accuracy: 0.8258 - department_output_loss: 0.4469 - loss: 0.5781 - val_attrition_output_accuracy: 0.8587 - val_attrition_output_loss: 0.3987 - val_department_output_accuracy: 0.5353 - val_department_output_loss: 0.9512 - val_loss: 1.3770\n",
      "Epoch 34/100\n",
      "\u001b[1m35/35\u001b[0m \u001b[32m━━━━━━━━━━━━━━━━━━━━\u001b[0m\u001b[37m\u001b[0m \u001b[1m0s\u001b[0m 7ms/step - attrition_output_accuracy: 0.9494 - attrition_output_loss: 0.1447 - department_output_accuracy: 0.8457 - department_output_loss: 0.4208 - loss: 0.5655 - val_attrition_output_accuracy: 0.8641 - val_attrition_output_loss: 0.4185 - val_department_output_accuracy: 0.6033 - val_department_output_loss: 0.9826 - val_loss: 1.4277\n",
      "Epoch 35/100\n",
      "\u001b[1m35/35\u001b[0m \u001b[32m━━━━━━━━━━━━━━━━━━━━\u001b[0m\u001b[37m\u001b[0m \u001b[1m0s\u001b[0m 6ms/step - attrition_output_accuracy: 0.9622 - attrition_output_loss: 0.1300 - department_output_accuracy: 0.8312 - department_output_loss: 0.4310 - loss: 0.5606 - val_attrition_output_accuracy: 0.8560 - val_attrition_output_loss: 0.4229 - val_department_output_accuracy: 0.5245 - val_department_output_loss: 1.0139 - val_loss: 1.4602\n",
      "Epoch 36/100\n",
      "\u001b[1m35/35\u001b[0m \u001b[32m━━━━━━━━━━━━━━━━━━━━\u001b[0m\u001b[37m\u001b[0m \u001b[1m0s\u001b[0m 6ms/step - attrition_output_accuracy: 0.9684 - attrition_output_loss: 0.1193 - department_output_accuracy: 0.8384 - department_output_loss: 0.4193 - loss: 0.5386 - val_attrition_output_accuracy: 0.8668 - val_attrition_output_loss: 0.4436 - val_department_output_accuracy: 0.5978 - val_department_output_loss: 1.0253 - val_loss: 1.4943\n",
      "Epoch 37/100\n",
      "\u001b[1m35/35\u001b[0m \u001b[32m━━━━━━━━━━━━━━━━━━━━\u001b[0m\u001b[37m\u001b[0m \u001b[1m0s\u001b[0m 7ms/step - attrition_output_accuracy: 0.9662 - attrition_output_loss: 0.1124 - department_output_accuracy: 0.8582 - department_output_loss: 0.3866 - loss: 0.4990 - val_attrition_output_accuracy: 0.8614 - val_attrition_output_loss: 0.4519 - val_department_output_accuracy: 0.5462 - val_department_output_loss: 1.0198 - val_loss: 1.5021\n",
      "Epoch 38/100\n",
      "\u001b[1m35/35\u001b[0m \u001b[32m━━━━━━━━━━━━━━━━━━━━\u001b[0m\u001b[37m\u001b[0m \u001b[1m0s\u001b[0m 6ms/step - attrition_output_accuracy: 0.9721 - attrition_output_loss: 0.1020 - department_output_accuracy: 0.8726 - department_output_loss: 0.3754 - loss: 0.4773 - val_attrition_output_accuracy: 0.8668 - val_attrition_output_loss: 0.4941 - val_department_output_accuracy: 0.5679 - val_department_output_loss: 1.0345 - val_loss: 1.5566\n",
      "Epoch 39/100\n",
      "\u001b[1m35/35\u001b[0m \u001b[32m━━━━━━━━━━━━━━━━━━━━\u001b[0m\u001b[37m\u001b[0m \u001b[1m0s\u001b[0m 6ms/step - attrition_output_accuracy: 0.9711 - attrition_output_loss: 0.0972 - department_output_accuracy: 0.8570 - department_output_loss: 0.3729 - loss: 0.4703 - val_attrition_output_accuracy: 0.8641 - val_attrition_output_loss: 0.4834 - val_department_output_accuracy: 0.5571 - val_department_output_loss: 1.0351 - val_loss: 1.5455\n",
      "Epoch 40/100\n",
      "\u001b[1m35/35\u001b[0m \u001b[32m━━━━━━━━━━━━━━━━━━━━\u001b[0m\u001b[37m\u001b[0m \u001b[1m0s\u001b[0m 6ms/step - attrition_output_accuracy: 0.9716 - attrition_output_loss: 0.0945 - department_output_accuracy: 0.8558 - department_output_loss: 0.3878 - loss: 0.4826 - val_attrition_output_accuracy: 0.8533 - val_attrition_output_loss: 0.4990 - val_department_output_accuracy: 0.5978 - val_department_output_loss: 1.0780 - val_loss: 1.6087\n",
      "Epoch 41/100\n",
      "\u001b[1m35/35\u001b[0m \u001b[32m━━━━━━━━━━━━━━━━━━━━\u001b[0m\u001b[37m\u001b[0m \u001b[1m0s\u001b[0m 6ms/step - attrition_output_accuracy: 0.9805 - attrition_output_loss: 0.0851 - department_output_accuracy: 0.8604 - department_output_loss: 0.3563 - loss: 0.4413 - val_attrition_output_accuracy: 0.8098 - val_attrition_output_loss: 0.5089 - val_department_output_accuracy: 0.5842 - val_department_output_loss: 1.0939 - val_loss: 1.6362\n",
      "Epoch 42/100\n",
      "\u001b[1m35/35\u001b[0m \u001b[32m━━━━━━━━━━━━━━━━━━━━\u001b[0m\u001b[37m\u001b[0m \u001b[1m0s\u001b[0m 6ms/step - attrition_output_accuracy: 0.9669 - attrition_output_loss: 0.0945 - department_output_accuracy: 0.9007 - department_output_loss: 0.3207 - loss: 0.4152 - val_attrition_output_accuracy: 0.8505 - val_attrition_output_loss: 0.5033 - val_department_output_accuracy: 0.5353 - val_department_output_loss: 1.1008 - val_loss: 1.6343\n",
      "Epoch 43/100\n",
      "\u001b[1m35/35\u001b[0m \u001b[32m━━━━━━━━━━━━━━━━━━━━\u001b[0m\u001b[37m\u001b[0m \u001b[1m0s\u001b[0m 6ms/step - attrition_output_accuracy: 0.9744 - attrition_output_loss: 0.0749 - department_output_accuracy: 0.8863 - department_output_loss: 0.3159 - loss: 0.3908 - val_attrition_output_accuracy: 0.8370 - val_attrition_output_loss: 0.5005 - val_department_output_accuracy: 0.4946 - val_department_output_loss: 1.1746 - val_loss: 1.7051\n",
      "Epoch 44/100\n",
      "\u001b[1m35/35\u001b[0m \u001b[32m━━━━━━━━━━━━━━━━━━━━\u001b[0m\u001b[37m\u001b[0m \u001b[1m0s\u001b[0m 7ms/step - attrition_output_accuracy: 0.9816 - attrition_output_loss: 0.0699 - department_output_accuracy: 0.8946 - department_output_loss: 0.3241 - loss: 0.3941 - val_attrition_output_accuracy: 0.8560 - val_attrition_output_loss: 0.5194 - val_department_output_accuracy: 0.5761 - val_department_output_loss: 1.1922 - val_loss: 1.7509\n",
      "Epoch 45/100\n",
      "\u001b[1m35/35\u001b[0m \u001b[32m━━━━━━━━━━━━━━━━━━━━\u001b[0m\u001b[37m\u001b[0m \u001b[1m1s\u001b[0m 7ms/step - attrition_output_accuracy: 0.9827 - attrition_output_loss: 0.0635 - department_output_accuracy: 0.8885 - department_output_loss: 0.3136 - loss: 0.3770 - val_attrition_output_accuracy: 0.8397 - val_attrition_output_loss: 0.5592 - val_department_output_accuracy: 0.5489 - val_department_output_loss: 1.1571 - val_loss: 1.7499\n",
      "Epoch 46/100\n",
      "\u001b[1m35/35\u001b[0m \u001b[32m━━━━━━━━━━━━━━━━━━━━\u001b[0m\u001b[37m\u001b[0m \u001b[1m0s\u001b[0m 7ms/step - attrition_output_accuracy: 0.9871 - attrition_output_loss: 0.0555 - department_output_accuracy: 0.9095 - department_output_loss: 0.2855 - loss: 0.3410 - val_attrition_output_accuracy: 0.8451 - val_attrition_output_loss: 0.5365 - val_department_output_accuracy: 0.5353 - val_department_output_loss: 1.2477 - val_loss: 1.8202\n",
      "Epoch 47/100\n",
      "\u001b[1m35/35\u001b[0m \u001b[32m━━━━━━━━━━━━━━━━━━━━\u001b[0m\u001b[37m\u001b[0m \u001b[1m0s\u001b[0m 6ms/step - attrition_output_accuracy: 0.9925 - attrition_output_loss: 0.0594 - department_output_accuracy: 0.9017 - department_output_loss: 0.2883 - loss: 0.3477 - val_attrition_output_accuracy: 0.8668 - val_attrition_output_loss: 0.5832 - val_department_output_accuracy: 0.5190 - val_department_output_loss: 1.2338 - val_loss: 1.8478\n",
      "Epoch 48/100\n",
      "\u001b[1m35/35\u001b[0m \u001b[32m━━━━━━━━━━━━━━━━━━━━\u001b[0m\u001b[37m\u001b[0m \u001b[1m0s\u001b[0m 6ms/step - attrition_output_accuracy: 0.9770 - attrition_output_loss: 0.0711 - department_output_accuracy: 0.8968 - department_output_loss: 0.2912 - loss: 0.3623 - val_attrition_output_accuracy: 0.8560 - val_attrition_output_loss: 0.5482 - val_department_output_accuracy: 0.5217 - val_department_output_loss: 1.2776 - val_loss: 1.8553\n",
      "Epoch 49/100\n",
      "\u001b[1m35/35\u001b[0m \u001b[32m━━━━━━━━━━━━━━━━━━━━\u001b[0m\u001b[37m\u001b[0m \u001b[1m0s\u001b[0m 7ms/step - attrition_output_accuracy: 0.9845 - attrition_output_loss: 0.0547 - department_output_accuracy: 0.9013 - department_output_loss: 0.2867 - loss: 0.3413 - val_attrition_output_accuracy: 0.8533 - val_attrition_output_loss: 0.5452 - val_department_output_accuracy: 0.5489 - val_department_output_loss: 1.2854 - val_loss: 1.8728\n",
      "Epoch 50/100\n",
      "\u001b[1m35/35\u001b[0m \u001b[32m━━━━━━━━━━━━━━━━━━━━\u001b[0m\u001b[37m\u001b[0m \u001b[1m0s\u001b[0m 6ms/step - attrition_output_accuracy: 0.9760 - attrition_output_loss: 0.0697 - department_output_accuracy: 0.9079 - department_output_loss: 0.2552 - loss: 0.3248 - val_attrition_output_accuracy: 0.8261 - val_attrition_output_loss: 0.5828 - val_department_output_accuracy: 0.5435 - val_department_output_loss: 1.3048 - val_loss: 1.9363\n",
      "Epoch 51/100\n",
      "\u001b[1m35/35\u001b[0m \u001b[32m━━━━━━━━━━━━━━━━━━━━\u001b[0m\u001b[37m\u001b[0m \u001b[1m0s\u001b[0m 6ms/step - attrition_output_accuracy: 0.9924 - attrition_output_loss: 0.0522 - department_output_accuracy: 0.9262 - department_output_loss: 0.2395 - loss: 0.2917 - val_attrition_output_accuracy: 0.8397 - val_attrition_output_loss: 0.5732 - val_department_output_accuracy: 0.5652 - val_department_output_loss: 1.3123 - val_loss: 1.9245\n",
      "Epoch 52/100\n",
      "\u001b[1m35/35\u001b[0m \u001b[32m━━━━━━━━━━━━━━━━━━━━\u001b[0m\u001b[37m\u001b[0m \u001b[1m0s\u001b[0m 7ms/step - attrition_output_accuracy: 0.9870 - attrition_output_loss: 0.0542 - department_output_accuracy: 0.9263 - department_output_loss: 0.2314 - loss: 0.2855 - val_attrition_output_accuracy: 0.8668 - val_attrition_output_loss: 0.5879 - val_department_output_accuracy: 0.5353 - val_department_output_loss: 1.3342 - val_loss: 1.9613\n",
      "Epoch 53/100\n",
      "\u001b[1m35/35\u001b[0m \u001b[32m━━━━━━━━━━━━━━━━━━━━\u001b[0m\u001b[37m\u001b[0m \u001b[1m0s\u001b[0m 7ms/step - attrition_output_accuracy: 0.9942 - attrition_output_loss: 0.0421 - department_output_accuracy: 0.9351 - department_output_loss: 0.2170 - loss: 0.2591 - val_attrition_output_accuracy: 0.8560 - val_attrition_output_loss: 0.6293 - val_department_output_accuracy: 0.5326 - val_department_output_loss: 1.3559 - val_loss: 2.0270\n",
      "Epoch 54/100\n",
      "\u001b[1m35/35\u001b[0m \u001b[32m━━━━━━━━━━━━━━━━━━━━\u001b[0m\u001b[37m\u001b[0m \u001b[1m0s\u001b[0m 6ms/step - attrition_output_accuracy: 0.9912 - attrition_output_loss: 0.0375 - department_output_accuracy: 0.9363 - department_output_loss: 0.2083 - loss: 0.2458 - val_attrition_output_accuracy: 0.8424 - val_attrition_output_loss: 0.6106 - val_department_output_accuracy: 0.5000 - val_department_output_loss: 1.4649 - val_loss: 2.1163\n",
      "Epoch 55/100\n",
      "\u001b[1m35/35\u001b[0m \u001b[32m━━━━━━━━━━━━━━━━━━━━\u001b[0m\u001b[37m\u001b[0m \u001b[1m0s\u001b[0m 7ms/step - attrition_output_accuracy: 0.9879 - attrition_output_loss: 0.0462 - department_output_accuracy: 0.9366 - department_output_loss: 0.2091 - loss: 0.2554 - val_attrition_output_accuracy: 0.8614 - val_attrition_output_loss: 0.6521 - val_department_output_accuracy: 0.5109 - val_department_output_loss: 1.4756 - val_loss: 2.1650\n",
      "Epoch 56/100\n",
      "\u001b[1m35/35\u001b[0m \u001b[32m━━━━━━━━━━━━━━━━━━━━\u001b[0m\u001b[37m\u001b[0m \u001b[1m0s\u001b[0m 6ms/step - attrition_output_accuracy: 0.9968 - attrition_output_loss: 0.0345 - department_output_accuracy: 0.9304 - department_output_loss: 0.2016 - loss: 0.2362 - val_attrition_output_accuracy: 0.8451 - val_attrition_output_loss: 0.6446 - val_department_output_accuracy: 0.4973 - val_department_output_loss: 1.4753 - val_loss: 2.1595\n",
      "Epoch 57/100\n",
      "\u001b[1m35/35\u001b[0m \u001b[32m━━━━━━━━━━━━━━━━━━━━\u001b[0m\u001b[37m\u001b[0m \u001b[1m0s\u001b[0m 6ms/step - attrition_output_accuracy: 0.9948 - attrition_output_loss: 0.0340 - department_output_accuracy: 0.9553 - department_output_loss: 0.1842 - loss: 0.2182 - val_attrition_output_accuracy: 0.8533 - val_attrition_output_loss: 0.6481 - val_department_output_accuracy: 0.5272 - val_department_output_loss: 1.4586 - val_loss: 2.1547\n",
      "Epoch 58/100\n",
      "\u001b[1m35/35\u001b[0m \u001b[32m━━━━━━━━━━━━━━━━━━━━\u001b[0m\u001b[37m\u001b[0m \u001b[1m0s\u001b[0m 6ms/step - attrition_output_accuracy: 0.9969 - attrition_output_loss: 0.0296 - department_output_accuracy: 0.9570 - department_output_loss: 0.1616 - loss: 0.1912 - val_attrition_output_accuracy: 0.8451 - val_attrition_output_loss: 0.6983 - val_department_output_accuracy: 0.5299 - val_department_output_loss: 1.5453 - val_loss: 2.2907\n",
      "Epoch 59/100\n",
      "\u001b[1m35/35\u001b[0m \u001b[32m━━━━━━━━━━━━━━━━━━━━\u001b[0m\u001b[37m\u001b[0m \u001b[1m0s\u001b[0m 8ms/step - attrition_output_accuracy: 0.9965 - attrition_output_loss: 0.0270 - department_output_accuracy: 0.9463 - department_output_loss: 0.1750 - loss: 0.2020 - val_attrition_output_accuracy: 0.8397 - val_attrition_output_loss: 0.6765 - val_department_output_accuracy: 0.5136 - val_department_output_loss: 1.5168 - val_loss: 2.2385\n",
      "Epoch 60/100\n",
      "\u001b[1m35/35\u001b[0m \u001b[32m━━━━━━━━━━━━━━━━━━━━\u001b[0m\u001b[37m\u001b[0m \u001b[1m0s\u001b[0m 6ms/step - attrition_output_accuracy: 0.9992 - attrition_output_loss: 0.0289 - department_output_accuracy: 0.9613 - department_output_loss: 0.1572 - loss: 0.1859 - val_attrition_output_accuracy: 0.8397 - val_attrition_output_loss: 0.7164 - val_department_output_accuracy: 0.5272 - val_department_output_loss: 1.5587 - val_loss: 2.3168\n",
      "Epoch 61/100\n",
      "\u001b[1m35/35\u001b[0m \u001b[32m━━━━━━━━━━━━━━━━━━━━\u001b[0m\u001b[37m\u001b[0m \u001b[1m0s\u001b[0m 7ms/step - attrition_output_accuracy: 0.9958 - attrition_output_loss: 0.0277 - department_output_accuracy: 0.9593 - department_output_loss: 0.1576 - loss: 0.1852 - val_attrition_output_accuracy: 0.8614 - val_attrition_output_loss: 0.7731 - val_department_output_accuracy: 0.5272 - val_department_output_loss: 1.5534 - val_loss: 2.3748\n",
      "Epoch 62/100\n",
      "\u001b[1m35/35\u001b[0m \u001b[32m━━━━━━━━━━━━━━━━━━━━\u001b[0m\u001b[37m\u001b[0m \u001b[1m0s\u001b[0m 6ms/step - attrition_output_accuracy: 0.9991 - attrition_output_loss: 0.0238 - department_output_accuracy: 0.9599 - department_output_loss: 0.1521 - loss: 0.1760 - val_attrition_output_accuracy: 0.8288 - val_attrition_output_loss: 0.6965 - val_department_output_accuracy: 0.5299 - val_department_output_loss: 1.6159 - val_loss: 2.3618\n",
      "Epoch 63/100\n",
      "\u001b[1m35/35\u001b[0m \u001b[32m━━━━━━━━━━━━━━━━━━━━\u001b[0m\u001b[37m\u001b[0m \u001b[1m0s\u001b[0m 6ms/step - attrition_output_accuracy: 0.9956 - attrition_output_loss: 0.0263 - department_output_accuracy: 0.9522 - department_output_loss: 0.1558 - loss: 0.1821 - val_attrition_output_accuracy: 0.8451 - val_attrition_output_loss: 0.7879 - val_department_output_accuracy: 0.5109 - val_department_output_loss: 1.6316 - val_loss: 2.4699\n",
      "Epoch 64/100\n",
      "\u001b[1m35/35\u001b[0m \u001b[32m━━━━━━━━━━━━━━━━━━━━\u001b[0m\u001b[37m\u001b[0m \u001b[1m0s\u001b[0m 6ms/step - attrition_output_accuracy: 0.9993 - attrition_output_loss: 0.0259 - department_output_accuracy: 0.9607 - department_output_loss: 0.1461 - loss: 0.1721 - val_attrition_output_accuracy: 0.8397 - val_attrition_output_loss: 0.7620 - val_department_output_accuracy: 0.5408 - val_department_output_loss: 1.6625 - val_loss: 2.4780\n",
      "Epoch 65/100\n",
      "\u001b[1m35/35\u001b[0m \u001b[32m━━━━━━━━━━━━━━━━━━━━\u001b[0m\u001b[37m\u001b[0m \u001b[1m0s\u001b[0m 6ms/step - attrition_output_accuracy: 0.9984 - attrition_output_loss: 0.0212 - department_output_accuracy: 0.9584 - department_output_loss: 0.1406 - loss: 0.1618 - val_attrition_output_accuracy: 0.8533 - val_attrition_output_loss: 0.7829 - val_department_output_accuracy: 0.5217 - val_department_output_loss: 1.6601 - val_loss: 2.4941\n",
      "Epoch 66/100\n",
      "\u001b[1m35/35\u001b[0m \u001b[32m━━━━━━━━━━━━━━━━━━━━\u001b[0m\u001b[37m\u001b[0m \u001b[1m0s\u001b[0m 6ms/step - attrition_output_accuracy: 0.9942 - attrition_output_loss: 0.0266 - department_output_accuracy: 0.9745 - department_output_loss: 0.1284 - loss: 0.1548 - val_attrition_output_accuracy: 0.8533 - val_attrition_output_loss: 0.8122 - val_department_output_accuracy: 0.5380 - val_department_output_loss: 1.7092 - val_loss: 2.5816\n",
      "Epoch 67/100\n",
      "\u001b[1m35/35\u001b[0m \u001b[32m━━━━━━━━━━━━━━━━━━━━\u001b[0m\u001b[37m\u001b[0m \u001b[1m0s\u001b[0m 6ms/step - attrition_output_accuracy: 0.9964 - attrition_output_loss: 0.0224 - department_output_accuracy: 0.9703 - department_output_loss: 0.1223 - loss: 0.1448 - val_attrition_output_accuracy: 0.8315 - val_attrition_output_loss: 0.7678 - val_department_output_accuracy: 0.5109 - val_department_output_loss: 1.8324 - val_loss: 2.6450\n",
      "Epoch 68/100\n",
      "\u001b[1m35/35\u001b[0m \u001b[32m━━━━━━━━━━━━━━━━━━━━\u001b[0m\u001b[37m\u001b[0m \u001b[1m0s\u001b[0m 6ms/step - attrition_output_accuracy: 0.9979 - attrition_output_loss: 0.0198 - department_output_accuracy: 0.9599 - department_output_loss: 0.1402 - loss: 0.1601 - val_attrition_output_accuracy: 0.8397 - val_attrition_output_loss: 0.8005 - val_department_output_accuracy: 0.5326 - val_department_output_loss: 1.7438 - val_loss: 2.6035\n",
      "Epoch 69/100\n",
      "\u001b[1m35/35\u001b[0m \u001b[32m━━━━━━━━━━━━━━━━━━━━\u001b[0m\u001b[37m\u001b[0m \u001b[1m0s\u001b[0m 6ms/step - attrition_output_accuracy: 0.9960 - attrition_output_loss: 0.0162 - department_output_accuracy: 0.9766 - department_output_loss: 0.1034 - loss: 0.1195 - val_attrition_output_accuracy: 0.8505 - val_attrition_output_loss: 0.8270 - val_department_output_accuracy: 0.5462 - val_department_output_loss: 1.7444 - val_loss: 2.6277\n",
      "Epoch 70/100\n",
      "\u001b[1m35/35\u001b[0m \u001b[32m━━━━━━━━━━━━━━━━━━━━\u001b[0m\u001b[37m\u001b[0m \u001b[1m0s\u001b[0m 6ms/step - attrition_output_accuracy: 0.9980 - attrition_output_loss: 0.0155 - department_output_accuracy: 0.9751 - department_output_loss: 0.1074 - loss: 0.1227 - val_attrition_output_accuracy: 0.8533 - val_attrition_output_loss: 0.8682 - val_department_output_accuracy: 0.5408 - val_department_output_loss: 1.7643 - val_loss: 2.6918\n",
      "Epoch 71/100\n",
      "\u001b[1m35/35\u001b[0m \u001b[32m━━━━━━━━━━━━━━━━━━━━\u001b[0m\u001b[37m\u001b[0m \u001b[1m0s\u001b[0m 6ms/step - attrition_output_accuracy: 0.9966 - attrition_output_loss: 0.0216 - department_output_accuracy: 0.9791 - department_output_loss: 0.0967 - loss: 0.1182 - val_attrition_output_accuracy: 0.8424 - val_attrition_output_loss: 0.8466 - val_department_output_accuracy: 0.5625 - val_department_output_loss: 1.8351 - val_loss: 2.7387\n",
      "Epoch 72/100\n",
      "\u001b[1m35/35\u001b[0m \u001b[32m━━━━━━━━━━━━━━━━━━━━\u001b[0m\u001b[37m\u001b[0m \u001b[1m0s\u001b[0m 6ms/step - attrition_output_accuracy: 0.9863 - attrition_output_loss: 0.0362 - department_output_accuracy: 0.9717 - department_output_loss: 0.1118 - loss: 0.1480 - val_attrition_output_accuracy: 0.8125 - val_attrition_output_loss: 0.8258 - val_department_output_accuracy: 0.5408 - val_department_output_loss: 1.8849 - val_loss: 2.7818\n",
      "Epoch 73/100\n",
      "\u001b[1m35/35\u001b[0m \u001b[32m━━━━━━━━━━━━━━━━━━━━\u001b[0m\u001b[37m\u001b[0m \u001b[1m0s\u001b[0m 6ms/step - attrition_output_accuracy: 0.9937 - attrition_output_loss: 0.0372 - department_output_accuracy: 0.9780 - department_output_loss: 0.0888 - loss: 0.1260 - val_attrition_output_accuracy: 0.8560 - val_attrition_output_loss: 0.8913 - val_department_output_accuracy: 0.5299 - val_department_output_loss: 1.9019 - val_loss: 2.8638\n",
      "Epoch 74/100\n",
      "\u001b[1m35/35\u001b[0m \u001b[32m━━━━━━━━━━━━━━━━━━━━\u001b[0m\u001b[37m\u001b[0m \u001b[1m0s\u001b[0m 6ms/step - attrition_output_accuracy: 0.9939 - attrition_output_loss: 0.0255 - department_output_accuracy: 0.9801 - department_output_loss: 0.0847 - loss: 0.1102 - val_attrition_output_accuracy: 0.8451 - val_attrition_output_loss: 0.9035 - val_department_output_accuracy: 0.5217 - val_department_output_loss: 1.8916 - val_loss: 2.8524\n",
      "Epoch 75/100\n",
      "\u001b[1m35/35\u001b[0m \u001b[32m━━━━━━━━━━━━━━━━━━━━\u001b[0m\u001b[37m\u001b[0m \u001b[1m0s\u001b[0m 6ms/step - attrition_output_accuracy: 0.9961 - attrition_output_loss: 0.0187 - department_output_accuracy: 0.9842 - department_output_loss: 0.0913 - loss: 0.1100 - val_attrition_output_accuracy: 0.8370 - val_attrition_output_loss: 0.8903 - val_department_output_accuracy: 0.5190 - val_department_output_loss: 1.9490 - val_loss: 2.9016\n",
      "Epoch 76/100\n",
      "\u001b[1m35/35\u001b[0m \u001b[32m━━━━━━━━━━━━━━━━━━━━\u001b[0m\u001b[37m\u001b[0m \u001b[1m0s\u001b[0m 6ms/step - attrition_output_accuracy: 0.9998 - attrition_output_loss: 0.0148 - department_output_accuracy: 0.9805 - department_output_loss: 0.0818 - loss: 0.0966 - val_attrition_output_accuracy: 0.8587 - val_attrition_output_loss: 0.9539 - val_department_output_accuracy: 0.5679 - val_department_output_loss: 1.9365 - val_loss: 2.9642\n",
      "Epoch 77/100\n",
      "\u001b[1m35/35\u001b[0m \u001b[32m━━━━━━━━━━━━━━━━━━━━\u001b[0m\u001b[37m\u001b[0m \u001b[1m0s\u001b[0m 6ms/step - attrition_output_accuracy: 0.9958 - attrition_output_loss: 0.0189 - department_output_accuracy: 0.9847 - department_output_loss: 0.0800 - loss: 0.0988 - val_attrition_output_accuracy: 0.8614 - val_attrition_output_loss: 0.9423 - val_department_output_accuracy: 0.5652 - val_department_output_loss: 1.9545 - val_loss: 2.9744\n",
      "Epoch 78/100\n",
      "\u001b[1m35/35\u001b[0m \u001b[32m━━━━━━━━━━━━━━━━━━━━\u001b[0m\u001b[37m\u001b[0m \u001b[1m0s\u001b[0m 6ms/step - attrition_output_accuracy: 0.9972 - attrition_output_loss: 0.0146 - department_output_accuracy: 0.9755 - department_output_loss: 0.1003 - loss: 0.1149 - val_attrition_output_accuracy: 0.8451 - val_attrition_output_loss: 0.9001 - val_department_output_accuracy: 0.5190 - val_department_output_loss: 2.0241 - val_loss: 2.9827\n",
      "Epoch 79/100\n",
      "\u001b[1m35/35\u001b[0m \u001b[32m━━━━━━━━━━━━━━━━━━━━\u001b[0m\u001b[37m\u001b[0m \u001b[1m0s\u001b[0m 6ms/step - attrition_output_accuracy: 0.9999 - attrition_output_loss: 0.0112 - department_output_accuracy: 0.9846 - department_output_loss: 0.0795 - loss: 0.0906 - val_attrition_output_accuracy: 0.8614 - val_attrition_output_loss: 0.9087 - val_department_output_accuracy: 0.5217 - val_department_output_loss: 1.9905 - val_loss: 2.9610\n",
      "Epoch 80/100\n",
      "\u001b[1m35/35\u001b[0m \u001b[32m━━━━━━━━━━━━━━━━━━━━\u001b[0m\u001b[37m\u001b[0m \u001b[1m0s\u001b[0m 6ms/step - attrition_output_accuracy: 0.9995 - attrition_output_loss: 0.0121 - department_output_accuracy: 0.9874 - department_output_loss: 0.0754 - loss: 0.0874 - val_attrition_output_accuracy: 0.8261 - val_attrition_output_loss: 0.8995 - val_department_output_accuracy: 0.5190 - val_department_output_loss: 2.0468 - val_loss: 3.0152\n",
      "Epoch 81/100\n",
      "\u001b[1m35/35\u001b[0m \u001b[32m━━━━━━━━━━━━━━━━━━━━\u001b[0m\u001b[37m\u001b[0m \u001b[1m0s\u001b[0m 6ms/step - attrition_output_accuracy: 0.9999 - attrition_output_loss: 0.0115 - department_output_accuracy: 0.9905 - department_output_loss: 0.0640 - loss: 0.0755 - val_attrition_output_accuracy: 0.8533 - val_attrition_output_loss: 0.9003 - val_department_output_accuracy: 0.5245 - val_department_output_loss: 2.0851 - val_loss: 3.0547\n",
      "Epoch 82/100\n",
      "\u001b[1m35/35\u001b[0m \u001b[32m━━━━━━━━━━━━━━━━━━━━\u001b[0m\u001b[37m\u001b[0m \u001b[1m0s\u001b[0m 6ms/step - attrition_output_accuracy: 0.9991 - attrition_output_loss: 0.0099 - department_output_accuracy: 0.9938 - department_output_loss: 0.0594 - loss: 0.0694 - val_attrition_output_accuracy: 0.8397 - val_attrition_output_loss: 0.9066 - val_department_output_accuracy: 0.5082 - val_department_output_loss: 2.1092 - val_loss: 3.0828\n",
      "Epoch 83/100\n",
      "\u001b[1m35/35\u001b[0m \u001b[32m━━━━━━━━━━━━━━━━━━━━\u001b[0m\u001b[37m\u001b[0m \u001b[1m0s\u001b[0m 6ms/step - attrition_output_accuracy: 1.0000 - attrition_output_loss: 0.0082 - department_output_accuracy: 0.9942 - department_output_loss: 0.0595 - loss: 0.0677 - val_attrition_output_accuracy: 0.8505 - val_attrition_output_loss: 0.9346 - val_department_output_accuracy: 0.5245 - val_department_output_loss: 2.1106 - val_loss: 3.1150\n",
      "Epoch 84/100\n",
      "\u001b[1m35/35\u001b[0m \u001b[32m━━━━━━━━━━━━━━━━━━━━\u001b[0m\u001b[37m\u001b[0m \u001b[1m0s\u001b[0m 6ms/step - attrition_output_accuracy: 1.0000 - attrition_output_loss: 0.0071 - department_output_accuracy: 0.9968 - department_output_loss: 0.0547 - loss: 0.0618 - val_attrition_output_accuracy: 0.8370 - val_attrition_output_loss: 0.9147 - val_department_output_accuracy: 0.5054 - val_department_output_loss: 2.1904 - val_loss: 3.1725\n",
      "Epoch 85/100\n",
      "\u001b[1m35/35\u001b[0m \u001b[32m━━━━━━━━━━━━━━━━━━━━\u001b[0m\u001b[37m\u001b[0m \u001b[1m0s\u001b[0m 6ms/step - attrition_output_accuracy: 0.9977 - attrition_output_loss: 0.0122 - department_output_accuracy: 0.9945 - department_output_loss: 0.0576 - loss: 0.0698 - val_attrition_output_accuracy: 0.8533 - val_attrition_output_loss: 1.0232 - val_department_output_accuracy: 0.5027 - val_department_output_loss: 2.2077 - val_loss: 3.3030\n",
      "Epoch 86/100\n",
      "\u001b[1m35/35\u001b[0m \u001b[32m━━━━━━━━━━━━━━━━━━━━\u001b[0m\u001b[37m\u001b[0m \u001b[1m0s\u001b[0m 6ms/step - attrition_output_accuracy: 0.9988 - attrition_output_loss: 0.0091 - department_output_accuracy: 0.9939 - department_output_loss: 0.0564 - loss: 0.0655 - val_attrition_output_accuracy: 0.8478 - val_attrition_output_loss: 0.9776 - val_department_output_accuracy: 0.5272 - val_department_output_loss: 2.1791 - val_loss: 3.2285\n",
      "Epoch 87/100\n",
      "\u001b[1m35/35\u001b[0m \u001b[32m━━━━━━━━━━━━━━━━━━━━\u001b[0m\u001b[37m\u001b[0m \u001b[1m0s\u001b[0m 7ms/step - attrition_output_accuracy: 1.0000 - attrition_output_loss: 0.0068 - department_output_accuracy: 0.9963 - department_output_loss: 0.0590 - loss: 0.0657 - val_attrition_output_accuracy: 0.8424 - val_attrition_output_loss: 0.9522 - val_department_output_accuracy: 0.5163 - val_department_output_loss: 2.1853 - val_loss: 3.2060\n",
      "Epoch 88/100\n",
      "\u001b[1m35/35\u001b[0m \u001b[32m━━━━━━━━━━━━━━━━━━━━\u001b[0m\u001b[37m\u001b[0m \u001b[1m0s\u001b[0m 6ms/step - attrition_output_accuracy: 0.9979 - attrition_output_loss: 0.0104 - department_output_accuracy: 0.9910 - department_output_loss: 0.0576 - loss: 0.0681 - val_attrition_output_accuracy: 0.8478 - val_attrition_output_loss: 1.0007 - val_department_output_accuracy: 0.5272 - val_department_output_loss: 2.1868 - val_loss: 3.2632\n",
      "Epoch 89/100\n",
      "\u001b[1m35/35\u001b[0m \u001b[32m━━━━━━━━━━━━━━━━━━━━\u001b[0m\u001b[37m\u001b[0m \u001b[1m0s\u001b[0m 6ms/step - attrition_output_accuracy: 0.9967 - attrition_output_loss: 0.0110 - department_output_accuracy: 0.9956 - department_output_loss: 0.0473 - loss: 0.0582 - val_attrition_output_accuracy: 0.8641 - val_attrition_output_loss: 1.0072 - val_department_output_accuracy: 0.5543 - val_department_output_loss: 2.2505 - val_loss: 3.3339\n",
      "Epoch 90/100\n",
      "\u001b[1m35/35\u001b[0m \u001b[32m━━━━━━━━━━━━━━━━━━━━\u001b[0m\u001b[37m\u001b[0m \u001b[1m0s\u001b[0m 6ms/step - attrition_output_accuracy: 0.9995 - attrition_output_loss: 0.0104 - department_output_accuracy: 0.9887 - department_output_loss: 0.0556 - loss: 0.0661 - val_attrition_output_accuracy: 0.8397 - val_attrition_output_loss: 0.9799 - val_department_output_accuracy: 0.5245 - val_department_output_loss: 2.2711 - val_loss: 3.3257\n",
      "Epoch 91/100\n",
      "\u001b[1m35/35\u001b[0m \u001b[32m━━━━━━━━━━━━━━━━━━━━\u001b[0m\u001b[37m\u001b[0m \u001b[1m0s\u001b[0m 6ms/step - attrition_output_accuracy: 0.9968 - attrition_output_loss: 0.0130 - department_output_accuracy: 0.9943 - department_output_loss: 0.0471 - loss: 0.0601 - val_attrition_output_accuracy: 0.8560 - val_attrition_output_loss: 1.1045 - val_department_output_accuracy: 0.5543 - val_department_output_loss: 2.2559 - val_loss: 3.4445\n",
      "Epoch 92/100\n",
      "\u001b[1m35/35\u001b[0m \u001b[32m━━━━━━━━━━━━━━━━━━━━\u001b[0m\u001b[37m\u001b[0m \u001b[1m0s\u001b[0m 6ms/step - attrition_output_accuracy: 0.9980 - attrition_output_loss: 0.0106 - department_output_accuracy: 0.9937 - department_output_loss: 0.0405 - loss: 0.0511 - val_attrition_output_accuracy: 0.8451 - val_attrition_output_loss: 1.0330 - val_department_output_accuracy: 0.5679 - val_department_output_loss: 2.3339 - val_loss: 3.4608\n",
      "Epoch 93/100\n",
      "\u001b[1m35/35\u001b[0m \u001b[32m━━━━━━━━━━━━━━━━━━━━\u001b[0m\u001b[37m\u001b[0m \u001b[1m0s\u001b[0m 6ms/step - attrition_output_accuracy: 0.9995 - attrition_output_loss: 0.0053 - department_output_accuracy: 0.9950 - department_output_loss: 0.0418 - loss: 0.0471 - val_attrition_output_accuracy: 0.8261 - val_attrition_output_loss: 0.9953 - val_department_output_accuracy: 0.4973 - val_department_output_loss: 2.3897 - val_loss: 3.4517\n",
      "Epoch 94/100\n",
      "\u001b[1m35/35\u001b[0m \u001b[32m━━━━━━━━━━━━━━━━━━━━\u001b[0m\u001b[37m\u001b[0m \u001b[1m0s\u001b[0m 6ms/step - attrition_output_accuracy: 1.0000 - attrition_output_loss: 0.0064 - department_output_accuracy: 0.9977 - department_output_loss: 0.0383 - loss: 0.0446 - val_attrition_output_accuracy: 0.8451 - val_attrition_output_loss: 1.0620 - val_department_output_accuracy: 0.5299 - val_department_output_loss: 2.3590 - val_loss: 3.5057\n",
      "Epoch 95/100\n",
      "\u001b[1m35/35\u001b[0m \u001b[32m━━━━━━━━━━━━━━━━━━━━\u001b[0m\u001b[37m\u001b[0m \u001b[1m0s\u001b[0m 6ms/step - attrition_output_accuracy: 1.0000 - attrition_output_loss: 0.0055 - department_output_accuracy: 0.9932 - department_output_loss: 0.0390 - loss: 0.0445 - val_attrition_output_accuracy: 0.8451 - val_attrition_output_loss: 1.0639 - val_department_output_accuracy: 0.5326 - val_department_output_loss: 2.4137 - val_loss: 3.5563\n",
      "Epoch 96/100\n",
      "\u001b[1m35/35\u001b[0m \u001b[32m━━━━━━━━━━━━━━━━━━━━\u001b[0m\u001b[37m\u001b[0m \u001b[1m0s\u001b[0m 6ms/step - attrition_output_accuracy: 1.0000 - attrition_output_loss: 0.0039 - department_output_accuracy: 0.9969 - department_output_loss: 0.0333 - loss: 0.0371 - val_attrition_output_accuracy: 0.8451 - val_attrition_output_loss: 1.0255 - val_department_output_accuracy: 0.5190 - val_department_output_loss: 2.4072 - val_loss: 3.5068\n",
      "Epoch 97/100\n",
      "\u001b[1m35/35\u001b[0m \u001b[32m━━━━━━━━━━━━━━━━━━━━\u001b[0m\u001b[37m\u001b[0m \u001b[1m0s\u001b[0m 6ms/step - attrition_output_accuracy: 0.9998 - attrition_output_loss: 0.0053 - department_output_accuracy: 0.9961 - department_output_loss: 0.0365 - loss: 0.0418 - val_attrition_output_accuracy: 0.8587 - val_attrition_output_loss: 1.1205 - val_department_output_accuracy: 0.5380 - val_department_output_loss: 2.3865 - val_loss: 3.5918\n",
      "Epoch 98/100\n",
      "\u001b[1m35/35\u001b[0m \u001b[32m━━━━━━━━━━━━━━━━━━━━\u001b[0m\u001b[37m\u001b[0m \u001b[1m0s\u001b[0m 6ms/step - attrition_output_accuracy: 0.9967 - attrition_output_loss: 0.0123 - department_output_accuracy: 0.9953 - department_output_loss: 0.0326 - loss: 0.0448 - val_attrition_output_accuracy: 0.8587 - val_attrition_output_loss: 1.2095 - val_department_output_accuracy: 0.5353 - val_department_output_loss: 2.4420 - val_loss: 3.7359\n",
      "Epoch 99/100\n",
      "\u001b[1m35/35\u001b[0m \u001b[32m━━━━━━━━━━━━━━━━━━━━\u001b[0m\u001b[37m\u001b[0m \u001b[1m0s\u001b[0m 8ms/step - attrition_output_accuracy: 0.9899 - attrition_output_loss: 0.0312 - department_output_accuracy: 0.9953 - department_output_loss: 0.0400 - loss: 0.0712 - val_attrition_output_accuracy: 0.7826 - val_attrition_output_loss: 1.1959 - val_department_output_accuracy: 0.5272 - val_department_output_loss: 2.4023 - val_loss: 3.6750\n",
      "Epoch 100/100\n",
      "\u001b[1m35/35\u001b[0m \u001b[32m━━━━━━━━━━━━━━━━━━━━\u001b[0m\u001b[37m\u001b[0m \u001b[1m0s\u001b[0m 6ms/step - attrition_output_accuracy: 0.9648 - attrition_output_loss: 0.1109 - department_output_accuracy: 0.9938 - department_output_loss: 0.0483 - loss: 0.1592 - val_attrition_output_accuracy: 0.8641 - val_attrition_output_loss: 1.2898 - val_department_output_accuracy: 0.5679 - val_department_output_loss: 2.3925 - val_loss: 3.7641\n"
     ]
    },
    {
     "data": {
      "text/plain": [
       "<keras.src.callbacks.history.History at 0x14e2a9ca0>"
      ]
     },
     "execution_count": 15,
     "metadata": {},
     "output_type": "execute_result"
    }
   ],
   "source": [
    "# Train the model\n",
    "model.fit(X_train_scaled,\n",
    "          {'department_output': y_train_encoded_department,\n",
    "           'attrition_output': y_train_encoded_attrition},\n",
    "          epochs=100,\n",
    "          batch_size=32,\n",
    "          validation_data=(X_test_scaled,\n",
    "                           {'department_output': y_test_encoded_department,\n",
    "                            'attrition_output': y_test_encoded_attrition}))\n"
   ]
  },
  {
   "cell_type": "code",
   "execution_count": 16,
   "metadata": {
    "id": "VsMoaQlgGc3U"
   },
   "outputs": [
    {
     "name": "stdout",
     "output_type": "stream",
     "text": [
      "\u001b[1m12/12\u001b[0m \u001b[32m━━━━━━━━━━━━━━━━━━━━\u001b[0m\u001b[37m\u001b[0m \u001b[1m0s\u001b[0m 5ms/step - attrition_output_accuracy: 0.8535 - attrition_output_loss: 1.1790 - department_output_accuracy: 0.5690 - department_output_loss: 2.3605 - loss: 3.5521 \n"
     ]
    },
    {
     "data": {
      "text/plain": [
       "[3.764148235321045,\n",
       " 2.392493963241577,\n",
       " 1.2898133993148804,\n",
       " 0.864130437374115,\n",
       " 0.5679348111152649]"
      ]
     },
     "execution_count": 16,
     "metadata": {},
     "output_type": "execute_result"
    }
   ],
   "source": [
    "# Evaluate the model with the testing data\n",
    "results = model.evaluate(X_test_scaled, {\n",
    "        'department_output': y_test_encoded_department,\n",
    "        'attrition_output': y_test_encoded_attrition,\n",
    "    })\n",
    "results"
   ]
  },
  {
   "cell_type": "code",
   "execution_count": 17,
   "metadata": {
    "id": "ZlCtlHi0Vt54"
   },
   "outputs": [
    {
     "name": "stdout",
     "output_type": "stream",
     "text": [
      "Department Accuracy: 0.864130437374115\n",
      "Attrition Accuracy: 0.5679348111152649\n"
     ]
    },
    {
     "data": {
      "text/plain": [
       "[3.764148235321045,\n",
       " 2.392493963241577,\n",
       " 1.2898133993148804,\n",
       " 0.864130437374115,\n",
       " 0.5679348111152649]"
      ]
     },
     "execution_count": 17,
     "metadata": {},
     "output_type": "execute_result"
    }
   ],
   "source": [
    "# Print the accuracy for both department and attrition\n",
    "print(f\"Department Accuracy: {results[3]}\")\n",
    "print(f\"Attrition Accuracy: {results[4]}\")\n",
    "results"
   ]
  },
  {
   "cell_type": "markdown",
   "metadata": {
    "id": "eGSyfsZfWOQM"
   },
   "source": [
    "# Summary\n",
    "\n",
    "In the provided space below, briefly answer the following questions.\n",
    "\n",
    "1. Is accuracy the best metric to use on this data? Why or why not?\n",
    "\n",
    "2. What activation functions did you choose for your output layers, and why?\n",
    "\n",
    "3. Can you name a few ways that this model might be improved?"
   ]
  },
  {
   "cell_type": "markdown",
   "metadata": {
    "id": "pi9SLpFnWvbF"
   },
   "source": [
    "YOUR ANSWERS HERE\n",
    "\n",
    "1.  - Accuracy might not be the best metric here, because attrition class is highly imbalanced. Because no of Attrition = Yes is much smaller than  No's.  Therefore acciracy may be high but not useful in this case. In such cases, metrics like precision, recall, F1-score, or AUC-ROC might provide a better understanding of the model's performance.\n",
    "2.  - Department output -  Activation function used 'softmax' because department is a multiclass column and softmax is used for multiclass classification.\n",
    "    - Attrition output -  Activation function used 'sigmoid' because attrition is a binary column and sigmoid is best fit on binary classifications. \n",
    "3.  - Hyperparameter Tuning: Experiment with different hyperparameters such as the number of layers, number of neurons in each layer, learning rate, batch size, and number of epochs to find the optimal configuration.\n",
    "    \n",
    "    - Regularization**: Add dropout layers or L2 regularization to prevent overfitting.\n",
    "    - Feature Engineering**: Create new features or use feature selection techniques to improve the quality of the input data.\n",
    "    - Class Imbalance Handling**: Use techniques like oversampling, undersampling, or class weighting to address any class imbalance in the dataset.\n",
    "    - Ensemble Methods**: Combine the predictions of multiple models to improve overall performance."
   ]
  },
  {
   "cell_type": "markdown",
   "metadata": {
    "id": "g9MIqhG6Bs-k"
   },
   "source": []
  }
 ],
 "metadata": {
  "colab": {
   "provenance": [
    {
     "file_id": "1TqDiwGIgImG0Q7YOK9NSoMx3UDTpoyw2",
     "timestamp": 1736627967696
    }
   ]
  },
  "kernelspec": {
   "display_name": "base",
   "language": "python",
   "name": "python3"
  },
  "language_info": {
   "codemirror_mode": {
    "name": "ipython",
    "version": 3
   },
   "file_extension": ".py",
   "mimetype": "text/x-python",
   "name": "python",
   "nbconvert_exporter": "python",
   "pygments_lexer": "ipython3",
   "version": "3.12.2"
  }
 },
 "nbformat": 4,
 "nbformat_minor": 0
}
